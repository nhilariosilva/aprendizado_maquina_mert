{
 "cells": [
  {
   "cell_type": "code",
   "execution_count": 36,
   "id": "2a3514f5-3231-4520-8fce-142776f567a9",
   "metadata": {},
   "outputs": [],
   "source": [
    "# All the packages and manual MERT implemented stuff\n",
    "source(\"MERT_functions.R\")\n",
    "\n",
    "suppressMessages( library(arrow) )\n",
    "suppressMessages( library(readxl) )"
   ]
  },
  {
   "cell_type": "code",
   "execution_count": 49,
   "id": "3773d130-d1bd-4934-8979-7ce8f7ef96f3",
   "metadata": {},
   "outputs": [
    {
     "data": {
      "text/html": [
       "<table class=\"dataframe\">\n",
       "<caption>A tibble: 3 × 8</caption>\n",
       "<thead>\n",
       "\t<tr><th scope=col>cod_ibge</th><th scope=col>atividade_principal</th><th scope=col>pib_nominal</th><th scope=col>populacao</th><th scope=col>quantidade_total_vagas</th><th scope=col>vereadores</th><th scope=col>area</th><th scope=col>alunos_escola</th></tr>\n",
       "\t<tr><th scope=col>&lt;fct&gt;</th><th scope=col>&lt;fct&gt;</th><th scope=col>&lt;dbl&gt;</th><th scope=col>&lt;dbl&gt;</th><th scope=col>&lt;dbl&gt;</th><th scope=col>&lt;dbl&gt;</th><th scope=col>&lt;dbl&gt;</th><th scope=col>&lt;dbl&gt;</th></tr>\n",
       "</thead>\n",
       "<tbody>\n",
       "\t<tr><td>3500105</td><td>Demais serviços                                            </td><td>1054541</td><td>35023</td><td>2002</td><td> 9</td><td>411</td><td>2359</td></tr>\n",
       "\t<tr><td>3500204</td><td>Agricultura, inclusive apoio à agricultura e a pós colheita</td><td>  99734</td><td> 3571</td><td> 458</td><td> 9</td><td>211</td><td> 478</td></tr>\n",
       "\t<tr><td>3500303</td><td>Demais serviços                                            </td><td> 942708</td><td>35954</td><td>1471</td><td>13</td><td>474</td><td>3489</td></tr>\n",
       "</tbody>\n",
       "</table>\n"
      ],
      "text/latex": [
       "A tibble: 3 × 8\n",
       "\\begin{tabular}{llllllll}\n",
       " cod\\_ibge & atividade\\_principal & pib\\_nominal & populacao & quantidade\\_total\\_vagas & vereadores & area & alunos\\_escola\\\\\n",
       " <fct> & <fct> & <dbl> & <dbl> & <dbl> & <dbl> & <dbl> & <dbl>\\\\\n",
       "\\hline\n",
       "\t 3500105 & Demais serviços                                             & 1054541 & 35023 & 2002 &  9 & 411 & 2359\\\\\n",
       "\t 3500204 & Agricultura, inclusive apoio à agricultura e a pós colheita &   99734 &  3571 &  458 &  9 & 211 &  478\\\\\n",
       "\t 3500303 & Demais serviços                                             &  942708 & 35954 & 1471 & 13 & 474 & 3489\\\\\n",
       "\\end{tabular}\n"
      ],
      "text/markdown": [
       "\n",
       "A tibble: 3 × 8\n",
       "\n",
       "| cod_ibge &lt;fct&gt; | atividade_principal &lt;fct&gt; | pib_nominal &lt;dbl&gt; | populacao &lt;dbl&gt; | quantidade_total_vagas &lt;dbl&gt; | vereadores &lt;dbl&gt; | area &lt;dbl&gt; | alunos_escola &lt;dbl&gt; |\n",
       "|---|---|---|---|---|---|---|---|\n",
       "| 3500105 | Demais serviços                                             | 1054541 | 35023 | 2002 |  9 | 411 | 2359 |\n",
       "| 3500204 | Agricultura, inclusive apoio à agricultura e a pós colheita |   99734 |  3571 |  458 |  9 | 211 |  478 |\n",
       "| 3500303 | Demais serviços                                             |  942708 | 35954 | 1471 | 13 | 474 | 3489 |\n",
       "\n"
      ],
      "text/plain": [
       "  cod_ibge atividade_principal                                        \n",
       "1 3500105  Demais serviços                                            \n",
       "2 3500204  Agricultura, inclusive apoio à agricultura e a pós colheita\n",
       "3 3500303  Demais serviços                                            \n",
       "  pib_nominal populacao quantidade_total_vagas vereadores area alunos_escola\n",
       "1 1054541     35023     2002                    9         411  2359         \n",
       "2   99734      3571      458                    9         211   478         \n",
       "3  942708     35954     1471                   13         474  3489         "
      ]
     },
     "metadata": {},
     "output_type": "display_data"
    }
   ],
   "source": [
    "head(info_municipios,3)"
   ]
  },
  {
   "cell_type": "code",
   "execution_count": 50,
   "id": "92c0771e-4d52-41b1-b1c5-59ab4564ba65",
   "metadata": {},
   "outputs": [
    {
     "data": {
      "text/html": [
       "<table class=\"dataframe\">\n",
       "<caption>A data.frame: 3 × 13</caption>\n",
       "<thead>\n",
       "\t<tr><th></th><th scope=col>cod_ibge</th><th scope=col>ds_municipio</th><th scope=col>ds_orgao</th><th scope=col>id_despesa</th><th scope=col>ano_exercicio</th><th scope=col>vl_despesa</th><th scope=col>atividade_principal</th><th scope=col>pib_nominal</th><th scope=col>populacao</th><th scope=col>quantidade_total_vagas</th><th scope=col>vereadores</th><th scope=col>area</th><th scope=col>alunos_escola</th></tr>\n",
       "\t<tr><th></th><th scope=col>&lt;fct&gt;</th><th scope=col>&lt;chr&gt;</th><th scope=col>&lt;chr&gt;</th><th scope=col>&lt;chr&gt;</th><th scope=col>&lt;int&gt;</th><th scope=col>&lt;dbl&gt;</th><th scope=col>&lt;fct&gt;</th><th scope=col>&lt;dbl&gt;</th><th scope=col>&lt;dbl&gt;</th><th scope=col>&lt;dbl&gt;</th><th scope=col>&lt;dbl&gt;</th><th scope=col>&lt;dbl&gt;</th><th scope=col>&lt;dbl&gt;</th></tr>\n",
       "</thead>\n",
       "<tbody>\n",
       "\t<tr><th scope=row>1</th><td>3500105</td><td>Adamantina</td><td>CENTRO UNIVERSITÁRIO DE ADAMANTINA</td><td>0101</td><td>2010</td><td>  395839.09</td><td>Demais serviços</td><td>1054541</td><td>35023</td><td>2002</td><td>9</td><td>411</td><td>2359</td></tr>\n",
       "\t<tr><th scope=row>2</th><td>3500105</td><td>Adamantina</td><td>CENTRO UNIVERSITÁRIO DE ADAMANTINA</td><td>0301</td><td>2010</td><td>   35329.42</td><td>Demais serviços</td><td>1054541</td><td>35023</td><td>2002</td><td>9</td><td>411</td><td>2359</td></tr>\n",
       "\t<tr><th scope=row>3</th><td>3500105</td><td>Adamantina</td><td>CENTRO UNIVERSITÁRIO DE ADAMANTINA</td><td>1101</td><td>2010</td><td>18075650.35</td><td>Demais serviços</td><td>1054541</td><td>35023</td><td>2002</td><td>9</td><td>411</td><td>2359</td></tr>\n",
       "</tbody>\n",
       "</table>\n"
      ],
      "text/latex": [
       "A data.frame: 3 × 13\n",
       "\\begin{tabular}{r|lllllllllllll}\n",
       "  & cod\\_ibge & ds\\_municipio & ds\\_orgao & id\\_despesa & ano\\_exercicio & vl\\_despesa & atividade\\_principal & pib\\_nominal & populacao & quantidade\\_total\\_vagas & vereadores & area & alunos\\_escola\\\\\n",
       "  & <fct> & <chr> & <chr> & <chr> & <int> & <dbl> & <fct> & <dbl> & <dbl> & <dbl> & <dbl> & <dbl> & <dbl>\\\\\n",
       "\\hline\n",
       "\t1 & 3500105 & Adamantina & CENTRO UNIVERSITÁRIO DE ADAMANTINA & 0101 & 2010 &   395839.09 & Demais serviços & 1054541 & 35023 & 2002 & 9 & 411 & 2359\\\\\n",
       "\t2 & 3500105 & Adamantina & CENTRO UNIVERSITÁRIO DE ADAMANTINA & 0301 & 2010 &    35329.42 & Demais serviços & 1054541 & 35023 & 2002 & 9 & 411 & 2359\\\\\n",
       "\t3 & 3500105 & Adamantina & CENTRO UNIVERSITÁRIO DE ADAMANTINA & 1101 & 2010 & 18075650.35 & Demais serviços & 1054541 & 35023 & 2002 & 9 & 411 & 2359\\\\\n",
       "\\end{tabular}\n"
      ],
      "text/markdown": [
       "\n",
       "A data.frame: 3 × 13\n",
       "\n",
       "| <!--/--> | cod_ibge &lt;fct&gt; | ds_municipio &lt;chr&gt; | ds_orgao &lt;chr&gt; | id_despesa &lt;chr&gt; | ano_exercicio &lt;int&gt; | vl_despesa &lt;dbl&gt; | atividade_principal &lt;fct&gt; | pib_nominal &lt;dbl&gt; | populacao &lt;dbl&gt; | quantidade_total_vagas &lt;dbl&gt; | vereadores &lt;dbl&gt; | area &lt;dbl&gt; | alunos_escola &lt;dbl&gt; |\n",
       "|---|---|---|---|---|---|---|---|---|---|---|---|---|---|\n",
       "| 1 | 3500105 | Adamantina | CENTRO UNIVERSITÁRIO DE ADAMANTINA | 0101 | 2010 |   395839.09 | Demais serviços | 1054541 | 35023 | 2002 | 9 | 411 | 2359 |\n",
       "| 2 | 3500105 | Adamantina | CENTRO UNIVERSITÁRIO DE ADAMANTINA | 0301 | 2010 |    35329.42 | Demais serviços | 1054541 | 35023 | 2002 | 9 | 411 | 2359 |\n",
       "| 3 | 3500105 | Adamantina | CENTRO UNIVERSITÁRIO DE ADAMANTINA | 1101 | 2010 | 18075650.35 | Demais serviços | 1054541 | 35023 | 2002 | 9 | 411 | 2359 |\n",
       "\n"
      ],
      "text/plain": [
       "  cod_ibge ds_municipio ds_orgao                           id_despesa\n",
       "1 3500105  Adamantina   CENTRO UNIVERSITÁRIO DE ADAMANTINA 0101      \n",
       "2 3500105  Adamantina   CENTRO UNIVERSITÁRIO DE ADAMANTINA 0301      \n",
       "3 3500105  Adamantina   CENTRO UNIVERSITÁRIO DE ADAMANTINA 1101      \n",
       "  ano_exercicio vl_despesa  atividade_principal pib_nominal populacao\n",
       "1 2010            395839.09 Demais serviços     1054541     35023    \n",
       "2 2010             35329.42 Demais serviços     1054541     35023    \n",
       "3 2010          18075650.35 Demais serviços     1054541     35023    \n",
       "  quantidade_total_vagas vereadores area alunos_escola\n",
       "1 2002                   9          411  2359         \n",
       "2 2002                   9          411  2359         \n",
       "3 2002                   9          411  2359         "
      ]
     },
     "metadata": {},
     "output_type": "display_data"
    }
   ],
   "source": [
    "info_municipios <- read_excel(\"Data/info_municipios.xlsx\")\n",
    "\n",
    "info_municipios$cod_ibge <- factor(info_municipios$cod_ibge)\n",
    "info_municipios$atividade_principal <- factor(info_municipios$atividade_principal)\n",
    "info_municipios <- info_municipios %>% select(cod_ibge, atividade_principal, pib_nominal, populacao, quantidade_total_vagas, vereadores, area, alunos_escola)\n",
    "\n",
    "df <- read_parquet(\"Data/data2010to2022_deflated.parquet\")\n",
    "\n",
    "df$cod_ibge <- factor(df$cod_ibge, levels = levels(info_municipios$cod_ibge))\n",
    "df <- merge(df, info_municipios, on = \"cod_ibge\")\n",
    "\n",
    "head(df, 3)"
   ]
  },
  {
   "cell_type": "code",
   "execution_count": 34,
   "id": "e1c6461a-6905-4f90-b8d3-7bfcd52978fc",
   "metadata": {},
   "outputs": [
    {
     "data": {
      "text/html": [
       "<table class=\"dataframe\">\n",
       "<caption>A data.frame: 3 × 6</caption>\n",
       "<thead>\n",
       "\t<tr><th></th><th scope=col>ids</th><th scope=col>cod_ibge</th><th scope=col>ds_orgao</th><th scope=col>id_despesa</th><th scope=col>ano_exercicio</th><th scope=col>vl_despesa</th></tr>\n",
       "\t<tr><th></th><th scope=col>&lt;int&gt;</th><th scope=col>&lt;chr&gt;</th><th scope=col>&lt;chr&gt;</th><th scope=col>&lt;chr&gt;</th><th scope=col>&lt;list&gt;</th><th scope=col>&lt;list&gt;</th></tr>\n",
       "</thead>\n",
       "<tbody>\n",
       "\t<tr><th scope=row>1</th><td>1</td><td>3500105</td><td>CENTRO UNIVERSITÁRIO DE ADAMANTINA</td><td>0101</td><td>2010, 2011, 2012, 2013, 2014, 2015, 2016, 2017, 2018, 2019, 2020, 2021, 2022</td><td>395839.1, 348831.7, 283607.7, 184368.7, 192036.1, 1580961.8, 1624274.9, 1683864.9, 1589171.1, 1602931.6, 1625335.3, 1346395.9, 1234774.1</td></tr>\n",
       "\t<tr><th scope=row>2</th><td>2</td><td>3500105</td><td>CENTRO UNIVERSITÁRIO DE ADAMANTINA</td><td>0301</td><td>2010, 2011, 2012, 2013, 2014, 2015, 2016, 2017, 2018, 2019, 2020, 2021, 2022</td><td>35329.42, 31010.99, 30304.01, 26272.16, 27109.21, 28489.60, 34558.81, 30639.90, 31634.26, 32609.79, 34321.61, 28667.90, 23820.15</td></tr>\n",
       "\t<tr><th scope=row>3</th><td>3</td><td>3500105</td><td>CENTRO UNIVERSITÁRIO DE ADAMANTINA</td><td>1101</td><td>2010, 2011, 2012, 2013, 2014, 2015, 2016, 2017, 2018, 2019, 2020, 2021, 2022</td><td>18075650, 15510074, 14545275, 13651045, 15308431, 16852914, 19364337, 21830750, 22110773, 24150379, 25402516, 21004560, 20206524</td></tr>\n",
       "</tbody>\n",
       "</table>\n"
      ],
      "text/latex": [
       "A data.frame: 3 × 6\n",
       "\\begin{tabular}{r|llllll}\n",
       "  & ids & cod\\_ibge & ds\\_orgao & id\\_despesa & ano\\_exercicio & vl\\_despesa\\\\\n",
       "  & <int> & <chr> & <chr> & <chr> & <list> & <list>\\\\\n",
       "\\hline\n",
       "\t1 & 1 & 3500105 & CENTRO UNIVERSITÁRIO DE ADAMANTINA & 0101 & 2010, 2011, 2012, 2013, 2014, 2015, 2016, 2017, 2018, 2019, 2020, 2021, 2022 & 395839.1, 348831.7, 283607.7, 184368.7, 192036.1, 1580961.8, 1624274.9, 1683864.9, 1589171.1, 1602931.6, 1625335.3, 1346395.9, 1234774.1\\\\\n",
       "\t2 & 2 & 3500105 & CENTRO UNIVERSITÁRIO DE ADAMANTINA & 0301 & 2010, 2011, 2012, 2013, 2014, 2015, 2016, 2017, 2018, 2019, 2020, 2021, 2022 & 35329.42, 31010.99, 30304.01, 26272.16, 27109.21, 28489.60, 34558.81, 30639.90, 31634.26, 32609.79, 34321.61, 28667.90, 23820.15\\\\\n",
       "\t3 & 3 & 3500105 & CENTRO UNIVERSITÁRIO DE ADAMANTINA & 1101 & 2010, 2011, 2012, 2013, 2014, 2015, 2016, 2017, 2018, 2019, 2020, 2021, 2022 & 18075650, 15510074, 14545275, 13651045, 15308431, 16852914, 19364337, 21830750, 22110773, 24150379, 25402516, 21004560, 20206524\\\\\n",
       "\\end{tabular}\n"
      ],
      "text/markdown": [
       "\n",
       "A data.frame: 3 × 6\n",
       "\n",
       "| <!--/--> | ids &lt;int&gt; | cod_ibge &lt;chr&gt; | ds_orgao &lt;chr&gt; | id_despesa &lt;chr&gt; | ano_exercicio &lt;list&gt; | vl_despesa &lt;list&gt; |\n",
       "|---|---|---|---|---|---|---|\n",
       "| 1 | 1 | 3500105 | CENTRO UNIVERSITÁRIO DE ADAMANTINA | 0101 | 2010, 2011, 2012, 2013, 2014, 2015, 2016, 2017, 2018, 2019, 2020, 2021, 2022 | 395839.1, 348831.7, 283607.7, 184368.7, 192036.1, 1580961.8, 1624274.9, 1683864.9, 1589171.1, 1602931.6, 1625335.3, 1346395.9, 1234774.1 |\n",
       "| 2 | 2 | 3500105 | CENTRO UNIVERSITÁRIO DE ADAMANTINA | 0301 | 2010, 2011, 2012, 2013, 2014, 2015, 2016, 2017, 2018, 2019, 2020, 2021, 2022 | 35329.42, 31010.99, 30304.01, 26272.16, 27109.21, 28489.60, 34558.81, 30639.90, 31634.26, 32609.79, 34321.61, 28667.90, 23820.15 |\n",
       "| 3 | 3 | 3500105 | CENTRO UNIVERSITÁRIO DE ADAMANTINA | 1101 | 2010, 2011, 2012, 2013, 2014, 2015, 2016, 2017, 2018, 2019, 2020, 2021, 2022 | 18075650, 15510074, 14545275, 13651045, 15308431, 16852914, 19364337, 21830750, 22110773, 24150379, 25402516, 21004560, 20206524 |\n",
       "\n"
      ],
      "text/plain": [
       "  ids cod_ibge ds_orgao                           id_despesa\n",
       "1 1   3500105  CENTRO UNIVERSITÁRIO DE ADAMANTINA 0101      \n",
       "2 2   3500105  CENTRO UNIVERSITÁRIO DE ADAMANTINA 0301      \n",
       "3 3   3500105  CENTRO UNIVERSITÁRIO DE ADAMANTINA 1101      \n",
       "  ano_exercicio                                                               \n",
       "1 2010, 2011, 2012, 2013, 2014, 2015, 2016, 2017, 2018, 2019, 2020, 2021, 2022\n",
       "2 2010, 2011, 2012, 2013, 2014, 2015, 2016, 2017, 2018, 2019, 2020, 2021, 2022\n",
       "3 2010, 2011, 2012, 2013, 2014, 2015, 2016, 2017, 2018, 2019, 2020, 2021, 2022\n",
       "  vl_despesa                                                                                                                              \n",
       "1 395839.1, 348831.7, 283607.7, 184368.7, 192036.1, 1580961.8, 1624274.9, 1683864.9, 1589171.1, 1602931.6, 1625335.3, 1346395.9, 1234774.1\n",
       "2 35329.42, 31010.99, 30304.01, 26272.16, 27109.21, 28489.60, 34558.81, 30639.90, 31634.26, 32609.79, 34321.61, 28667.90, 23820.15        \n",
       "3 18075650, 15510074, 14545275, 13651045, 15308431, 16852914, 19364337, 21830750, 22110773, 24150379, 25402516, 21004560, 20206524        "
      ]
     },
     "metadata": {},
     "output_type": "display_data"
    }
   ],
   "source": [
    "df_grouped <- df %>% group_by(cod_ibge, ds_orgao, id_despesa) %>% summarise(\n",
    "    ano_exercicio = list(ano_exercicio),\n",
    "    vl_despesa = list(vl_despesa),\n",
    "    .groups = \"drop\"\n",
    ")\n",
    "\n",
    "# Number of subjects\n",
    "N <- nrow(df_grouped)\n",
    "ids <- 1:N\n",
    "df_grouped <- cbind(ids, df_grouped) %>% as.data.frame\n",
    "\n",
    "head(df_grouped, 3)"
   ]
  },
  {
   "cell_type": "code",
   "execution_count": null,
   "id": "81279d20-6fbd-4e5a-bf30-60d64488dc00",
   "metadata": {},
   "outputs": [],
   "source": [
    "Ys <- df_grouped$vl_despesa\n",
    "\n",
    "# Recover all the matrices Xi from every subject (intercept in this case)\n",
    "Xis <- apply(df_grouped, 1, function(row){\n",
    "    dfi <- as.data.frame(row) %>% unnest(cols = c(\"vl_despesa\", \"ano_exercicio\"))\n",
    "    Xi <- model.matrix(Y ~ t, data = dfi)\n",
    "    list(Xi)\n",
    "}) %>% unlist(recursive = FALSE)\n",
    "\n",
    "# Recover all the matrices Zi from every subject according to the desired model (random intercept in this case)\n",
    "Zis <- apply(df_grouped, 1, function(row){\n",
    "    dfi <- as.data.frame(row) %>% unnest(cols = c(\"Y\", \"t\"))\n",
    "    Zi <- model.matrix(Y ~ 1, data = dfi)\n",
    "    list(Zi)\n",
    "}) %>% unlist(recursive = FALSE)"
   ]
  }
 ],
 "metadata": {
  "kernelspec": {
   "display_name": "R",
   "language": "R",
   "name": "ir"
  },
  "language_info": {
   "codemirror_mode": "r",
   "file_extension": ".r",
   "mimetype": "text/x-r-source",
   "name": "R",
   "pygments_lexer": "r",
   "version": "4.3.1"
  }
 },
 "nbformat": 4,
 "nbformat_minor": 5
}
