{
 "cells": [
  {
   "cell_type": "code",
   "execution_count": 1,
   "id": "17a364ed-34cd-49f8-83b7-19b4333a9b24",
   "metadata": {},
   "outputs": [],
   "source": [
    "suppressMessages( library(dplyr) ) # Manipulações de funções\n",
    "suppressMessages( library(tidyverse) )\n",
    "suppressMessages( library(mvtnorm) ) # Manipulações de funções\n",
    "suppressMessages( library(tidyr) ) # Manipulações de funções\n",
    "\n",
    "suppressMessages( library(arrow) ) # parquet\n",
    "suppressMessages( library(snow) ) # parallel apply, sapply, lapply\n",
    "suppressMessages( library(readxl) ) # read excel\n",
    "\n",
    "source(\"MERT_functions.R\")\n",
    "\n",
    "# Regression trees\n",
    "suppressMessages( library(rpart) )\n",
    "\n",
    "# Pacotes para a construção de gráficos\n",
    "suppressMessages( library(ggplot2) )\n",
    "suppressMessages( library(cowplot) )\n",
    "suppressMessages( library(latex2exp) )\n",
    "suppressMessages( library(GGally) )\n",
    "\n",
    "# Configurações padrão para os gráficos do ggplot2 no notebook\n",
    "t = theme(plot.title = element_text(size=26, hjust=0.5),\n",
    "          axis.title = element_text(size=20),\n",
    "          axis.text = element_text(size=16),\n",
    "          legend.title = element_text(size = 20),\n",
    "          legend.text = element_text(size = 16),\n",
    "          plot.subtitle = element_text(size = 18, face=\"bold\"))\n",
    "theme_set(theme_minimal()+t)\n",
    "\n",
    "set.seed(11218201)"
   ]
  },
  {
   "cell_type": "code",
   "execution_count": 2,
   "id": "4302349b-5e21-45b5-8a87-ed635b70fcdf",
   "metadata": {},
   "outputs": [],
   "source": [
    "overall_time <- Sys.time()"
   ]
  },
  {
   "cell_type": "code",
   "execution_count": 3,
   "id": "4ed1216a-19fe-4dab-bcbb-c0c69b9e1f7f",
   "metadata": {},
   "outputs": [
    {
     "data": {
      "text/html": [
       "<table class=\"dataframe\">\n",
       "<caption>A tibble: 3 × 7</caption>\n",
       "<thead>\n",
       "\t<tr><th scope=col>ds_municipio</th><th scope=col>ds_orgao</th><th scope=col>cod_despesa</th><th scope=col>ano_exercicio</th><th scope=col>tp_orgao</th><th scope=col>vl_despesa</th><th scope=col>vl_despesa_defl</th></tr>\n",
       "\t<tr><th scope=col>&lt;chr&gt;</th><th scope=col>&lt;chr&gt;</th><th scope=col>&lt;chr&gt;</th><th scope=col>&lt;dbl&gt;</th><th scope=col>&lt;chr&gt;</th><th scope=col>&lt;dbl&gt;</th><th scope=col>&lt;dbl&gt;</th></tr>\n",
       "</thead>\n",
       "<tbody>\n",
       "\t<tr><td>adamantina</td><td>camara municipal de adamantina</td><td>0101</td><td>2011</td><td>camara municipal</td><td> 58989.28</td><td>112201.0</td></tr>\n",
       "\t<tr><td>adamantina</td><td>camara municipal de adamantina</td><td>0301</td><td>2011</td><td>camara municipal</td><td> 67840.79</td><td>129037.1</td></tr>\n",
       "\t<tr><td>adamantina</td><td>camara municipal de adamantina</td><td>1101</td><td>2011</td><td>camara municipal</td><td>225347.46</td><td>428623.8</td></tr>\n",
       "</tbody>\n",
       "</table>\n"
      ],
      "text/latex": [
       "A tibble: 3 × 7\n",
       "\\begin{tabular}{lllllll}\n",
       " ds\\_municipio & ds\\_orgao & cod\\_despesa & ano\\_exercicio & tp\\_orgao & vl\\_despesa & vl\\_despesa\\_defl\\\\\n",
       " <chr> & <chr> & <chr> & <dbl> & <chr> & <dbl> & <dbl>\\\\\n",
       "\\hline\n",
       "\t adamantina & camara municipal de adamantina & 0101 & 2011 & camara municipal &  58989.28 & 112201.0\\\\\n",
       "\t adamantina & camara municipal de adamantina & 0301 & 2011 & camara municipal &  67840.79 & 129037.1\\\\\n",
       "\t adamantina & camara municipal de adamantina & 1101 & 2011 & camara municipal & 225347.46 & 428623.8\\\\\n",
       "\\end{tabular}\n"
      ],
      "text/markdown": [
       "\n",
       "A tibble: 3 × 7\n",
       "\n",
       "| ds_municipio &lt;chr&gt; | ds_orgao &lt;chr&gt; | cod_despesa &lt;chr&gt; | ano_exercicio &lt;dbl&gt; | tp_orgao &lt;chr&gt; | vl_despesa &lt;dbl&gt; | vl_despesa_defl &lt;dbl&gt; |\n",
       "|---|---|---|---|---|---|---|\n",
       "| adamantina | camara municipal de adamantina | 0101 | 2011 | camara municipal |  58989.28 | 112201.0 |\n",
       "| adamantina | camara municipal de adamantina | 0301 | 2011 | camara municipal |  67840.79 | 129037.1 |\n",
       "| adamantina | camara municipal de adamantina | 1101 | 2011 | camara municipal | 225347.46 | 428623.8 |\n",
       "\n"
      ],
      "text/plain": [
       "  ds_municipio ds_orgao                       cod_despesa ano_exercicio\n",
       "1 adamantina   camara municipal de adamantina 0101        2011         \n",
       "2 adamantina   camara municipal de adamantina 0301        2011         \n",
       "3 adamantina   camara municipal de adamantina 1101        2011         \n",
       "  tp_orgao         vl_despesa vl_despesa_defl\n",
       "1 camara municipal  58989.28  112201.0       \n",
       "2 camara municipal  67840.79  129037.1       \n",
       "3 camara municipal 225347.46  428623.8       "
      ]
     },
     "metadata": {},
     "output_type": "display_data"
    },
    {
     "data": {
      "text/html": [
       "<table class=\"dataframe\">\n",
       "<caption>A tibble: 3 × 3</caption>\n",
       "<thead>\n",
       "\t<tr><th scope=col>ds_municipio</th><th scope=col>ano_exercicio</th><th scope=col>RCL_defl</th></tr>\n",
       "\t<tr><th scope=col>&lt;chr&gt;</th><th scope=col>&lt;dbl&gt;</th><th scope=col>&lt;dbl&gt;</th></tr>\n",
       "</thead>\n",
       "<tbody>\n",
       "\t<tr><td>adamantina</td><td>2010</td><td>143485107</td></tr>\n",
       "\t<tr><td>adolfo    </td><td>2010</td><td> 24941031</td></tr>\n",
       "\t<tr><td>aguai     </td><td>2010</td><td> 95722129</td></tr>\n",
       "</tbody>\n",
       "</table>\n"
      ],
      "text/latex": [
       "A tibble: 3 × 3\n",
       "\\begin{tabular}{lll}\n",
       " ds\\_municipio & ano\\_exercicio & RCL\\_defl\\\\\n",
       " <chr> & <dbl> & <dbl>\\\\\n",
       "\\hline\n",
       "\t adamantina & 2010 & 143485107\\\\\n",
       "\t adolfo     & 2010 &  24941031\\\\\n",
       "\t aguai      & 2010 &  95722129\\\\\n",
       "\\end{tabular}\n"
      ],
      "text/markdown": [
       "\n",
       "A tibble: 3 × 3\n",
       "\n",
       "| ds_municipio &lt;chr&gt; | ano_exercicio &lt;dbl&gt; | RCL_defl &lt;dbl&gt; |\n",
       "|---|---|---|\n",
       "| adamantina | 2010 | 143485107 |\n",
       "| adolfo     | 2010 |  24941031 |\n",
       "| aguai      | 2010 |  95722129 |\n",
       "\n"
      ],
      "text/plain": [
       "  ds_municipio ano_exercicio RCL_defl \n",
       "1 adamantina   2010          143485107\n",
       "2 adolfo       2010           24941031\n",
       "3 aguai        2010           95722129"
      ]
     },
     "metadata": {},
     "output_type": "display_data"
    },
    {
     "data": {
      "text/html": [
       "<table class=\"dataframe\">\n",
       "<caption>A tibble: 3 × 8</caption>\n",
       "<thead>\n",
       "\t<tr><th scope=col>ds_municipio</th><th scope=col>atividade_principal</th><th scope=col>pib_nominal</th><th scope=col>populacao</th><th scope=col>quantidade_total_vagas</th><th scope=col>vereadores</th><th scope=col>area</th><th scope=col>alunos_escola</th></tr>\n",
       "\t<tr><th scope=col>&lt;chr&gt;</th><th scope=col>&lt;chr&gt;</th><th scope=col>&lt;dbl&gt;</th><th scope=col>&lt;dbl&gt;</th><th scope=col>&lt;dbl&gt;</th><th scope=col>&lt;dbl&gt;</th><th scope=col>&lt;dbl&gt;</th><th scope=col>&lt;dbl&gt;</th></tr>\n",
       "</thead>\n",
       "<tbody>\n",
       "\t<tr><td>adamantina</td><td>demais servicos                                            </td><td>1054541</td><td>35023</td><td>2002</td><td> 9</td><td>411</td><td>2359</td></tr>\n",
       "\t<tr><td>adolfo    </td><td>agricultura, inclusive apoio a agricultura e a pos colheita</td><td>  99734</td><td> 3571</td><td> 458</td><td> 9</td><td>211</td><td> 478</td></tr>\n",
       "\t<tr><td>aguai     </td><td>demais servicos                                            </td><td> 942708</td><td>35954</td><td>1471</td><td>13</td><td>474</td><td>3489</td></tr>\n",
       "</tbody>\n",
       "</table>\n"
      ],
      "text/latex": [
       "A tibble: 3 × 8\n",
       "\\begin{tabular}{llllllll}\n",
       " ds\\_municipio & atividade\\_principal & pib\\_nominal & populacao & quantidade\\_total\\_vagas & vereadores & area & alunos\\_escola\\\\\n",
       " <chr> & <chr> & <dbl> & <dbl> & <dbl> & <dbl> & <dbl> & <dbl>\\\\\n",
       "\\hline\n",
       "\t adamantina & demais servicos                                             & 1054541 & 35023 & 2002 &  9 & 411 & 2359\\\\\n",
       "\t adolfo     & agricultura, inclusive apoio a agricultura e a pos colheita &   99734 &  3571 &  458 &  9 & 211 &  478\\\\\n",
       "\t aguai      & demais servicos                                             &  942708 & 35954 & 1471 & 13 & 474 & 3489\\\\\n",
       "\\end{tabular}\n"
      ],
      "text/markdown": [
       "\n",
       "A tibble: 3 × 8\n",
       "\n",
       "| ds_municipio &lt;chr&gt; | atividade_principal &lt;chr&gt; | pib_nominal &lt;dbl&gt; | populacao &lt;dbl&gt; | quantidade_total_vagas &lt;dbl&gt; | vereadores &lt;dbl&gt; | area &lt;dbl&gt; | alunos_escola &lt;dbl&gt; |\n",
       "|---|---|---|---|---|---|---|---|\n",
       "| adamantina | demais servicos                                             | 1054541 | 35023 | 2002 |  9 | 411 | 2359 |\n",
       "| adolfo     | agricultura, inclusive apoio a agricultura e a pos colheita |   99734 |  3571 |  458 |  9 | 211 |  478 |\n",
       "| aguai      | demais servicos                                             |  942708 | 35954 | 1471 | 13 | 474 | 3489 |\n",
       "\n"
      ],
      "text/plain": [
       "  ds_municipio atividade_principal                                        \n",
       "1 adamantina   demais servicos                                            \n",
       "2 adolfo       agricultura, inclusive apoio a agricultura e a pos colheita\n",
       "3 aguai        demais servicos                                            \n",
       "  pib_nominal populacao quantidade_total_vagas vereadores area alunos_escola\n",
       "1 1054541     35023     2002                    9         411  2359         \n",
       "2   99734      3571      458                    9         211   478         \n",
       "3  942708     35954     1471                   13         474  3489         "
      ]
     },
     "metadata": {},
     "output_type": "display_data"
    }
   ],
   "source": [
    "df <- read_parquet(\"Data/year_data.parquet\")\n",
    "df_rcl <- read_excel(\"Data/rcl_municipios_deflated.xlsx\")\n",
    "info_municipios <- read_excel(\"Data/info_municipios.xlsx\")\n",
    "\n",
    "df_rcl <- df_rcl %>% select(ds_municipio, ano_exercicio, RCL_defl)\n",
    "info_municipios <- info_municipios %>% select(ds_municipio, atividade_principal, pib_nominal, populacao,\n",
    "                                              quantidade_total_vagas, vereadores, area, alunos_escola)\n",
    "\n",
    "head(df, 3)\n",
    "head(df_rcl,3)\n",
    "head(info_municipios,3)"
   ]
  },
  {
   "cell_type": "code",
   "execution_count": 4,
   "id": "7a83a125-3ae7-4fff-8217-3f99201e4bf3",
   "metadata": {},
   "outputs": [
    {
     "data": {
      "text/html": [
       "<table class=\"dataframe\">\n",
       "<caption>A tibble: 4 × 8</caption>\n",
       "<thead>\n",
       "\t<tr><th scope=col>ds_municipio</th><th scope=col>atividade_principal</th><th scope=col>pib_nominal</th><th scope=col>populacao</th><th scope=col>quantidade_total_vagas</th><th scope=col>vereadores</th><th scope=col>area</th><th scope=col>alunos_escola</th></tr>\n",
       "\t<tr><th scope=col>&lt;chr&gt;</th><th scope=col>&lt;chr&gt;</th><th scope=col>&lt;dbl&gt;</th><th scope=col>&lt;dbl&gt;</th><th scope=col>&lt;dbl&gt;</th><th scope=col>&lt;dbl&gt;</th><th scope=col>&lt;dbl&gt;</th><th scope=col>&lt;dbl&gt;</th></tr>\n",
       "</thead>\n",
       "<tbody>\n",
       "\t<tr><td>adamantina</td><td>demais servicos                                            </td><td>-0.17344558</td><td>-0.1394286</td><td> 0.01443816</td><td>-0.5388542</td><td> 0.08971652</td><td>-0.24601596</td></tr>\n",
       "\t<tr><td>adolfo    </td><td>agricultura, inclusive apoio a agricultura e a pos colheita</td><td>-0.31728839</td><td>-0.4007474</td><td>-0.36750238</td><td>-0.5388542</td><td>-0.54114485</td><td>-0.45157834</td></tr>\n",
       "\t<tr><td>aguai     </td><td>demais servicos                                            </td><td>-0.19029336</td><td>-0.1316934</td><td>-0.11691575</td><td> 0.6950022</td><td> 0.28843785</td><td>-0.12252554</td></tr>\n",
       "\t<tr><td>agudos    </td><td>industrias de transformacao                                </td><td>-0.02151688</td><td>-0.1228116</td><td> 0.15568690</td><td> 0.6950022</td><td> 1.84035683</td><td>-0.05990606</td></tr>\n",
       "</tbody>\n",
       "</table>\n"
      ],
      "text/latex": [
       "A tibble: 4 × 8\n",
       "\\begin{tabular}{llllllll}\n",
       " ds\\_municipio & atividade\\_principal & pib\\_nominal & populacao & quantidade\\_total\\_vagas & vereadores & area & alunos\\_escola\\\\\n",
       " <chr> & <chr> & <dbl> & <dbl> & <dbl> & <dbl> & <dbl> & <dbl>\\\\\n",
       "\\hline\n",
       "\t adamantina & demais servicos                                             & -0.17344558 & -0.1394286 &  0.01443816 & -0.5388542 &  0.08971652 & -0.24601596\\\\\n",
       "\t adolfo     & agricultura, inclusive apoio a agricultura e a pos colheita & -0.31728839 & -0.4007474 & -0.36750238 & -0.5388542 & -0.54114485 & -0.45157834\\\\\n",
       "\t aguai      & demais servicos                                             & -0.19029336 & -0.1316934 & -0.11691575 &  0.6950022 &  0.28843785 & -0.12252554\\\\\n",
       "\t agudos     & industrias de transformacao                                 & -0.02151688 & -0.1228116 &  0.15568690 &  0.6950022 &  1.84035683 & -0.05990606\\\\\n",
       "\\end{tabular}\n"
      ],
      "text/markdown": [
       "\n",
       "A tibble: 4 × 8\n",
       "\n",
       "| ds_municipio &lt;chr&gt; | atividade_principal &lt;chr&gt; | pib_nominal &lt;dbl&gt; | populacao &lt;dbl&gt; | quantidade_total_vagas &lt;dbl&gt; | vereadores &lt;dbl&gt; | area &lt;dbl&gt; | alunos_escola &lt;dbl&gt; |\n",
       "|---|---|---|---|---|---|---|---|\n",
       "| adamantina | demais servicos                                             | -0.17344558 | -0.1394286 |  0.01443816 | -0.5388542 |  0.08971652 | -0.24601596 |\n",
       "| adolfo     | agricultura, inclusive apoio a agricultura e a pos colheita | -0.31728839 | -0.4007474 | -0.36750238 | -0.5388542 | -0.54114485 | -0.45157834 |\n",
       "| aguai      | demais servicos                                             | -0.19029336 | -0.1316934 | -0.11691575 |  0.6950022 |  0.28843785 | -0.12252554 |\n",
       "| agudos     | industrias de transformacao                                 | -0.02151688 | -0.1228116 |  0.15568690 |  0.6950022 |  1.84035683 | -0.05990606 |\n",
       "\n"
      ],
      "text/plain": [
       "  ds_municipio atividade_principal                                        \n",
       "1 adamantina   demais servicos                                            \n",
       "2 adolfo       agricultura, inclusive apoio a agricultura e a pos colheita\n",
       "3 aguai        demais servicos                                            \n",
       "4 agudos       industrias de transformacao                                \n",
       "  pib_nominal populacao  quantidade_total_vagas vereadores area       \n",
       "1 -0.17344558 -0.1394286  0.01443816            -0.5388542  0.08971652\n",
       "2 -0.31728839 -0.4007474 -0.36750238            -0.5388542 -0.54114485\n",
       "3 -0.19029336 -0.1316934 -0.11691575             0.6950022  0.28843785\n",
       "4 -0.02151688 -0.1228116  0.15568690             0.6950022  1.84035683\n",
       "  alunos_escola\n",
       "1 -0.24601596  \n",
       "2 -0.45157834  \n",
       "3 -0.12252554  \n",
       "4 -0.05990606  "
      ]
     },
     "metadata": {},
     "output_type": "display_data"
    }
   ],
   "source": [
    "# Standardize municipal wise numeric variables\n",
    "info_municipios$pib_nominal <- (info_municipios$pib_nominal - mean(info_municipios$pib_nominal))/sd(info_municipios$pib_nominal)\n",
    "info_municipios$populacao <- (info_municipios$populacao - mean(info_municipios$populacao))/sd(info_municipios$populacao)\n",
    "info_municipios$quantidade_total_vagas <- (info_municipios$quantidade_total_vagas - mean(info_municipios$quantidade_total_vagas))/sd(info_municipios$quantidade_total_vagas)\n",
    "info_municipios$vereadores <- (info_municipios$vereadores - mean(info_municipios$vereadores))/sd(info_municipios$vereadores)\n",
    "info_municipios$area <- (info_municipios$area - mean(info_municipios$area))/sd(info_municipios$area)\n",
    "info_municipios$alunos_escola <- (info_municipios$alunos_escola - mean(info_municipios$alunos_escola))/sd(info_municipios$alunos_escola)\n",
    "head(info_municipios, 4)"
   ]
  },
  {
   "cell_type": "code",
   "execution_count": null,
   "id": "f836498b-b915-4ed2-abc7-7256a851c3f6",
   "metadata": {},
   "outputs": [],
   "source": [
    "df <- merge(df, info_municipios, by = \"ds_municipio\")\n",
    "df <- merge(df, df_rcl, by = c(\"ds_municipio\", \"ano_exercicio\"))\n",
    "\n",
    "head(df)"
   ]
  },
  {
   "cell_type": "markdown",
   "id": "1d0a89ba-e837-41ae-aa8f-55ed4f34d7b4",
   "metadata": {},
   "source": [
    "## Modeling"
   ]
  },
  {
   "cell_type": "markdown",
   "id": "9f30d561-ceac-4340-b675-535e4a9f1a92",
   "metadata": {},
   "source": [
    "For the modeling step, let's consider a subset of all the variables above. Also, we shall split the dataset into train and test components. For this to fit the predictive nature of this problem in time, the training set will be formed by observations up to 2017 and the test from 2018 up to 2021."
   ]
  },
  {
   "cell_type": "code",
   "execution_count": null,
   "id": "d2bca8df-e06a-4f8c-b7bd-d4aa378c0263",
   "metadata": {},
   "outputs": [],
   "source": [
    "anos_dict <- 0:10\n",
    "names(anos_dict) <- unique(df$ano_exercicio)\n",
    "anos_dict"
   ]
  },
  {
   "cell_type": "code",
   "execution_count": null,
   "id": "e6a1324f-20d9-4c69-8873-913bc451e0ef",
   "metadata": {},
   "outputs": [],
   "source": [
    "df_model <- df %>% select(ds_municipio, ds_orgao, cod_despesa, ano_exercicio, tp_orgao,\n",
    "                          RCL_defl, pib_nominal, populacao, quantidade_total_vagas, vereadores, area,\n",
    "                          vl_despesa_defl)\n",
    "# Set all year to indexes 0 to 10\n",
    "df_model$ano_exercicio <- df_model$ano_exercicio - 2011 \n",
    "\n",
    "head(df_model, 4)"
   ]
  },
  {
   "cell_type": "markdown",
   "id": "5eebf5e5-40db-4946-bc50-9302b98f3a01",
   "metadata": {},
   "source": [
    "As it can be seen, the triple (ds_municipio, ds_orgao, cod_despesa) forms a new individual (associated to each triple there is a time series of expenses). Even though it would be possible to group all the triples into a single index variable, it seems more reasonable to consider at least one of them as covariates for the model, as they are nested covariates. The ideal approach to this would be something similar to the structure given by Galecki (2013) (page 248), in which there are N first-level groups (indexed by $i = 1, \\dots, N$), each with $n_i$ second-level sub-groups (indexed by $j = 1, \\dots, n_i$), which contain $n_{ij}$ observations each. A linear model for this example could be given by\n",
    "\n",
    "\\begin{equation*}\n",
    "    Y_{ij} = X_{ij} \\beta + Z_{1,ij} b_i + Z_{2,ij} b_{ij} + \\varepsilon_{ij},\n",
    "\\end{equation*}\n",
    "\n",
    "given that $b_i \\sim N_{q_1}(0, D_1)$, $b_{ij} \\sim N_{q_2}(0, D_2)$ and $\\varepsilon \\sim N_{n_{ij}}(0, R_{ij})$.\n",
    "\n",
    "Note that in this case, since we have triples, it would be necessary another layer to this complex structure! For now this is not the most viable option. So in order to simplify this problem, let's at first consider that each individual is given by a triple but that the city is also a covariate for all of them. That way, even though essentially we suppose that different triples are independent from each other (clearly not the case), we insert a new covariate to account for part of the information loss associated with that hypothesis (at first I don't see a reason for it to be worse from the modelling perspective, as the information would not be lost wif we considered the variables in this way).\n"
   ]
  },
  {
   "cell_type": "code",
   "execution_count": null,
   "id": "d286ddb5-c636-47b5-ba6e-9610a1287b9d",
   "metadata": {},
   "outputs": [],
   "source": [
    "df_model <- df_model %>% group_by(ds_municipio, ds_orgao, cod_despesa) %>% mutate(id = cur_group_id()) %>% select(\n",
    "    id, ds_municipio, ds_orgao, cod_despesa, ano_exercicio, tp_orgao, RCL_defl,\n",
    "    pib_nominal, populacao, quantidade_total_vagas, vereadores, area, vl_despesa_defl\n",
    ") %>% arrange(id) %>% as.data.frame()\n",
    "head(df_model, 15)"
   ]
  },
  {
   "cell_type": "code",
   "execution_count": null,
   "id": "390daed6-1e2b-4fa3-81ab-8bd44cf21547",
   "metadata": {},
   "outputs": [],
   "source": [
    "id_correspondence <- df_model[!duplicated(df_model[,1:4]) , 1:4]\n",
    "head(id_correspondence, 4)"
   ]
  },
  {
   "cell_type": "code",
   "execution_count": null,
   "id": "4fd89f7d-b71e-4174-bbfc-17fc8115e0bc",
   "metadata": {},
   "outputs": [],
   "source": [
    "df_model <- df_model %>% select(id, ds_municipio, cod_despesa, ano_exercicio, tp_orgao, RCL_defl, pib_nominal, populacao, quantidade_total_vagas, vereadores, area, vl_despesa_defl)\n",
    "head(df_model, 4)"
   ]
  },
  {
   "cell_type": "markdown",
   "id": "bf5ee6b8-775e-4dda-b0e8-d095b4c3a4bf",
   "metadata": {},
   "source": [
    "# Models "
   ]
  },
  {
   "cell_type": "code",
   "execution_count": null,
   "id": "151f7ea4-7d7f-4c4e-ac08-178723ad0c7a",
   "metadata": {},
   "outputs": [],
   "source": [
    "df_grouped <- df_model %>% group_by(id) %>% summarise(\n",
    "    ds_municipio = first(ds_municipio),\n",
    "    cod_despesa = first(cod_despesa),\n",
    "    ano_exercicio = list(ano_exercicio),\n",
    "    vl_despesa_defl = list(vl_despesa_defl),\n",
    "    RCL_defl = list(RCL_defl),\n",
    "    pib_nominal = first(pib_nominal),\n",
    "    populacao = first(populacao), \n",
    "    quantidade_total_vagas = first(quantidade_total_vagas),\n",
    "    vereadores = first(vereadores),\n",
    "    area = first(area),\n",
    "    tp_orgao = first(tp_orgao),\n",
    "    size = n()\n",
    ")\n",
    "\n",
    "df_grouped <- df_grouped[df_grouped$tp_orgao %in% c(\"camara municipal\", \"prefeitura municipal\"), ]\n",
    "\n",
    "# df_grouped$vl_despesa_mean <- sapply(df_grouped$vl_despesa_defl, function(x){ mean(x) })\n",
    "# df_grouped$vl_despesa_sd <- sapply(df_grouped$vl_despesa_defl, function(x){ sd(x) })\n",
    "# df_grouped$vl_despesa_std <- sapply(df_grouped$vl_despesa_defl, function(x){ (x - mean(x)) / sd(x) })\n",
    "\n",
    "# Get only the subjects that has more that 8 observations\n",
    "df_grouped <- df_grouped %>% filter(size > 8)\n",
    "\n",
    "head(df_grouped, 4)"
   ]
  },
  {
   "cell_type": "markdown",
   "id": "9362cc2c-5f82-4ee9-9d44-879b32aeb158",
   "metadata": {},
   "source": [
    "In order to obtain a sample from the dataset to be used for training and testing, we should be careful to select a case in which the inside group variabilities is not present. For example, if we select two different expenses from the same city and public agents, with different expense id's, we would not be considering the variability of both ids inside the pair (city, public agent). In order to use a model which accounts for this inner variability, we should be considering a nested mixed effects model (The one mentioned above, in the modeling section). For future works this might be the ideal line of thought, but for now let's try considering a simpler model, trained with a smaller subset from the dataset."
   ]
  },
  {
   "cell_type": "code",
   "execution_count": null,
   "id": "35ad9972-4e03-4b44-b4d5-f1ef397bdba4",
   "metadata": {},
   "outputs": [],
   "source": [
    "ids <- df_grouped %>% select(id, ds_municipio, tp_orgao, cod_despesa) %>% group_by(ds_municipio, tp_orgao, cod_despesa)\n",
    "head(ids, 4)"
   ]
  },
  {
   "cell_type": "code",
   "execution_count": null,
   "id": "a37f2dcb-bec0-4abd-932f-78b0d56f5edd",
   "metadata": {},
   "outputs": [],
   "source": [
    "municipios <- unique(df_grouped$ds_municipio)\n",
    "\n",
    "# set.seed(11218201) # sample 1\n",
    "set.seed(23252) # sample 2\n",
    "N <- 250\n",
    "\n",
    "# Sample N ds_municipio with\n",
    "sample_ds_municipio <- sample(municipios, N, replace = FALSE)\n",
    "# For each ds_municipio, sample a different ds_orgao (prefeitura municipal or camara municipal)\n",
    "sample_tp_orgao <- sapply(sample_ds_municipio, function(municipio){\n",
    "    ids_municipio <- ids %>% filter(ds_municipio == municipio)\n",
    "    orgao <- sample(unique(ids_municipio$tp_orgao), 1)\n",
    "    orgao\n",
    "})\n",
    "# For each ds_municipio and ds_orgao sample a cod_despesa\n",
    "sample_cod_despesa <- sapply(1:N, function(i){\n",
    "    ids_municipio_orgao <- ids %>% filter(ds_municipio == sample_ds_municipio[i], tp_orgao == sample_tp_orgao[i])\n",
    "    cod_despesa <- sample(unique(ids_municipio_orgao$cod_despesa), 1)\n",
    "    cod_despesa\n",
    "})\n",
    "# For all the combinations, obtain the sampled ids! Just start using arrays in R for god's sake!!!\n",
    "sample_ids <- sapply(1:N, function(i){\n",
    "    ids_municipio_orgao_despesa <- ids %>% filter(ds_municipio == sample_ds_municipio[i], tp_orgao == sample_tp_orgao[i], cod_despesa == sample_cod_despesa[i])\n",
    "    ids_municipio_orgao_despesa$id\n",
    "})"
   ]
  },
  {
   "cell_type": "code",
   "execution_count": null,
   "id": "15c81a87-b797-4ead-a229-18fb19168cdb",
   "metadata": {},
   "outputs": [],
   "source": [
    "df_grouped_train <- df_grouped %>% filter(id %in% sample_ids)\n",
    "\n",
    "head(df_grouped_train, 2)"
   ]
  },
  {
   "cell_type": "code",
   "execution_count": null,
   "id": "aae95db9-ceb0-4a07-95fc-75979d392961",
   "metadata": {},
   "outputs": [],
   "source": [
    "anos_dict"
   ]
  },
  {
   "cell_type": "code",
   "execution_count": null,
   "id": "d062de6b-7e3a-4caf-a89e-0b60d73d1f3b",
   "metadata": {},
   "outputs": [],
   "source": [
    "df_model_train <- df_grouped_train %>% unnest(c(ano_exercicio, vl_despesa_defl, RCL_defl)) %>% arrange(id)\n",
    "\n",
    "# Pass the new observations (from 2019 to 2021) from the test set and remove them from the training set\n",
    "df_model_test <- df_model_train %>% filter(ano_exercicio > 6, ano_exercicio < 9) # 2018 and 2019\n",
    "df_model_train <- df_model_train %>% filter(ano_exercicio <= 6) # 2011-2017\n",
    "\n",
    "cat( \"Proportion test/train:\", dim(df_model_test)[1] / dim(df_model_train)[1])"
   ]
  },
  {
   "cell_type": "code",
   "execution_count": null,
   "id": "287f361e-9e10-4c3a-8598-f313926dfc5d",
   "metadata": {},
   "outputs": [],
   "source": [
    "# Regroup the data.frames for train and test\n",
    "df_grouped_train <- df_model_train %>% group_by(id) %>% summarise(\n",
    "    ds_municipio = first(ds_municipio),\n",
    "    cod_despesa = first(cod_despesa),\n",
    "    ano_exercicio = list(ano_exercicio),\n",
    "    vl_despesa_defl = list(vl_despesa_defl),\n",
    "    RCL_defl = list(RCL_defl),\n",
    "    pib_nominal = first(pib_nominal),\n",
    "    populacao = first(populacao), \n",
    "    quantidade_total_vagas = first(quantidade_total_vagas),\n",
    "    vereadores = first(vereadores),\n",
    "    area = first(area),\n",
    "    tp_orgao = first(tp_orgao)\n",
    ") %>% arrange(id)\n",
    "df_grouped_test <- df_model_test %>% group_by(id) %>% summarise(\n",
    "    ds_municipio = first(ds_municipio),\n",
    "    cod_despesa = first(cod_despesa),\n",
    "    ano_exercicio = list(ano_exercicio),\n",
    "    vl_despesa_defl = list(vl_despesa_defl),\n",
    "    RCL_defl = list(RCL_defl),\n",
    "    pib_nominal = first(pib_nominal),\n",
    "    populacao = first(populacao), \n",
    "    quantidade_total_vagas = first(quantidade_total_vagas),\n",
    "    vereadores = first(vereadores),\n",
    "    area = first(area),\n",
    "    tp_orgao = first(tp_orgao)\n",
    ") %>% arrange(id)\n",
    "\n",
    "head(df_grouped_train, 4)\n",
    "head(df_grouped_test, 4)"
   ]
  },
  {
   "cell_type": "markdown",
   "id": "aa42e421-8b2e-4ed4-99ab-52d1782ab88e",
   "metadata": {},
   "source": [
    "# Rescaling the variables"
   ]
  },
  {
   "cell_type": "markdown",
   "id": "7c8dabc1-b9b7-472f-8056-8a6a95bab563",
   "metadata": {},
   "source": [
    "In order to model all the expenses, let's first rescale the price variables with respect to their mean and standard deviation. To be more specific, all the time related prices will be rescaled according to their mean and standard deviation along time, so that all the expenses lies on a scale with mean zero and standard deviation equal to one. To do so, we must consider only the information related to the train dataset."
   ]
  },
  {
   "cell_type": "code",
   "execution_count": null,
   "id": "2d950923-1722-42ba-a063-4397cd79ad4f",
   "metadata": {},
   "outputs": [],
   "source": [
    "df_grouped_train$vl_despesa_mean <- sapply(df_grouped_train$vl_despesa_defl, function(vl_despesa){\n",
    "    vl_despesa <- unlist(vl_despesa)\n",
    "    mean(vl_despesa)\n",
    "})\n",
    "df_grouped_train$vl_despesa_sd <- sapply(df_grouped_train$vl_despesa_defl, function(vl_despesa){\n",
    "    vl_despesa <- unlist(vl_despesa)\n",
    "    sd(vl_despesa)\n",
    "})\n",
    "\n",
    "# Merge the mean and sd information on the test set\n",
    "df_grouped_test <- merge(\n",
    "    select(df_grouped_train, c(id, vl_despesa_mean, vl_despesa_sd)),\n",
    "    df_grouped_test,\n",
    "    by = \"id\", all = TRUE\n",
    ") %>% arrange(id)\n",
    "\n",
    "df_grouped_train$vl_despesa_std <- apply(df_grouped_train, 1, function(x){\n",
    "    vl_despesa <- x[[\"vl_despesa_defl\"]]\n",
    "    vl_despesa_mean <- x[[\"vl_despesa_mean\"]]\n",
    "    vl_despesa_sd <- x[[\"vl_despesa_sd\"]]\n",
    "    (vl_despesa - vl_despesa_mean) / vl_despesa_sd\n",
    "})\n",
    "df_grouped_test$vl_despesa_std <- apply(df_grouped_test, 1, function(x){\n",
    "    vl_despesa <- x[[\"vl_despesa_defl\"]]\n",
    "    vl_despesa_mean <- x[[\"vl_despesa_mean\"]]\n",
    "    vl_despesa_sd <- x[[\"vl_despesa_sd\"]]\n",
    "    (vl_despesa - vl_despesa_mean) / vl_despesa_sd\n",
    "})\n",
    "\n",
    "df_model_train <- df_grouped_train %>% unnest(c(ano_exercicio, vl_despesa_defl, RCL_defl, vl_despesa_std))\n",
    "df_model_test <- df_grouped_test %>% unnest(c(ano_exercicio, vl_despesa_defl, RCL_defl, vl_despesa_std))"
   ]
  },
  {
   "cell_type": "code",
   "execution_count": null,
   "id": "2eccb5a5-09c0-43e3-9631-dca5daa965bc",
   "metadata": {},
   "outputs": [],
   "source": [
    "df_rcl <- df_rcl %>% filter(ano_exercicio > 2010, ano_exercicio < 2020)\n",
    "df_rcl_train <- df_rcl %>% filter(ano_exercicio <= 2017)\n",
    "\n",
    "# Grouped RCL with all years\n",
    "df_rcl_grouped <- df_rcl %>% group_by(ds_municipio) %>% summarise(\n",
    "    ano_exercicio = list(ano_exercicio),\n",
    "    RCL_defl = list(RCL_defl)\n",
    ")\n",
    "\n",
    "# Grouped RCL with training years\n",
    "df_rcl_train_grouped <- df_rcl_train %>% group_by(ds_municipio) %>% summarise(\n",
    "    ano_exercicio = list(ano_exercicio),\n",
    "    RCL_defl = list(RCL_defl)\n",
    ")\n",
    "# Obtain means and standard deviations for all the cities\n",
    "df_rcl_train_grouped$RCL_mean <- sapply(df_rcl_train_grouped$RCL_defl, function(x){\n",
    "    mean(unlist(x))\n",
    "})\n",
    "df_rcl_train_grouped$RCL_sd <- sapply(df_rcl_train_grouped$RCL_defl, function(x){\n",
    "    sd(unlist(x))\n",
    "})\n",
    "\n",
    "# Merge the mean and standard deviation information with all RCL data\n",
    "df_rcl_grouped <- merge(\n",
    "    df_rcl_grouped,\n",
    "    select(df_rcl_train_grouped, c(ds_municipio, RCL_mean, RCL_sd)),\n",
    "    by = \"ds_municipio\"\n",
    ")\n",
    "\n",
    "df_rcl_grouped$RCL_std <- apply(df_rcl_grouped, 1, function(x){\n",
    "    RCL <- unlist( x[[\"RCL_defl\"]] )\n",
    "\n",
    "    RCL_mean <- x[[\"RCL_mean\"]]\n",
    "    RCL_sd <- x[[\"RCL_sd\"]]\n",
    "    \n",
    "    list( (RCL - RCL_mean) / RCL_sd )\n",
    "}) %>% unlist(recursive = FALSE)\n",
    "\n",
    "df_rcl <- df_rcl_grouped %>% select(ds_municipio, ano_exercicio, RCL_defl, RCL_std) %>% unnest(c(ano_exercicio, RCL_defl, RCL_std))\n",
    "df_rcl$ano_exercicio <- df_rcl$ano_exercicio - 2011\n",
    "\n",
    "head(df_rcl_grouped, 2)\n",
    "head(df_rcl, 2)"
   ]
  },
  {
   "cell_type": "code",
   "execution_count": null,
   "id": "e9c9d870-9f44-4d89-9d63-52b2b8ad0db1",
   "metadata": {},
   "outputs": [],
   "source": [
    "df_model_train <- merge(\n",
    "    df_model_train,\n",
    "    select(df_rcl, c(ds_municipio, ano_exercicio, RCL_std)),\n",
    "    by = c(\"ds_municipio\", \"ano_exercicio\")\n",
    ")\n",
    "df_model_test <- merge(\n",
    "    df_model_test,\n",
    "    select(df_rcl, c(ds_municipio, ano_exercicio, RCL_std)),\n",
    "    by = c(\"ds_municipio\", \"ano_exercicio\")\n",
    ")"
   ]
  },
  {
   "cell_type": "code",
   "execution_count": null,
   "id": "bbc4b514-9e08-4cb2-beae-3a2b4d8638db",
   "metadata": {},
   "outputs": [],
   "source": [
    "# Regroup the data.frames for train and test\n",
    "df_grouped_train <- df_model_train %>% group_by(id) %>% summarise(\n",
    "    ds_municipio = first(ds_municipio),\n",
    "    cod_despesa = first(cod_despesa),\n",
    "    ano_exercicio = list(ano_exercicio),\n",
    "    vl_despesa_defl = list(vl_despesa_defl),\n",
    "    vl_despesa_std = list(vl_despesa_std),\n",
    "    vl_despesa_mean = first(vl_despesa_mean),\n",
    "    vl_despesa_sd = first(vl_despesa_sd),\n",
    "    RCL_std = list(RCL_std),\n",
    "    pib_nominal = first(pib_nominal),\n",
    "    populacao = first(populacao), \n",
    "    quantidade_total_vagas = first(quantidade_total_vagas),\n",
    "    vereadores = first(vereadores),\n",
    "    area = first(area),\n",
    "    tp_orgao = first(tp_orgao)\n",
    ") %>% arrange(id)\n",
    "df_grouped_test <- df_model_test %>% group_by(id) %>% summarise(\n",
    "    ds_municipio = first(ds_municipio),\n",
    "    cod_despesa = first(cod_despesa),\n",
    "    ano_exercicio = list(ano_exercicio),\n",
    "    vl_despesa_defl = list(vl_despesa_defl),\n",
    "    vl_despesa_std = list(vl_despesa_std),\n",
    "    vl_despesa_mean = first(vl_despesa_mean),\n",
    "    vl_despesa_sd = first(vl_despesa_sd),\n",
    "    RCL_std = list(RCL_std),\n",
    "    pib_nominal = first(pib_nominal),\n",
    "    populacao = first(populacao), \n",
    "    quantidade_total_vagas = first(quantidade_total_vagas),\n",
    "    vereadores = first(vereadores),\n",
    "    area = first(area),\n",
    "    tp_orgao = first(tp_orgao)\n",
    ") %>% arrange(id)\n",
    "\n",
    "head(df_grouped_train, 2)\n",
    "head(df_grouped_test, 2)"
   ]
  },
  {
   "cell_type": "code",
   "execution_count": null,
   "id": "abfe56b0-fdf1-44b7-9bbf-2943d3b4b270",
   "metadata": {},
   "outputs": [],
   "source": [
    "df_model_train_test_bond <- rbind(\n",
    "    df_model_train %>% filter(ano_exercicio == 6),\n",
    "    df_model_test %>% filter(ano_exercicio == 7)\n",
    ")\n",
    "\n",
    "g1 <- ggplot(df_model_train)+\n",
    "    geom_line(data = df_model_train, aes(x = ano_exercicio, y = vl_despesa_defl, group = id))+\n",
    "    geom_line(data = df_model_test, aes(x = ano_exercicio, y = vl_despesa_defl, group = id))+\n",
    "    geom_line(data = df_model_train_test_bond, aes(x = ano_exercicio, y = vl_despesa_defl, group = id), linetype = \"dashed\")\n",
    "\n",
    "options(repr.plot.width = 16, repr.plot.height = 8)\n",
    "plot_grid(g1)"
   ]
  },
  {
   "cell_type": "code",
   "execution_count": null,
   "id": "18ad0a53-860e-4654-ba3d-ffc62eeef028",
   "metadata": {},
   "outputs": [],
   "source": [
    "# !!!!!!!!!!!!! Execute this cell to remove the top 5 observations !!!!!!!!!!!!!\n",
    "\n",
    "# Get the top 5 biggest expenses and remove them from the datasets\n",
    "# biggest_ids <- ( df_grouped_train %>% arrange(desc(vl_despesa_mean)) )$id[1:5]\n",
    "# biggest_ids\n",
    "\n",
    "# df_grouped_train <- df_grouped_train %>% filter( !(id %in% biggest_ids) )\n",
    "# df_grouped_test <- df_grouped_test %>% filter( !(id %in% biggest_ids) )\n",
    "\n",
    "# df_model_train <- df_grouped_train %>% unnest(c(ano_exercicio, vl_despesa_defl, vl_despesa_std, RCL_std))\n",
    "# df_model_test <- df_grouped_test %>% unnest(c(ano_exercicio, vl_despesa_defl, vl_despesa_std, RCL_std))"
   ]
  },
  {
   "cell_type": "code",
   "execution_count": null,
   "id": "3f684952-006f-44ae-9d6d-dd87627b11be",
   "metadata": {},
   "outputs": [],
   "source": [
    "df_model_train_test_bond <- rbind(\n",
    "    df_model_train %>% filter(ano_exercicio == 6),\n",
    "    df_model_test %>% filter(ano_exercicio == 7)\n",
    ")\n",
    "\n",
    "g1 <- ggplot(df_model_train)+\n",
    "    geom_line(data = df_model_train, aes(x = ano_exercicio, y = vl_despesa_defl, group = id))+\n",
    "    geom_line(data = df_model_test, aes(x = ano_exercicio, y = vl_despesa_defl, group = id))+\n",
    "    geom_line(data = df_model_train_test_bond, aes(x = ano_exercicio, y = vl_despesa_defl, group = id), linetype = \"dashed\")\n",
    "\n",
    "options(repr.plot.width = 16, repr.plot.height = 8)\n",
    "plot_grid(g1)"
   ]
  },
  {
   "cell_type": "markdown",
   "id": "a23548ef-c2d5-4216-9f16-8c13d1e69958",
   "metadata": {},
   "source": [
    "# 1. MERT - Only time as covariate + random intercept"
   ]
  },
  {
   "cell_type": "code",
   "execution_count": null,
   "id": "f1cd8ec9-a5f6-41c5-bb65-ef7477de2667",
   "metadata": {},
   "outputs": [],
   "source": [
    "njobs <- parallel::detectCores()\n",
    "\n",
    "cl <- makeCluster(getOption(\"cl.cores\", njobs))\n",
    "clusterExport(cl, c(\"df_grouped\", \"unnest\"), envir = environment())\n",
    "\n",
    "start <- Sys.time()\n",
    "\n",
    "# The response variable by subject\n",
    "Ys_train <- df_grouped_train$vl_despesa_std\n",
    "Ys_test <- df_grouped_test$vl_despesa_std\n",
    "\n",
    "# Recover all the matrices Xi from every subject (only time and response variable)\n",
    "Xis_train1 <- parApply(cl, df_grouped_train, 1, function(row){\n",
    "    dfi <- unnest(as.data.frame(row), cols = c(\"vl_despesa_std\", \"ano_exercicio\"))\n",
    "    Xi <- model.matrix(vl_despesa_std ~ ano_exercicio, data = dfi)\n",
    "    list(Xi)\n",
    "}) %>% unlist(recursive = FALSE)\n",
    "Xis_test1 <- parApply(cl, df_grouped_test, 1, function(row){\n",
    "    dfi <- unnest(as.data.frame(row), cols = c(\"vl_despesa_std\", \"ano_exercicio\"))\n",
    "    Xi <- model.matrix(vl_despesa_std ~ ano_exercicio, data = dfi)\n",
    "    list(Xi)\n",
    "}) %>% unlist(recursive = FALSE)\n",
    "\n",
    "\n",
    "# Recover all the matrices Zi from every subject according to the desired model (random intercept in this case)\n",
    "Zis_train1 <- parApply(cl, df_grouped_train, 1, function(row){\n",
    "    dfi <- unnest(as.data.frame(row), cols = c(\"vl_despesa_std\", \"ano_exercicio\"))\n",
    "    Zi <- model.matrix(vl_despesa_std ~ 1, data = dfi)\n",
    "    list(Zi)\n",
    "}) %>% unlist(recursive = FALSE)\n",
    "Zis_test1 <- parApply(cl, df_grouped_test, 1, function(row){\n",
    "    dfi <- unnest(as.data.frame(row), cols = c(\"vl_despesa_std\", \"ano_exercicio\"))\n",
    "    Zi <- model.matrix(vl_despesa_std ~ 1, data = dfi)\n",
    "    list(Zi)\n",
    "}) %>% unlist(recursive = FALSE)\n",
    "\n",
    "Sys.time() - start\n",
    "\n",
    "# Encerra a atividade do cluster (evita vazamento de memória)\n",
    "stopCluster(cl)"
   ]
  },
  {
   "cell_type": "code",
   "execution_count": null,
   "id": "89102e1f-4659-47a3-9b76-bd0241de1bd1",
   "metadata": {},
   "outputs": [],
   "source": [
    "start <- Sys.time()\n",
    "    fit_MERT1 <- train_MERT(df_model_train, Y ~ ano_exercicio, Ys_train, Xis_train1, Zis_train1, 0.1, max_iter = 10000)\n",
    "time1 <- Sys.time() - start"
   ]
  },
  {
   "cell_type": "code",
   "execution_count": null,
   "id": "acef73dc-3490-452d-9459-0da4a748b7d9",
   "metadata": {},
   "outputs": [],
   "source": [
    "head(unlist(fit_MERT1$bi))\n",
    "tail(unlist(fit_MERT1$bi))"
   ]
  },
  {
   "cell_type": "code",
   "execution_count": null,
   "id": "e69e8e03-1942-408f-ac79-2b2739765203",
   "metadata": {},
   "outputs": [],
   "source": [
    "fit_MERT1$D"
   ]
  },
  {
   "cell_type": "code",
   "execution_count": null,
   "id": "eb9f47f3-2777-4465-9a99-6c3b28bd4635",
   "metadata": {},
   "outputs": [],
   "source": [
    "y_pred_grouped_train1 <- predict_MERT(fit_MERT1, Xis_train1, Zis_train1, df_grouped_train$id)\n",
    "y_pred_grouped_test1 <- predict_MERT(fit_MERT1, Xis_test1, Zis_test1, df_grouped_test$id)\n",
    "\n",
    "y_pred_train1 <- unlist(y_pred_grouped_train1)\n",
    "y_pred_test1 <- unlist(y_pred_grouped_test1)\n",
    "\n",
    "df_model_train$pred1 <- y_pred_train1\n",
    "df_model_test$pred1 <- y_pred_test1\n",
    "df_model_train_test_bond <- rbind(\n",
    "    df_model_train %>% filter(ano_exercicio == 6),\n",
    "    df_model_test %>% filter(ano_exercicio == 7)\n",
    ")\n",
    "\n",
    "g1 <- ggplot(df_model_train)+\n",
    "    geom_line(data = df_model_train, aes(x = ano_exercicio, y = vl_despesa_std, group = id))+\n",
    "    geom_line(data = df_model_train, aes(x = ano_exercicio, y = pred1, group = id), color = \"red\")+\n",
    "    geom_line(data = df_model_test, aes(x = ano_exercicio, y = vl_despesa_std, group = id))+\n",
    "    geom_line(data = df_model_test, aes(x = ano_exercicio, y = pred1, group = id), color = \"red\")+\n",
    "    geom_line(data = df_model_train_test_bond, aes(x = ano_exercicio, y = vl_despesa_std, group = id), linetype = \"dashed\")+\n",
    "    geom_line(data = df_model_train_test_bond, aes(x = ano_exercicio, y = pred1, group = id), color = \"red\", linetype = \"dashed\")\n",
    "\n",
    "options(repr.plot.width = 16, repr.plot.height = 8)\n",
    "plot_grid(g1)"
   ]
  },
  {
   "cell_type": "code",
   "execution_count": null,
   "id": "fda13168-57c2-46c6-a8a6-4e458eeaadaf",
   "metadata": {},
   "outputs": [],
   "source": [
    "df_model_train$pred1_og <- df_model_train$pred1*df_model_train$vl_despesa_sd + df_model_train$vl_despesa_mean\n",
    "df_model_test$pred1_og <- df_model_test$pred1*df_model_test$vl_despesa_sd + df_model_test$vl_despesa_mean\n",
    "df_model_train_test_bond <- rbind(\n",
    "    df_model_train %>% filter(ano_exercicio == 6),\n",
    "    df_model_test %>% filter(ano_exercicio == 7)\n",
    ")\n",
    "\n",
    "g1 <- ggplot(df_model_train)+\n",
    "    geom_line(data = df_model_train, aes(x = ano_exercicio, y = vl_despesa_defl, group = id))+\n",
    "    geom_line(data = df_model_train, aes(x = ano_exercicio, y = pred1_og, group = id), color = \"red\")+\n",
    "    geom_line(data = df_model_test, aes(x = ano_exercicio, y = vl_despesa_defl, group = id))+\n",
    "    geom_line(data = df_model_test, aes(x = ano_exercicio, y = pred1_og, group = id), color = \"red\")+\n",
    "    geom_line(data = df_model_train_test_bond, aes(x = ano_exercicio, y = vl_despesa_defl, group = id), linetype = \"dashed\")+\n",
    "    geom_line(data = df_model_train_test_bond, aes(x = ano_exercicio, y = pred1_og, group = id), color = \"red\", linetype = \"dashed\")\n",
    "\n",
    "options(repr.plot.width = 16, repr.plot.height = 8)\n",
    "plot_grid(g1)"
   ]
  },
  {
   "cell_type": "markdown",
   "id": "a37a156c-b951-480e-9f86-5f5ad3dbf18c",
   "metadata": {},
   "source": [
    "As we can observe, the fixed effects component seems not to be able to capture any time tendency, while the random intercepts seem to converge to the mean of each expense time series. This result seems to be equivalent to a mean model, in which for each subject we simply choose the mean along time as the predicted value."
   ]
  },
  {
   "cell_type": "markdown",
   "id": "44616f88-5dfa-484e-96b0-b97db7f74a41",
   "metadata": {},
   "source": [
    "# 2. MERT - Only time as covariate + random intercept and slope"
   ]
  },
  {
   "cell_type": "code",
   "execution_count": null,
   "id": "9ba625c5-6f3b-42b9-a252-23540ca57670",
   "metadata": {},
   "outputs": [],
   "source": [
    "Xis_train2 <- Xis_train1\n",
    "Xis_test2 <- Xis_test1\n",
    "\n",
    "cl <- makeCluster(getOption(\"cl.cores\", njobs))\n",
    "clusterExport(cl, c(\"df_grouped\", \"unnest\"), envir = environment())\n",
    "\n",
    "# Recover all the matrices Zi from every subject according to the desired model (random intercept in this case)\n",
    "Zis_train2 <- parApply(cl, df_grouped_train, 1, function(row){\n",
    "    dfi <- unnest(as.data.frame(row), cols = c(\"vl_despesa_defl\", \"ano_exercicio\"))\n",
    "    Zi <- model.matrix(vl_despesa_defl ~ 1 + ano_exercicio, data = dfi)\n",
    "    list(Zi)\n",
    "}) %>% unlist(recursive = FALSE)\n",
    "Zis_test2 <- parApply(cl, df_grouped_test, 1, function(row){\n",
    "    dfi <- unnest(as.data.frame(row), cols = c(\"vl_despesa_defl\", \"ano_exercicio\"))\n",
    "    Zi <- model.matrix(vl_despesa_defl ~ 1 + ano_exercicio, data = dfi)\n",
    "    list(Zi)\n",
    "}) %>% unlist(recursive = FALSE)\n",
    "\n",
    "stopCluster(cl)"
   ]
  },
  {
   "cell_type": "code",
   "execution_count": null,
   "id": "e931fce5-4f10-4c77-96eb-60c3b9a290a8",
   "metadata": {},
   "outputs": [],
   "source": [
    "start <- Sys.time()\n",
    "    fit_MERT2 <- train_MERT(df_model_train, Y ~ ano_exercicio, Ys_train, Xis_train2, Zis_train2, 0.1, max_iter = 10000)\n",
    "time2 <- Sys.time() - start"
   ]
  },
  {
   "cell_type": "code",
   "execution_count": null,
   "id": "303cdc5d-ac49-4fe4-b61c-f1002baeadbb",
   "metadata": {},
   "outputs": [],
   "source": [
    "head(fit_MERT2$bi, 3)\n",
    "tail(fit_MERT2$bi, 3)"
   ]
  },
  {
   "cell_type": "code",
   "execution_count": null,
   "id": "ab6edce6-0853-4267-8e08-f5a01d2ab1cb",
   "metadata": {},
   "outputs": [],
   "source": [
    "fit_MERT2$D\n",
    "cov2cor(fit_MERT2$D)"
   ]
  },
  {
   "cell_type": "code",
   "execution_count": null,
   "id": "65b553cc-91fa-4ebe-97ff-b2560a0304dd",
   "metadata": {},
   "outputs": [],
   "source": [
    "y_pred_grouped_train2 <- predict_MERT(fit_MERT2, Xis_train2, Zis_train2, df_grouped_train$id)\n",
    "y_pred_grouped_test2 <- predict_MERT(fit_MERT2, Xis_test2, Zis_test2, df_grouped_test$id)\n",
    "\n",
    "y_pred_train2 <- unlist(y_pred_grouped_train2)\n",
    "y_pred_test2 <- unlist(y_pred_grouped_test2)\n",
    "\n",
    "df_model_train$pred2 <- y_pred_train2\n",
    "df_model_test$pred2 <- y_pred_test2\n",
    "df_model_train_test_bond <- rbind(\n",
    "    df_model_train %>% filter(ano_exercicio == 6),\n",
    "    df_model_test %>% filter(ano_exercicio == 7)\n",
    ")\n",
    "\n",
    "g1 <- ggplot(df_model_train)+\n",
    "    geom_line(data = df_model_train, aes(x = ano_exercicio, y = vl_despesa_std, group = id))+\n",
    "    geom_line(data = df_model_train, aes(x = ano_exercicio, y = pred2, group = id), color = \"red\")+\n",
    "    geom_line(data = df_model_test, aes(x = ano_exercicio, y = vl_despesa_std, group = id))+\n",
    "    geom_line(data = df_model_test, aes(x = ano_exercicio, y = pred2, group = id), color = \"red\")+\n",
    "    geom_line(data = df_model_train_test_bond, aes(x = ano_exercicio, y = vl_despesa_std, group = id), linetype = \"dashed\")+\n",
    "    geom_line(data = df_model_train_test_bond, aes(x = ano_exercicio, y = pred2, group = id), color = \"red\", linetype = \"dashed\")\n",
    "    \n",
    "options(repr.plot.width = 16, repr.plot.height = 8)\n",
    "plot_grid(g1)"
   ]
  },
  {
   "cell_type": "code",
   "execution_count": null,
   "id": "1b612351-7621-4ff1-bbc3-7d1ae7f3ced1",
   "metadata": {},
   "outputs": [],
   "source": [
    "df_model_train$pred2_og <- df_model_train$pred2*df_model_train$vl_despesa_sd + df_model_train$vl_despesa_mean\n",
    "df_model_test$pred2_og <- df_model_test$pred2*df_model_test$vl_despesa_sd + df_model_test$vl_despesa_mean\n",
    "df_model_train_test_bond <- rbind(\n",
    "    df_model_train %>% filter(ano_exercicio == 6),\n",
    "    df_model_test %>% filter(ano_exercicio == 7)\n",
    ")\n",
    "\n",
    "g1 <- ggplot(df_model_train)+\n",
    "    geom_line(data = df_model_train, aes(x = ano_exercicio, y = vl_despesa_defl, group = id))+\n",
    "    geom_line(data = df_model_train, aes(x = ano_exercicio, y = pred2_og, group = id), color = \"red\")+\n",
    "    geom_line(data = df_model_test, aes(x = ano_exercicio, y = vl_despesa_defl, group = id))+\n",
    "    geom_line(data = df_model_test, aes(x = ano_exercicio, y = pred2_og, group = id), color = \"red\")+\n",
    "    geom_line(data = df_model_train_test_bond, aes(x = ano_exercicio, y = vl_despesa_defl, group = id), linetype = \"dashed\")+\n",
    "    geom_line(data = df_model_train_test_bond, aes(x = ano_exercicio, y = pred2_og, group = id), color = \"red\", linetype = \"dashed\")\n",
    "\n",
    "options(repr.plot.width = 16, repr.plot.height = 8)\n",
    "# plot_grid(g1, g2)\n",
    "plot_grid(g1)"
   ]
  },
  {
   "cell_type": "markdown",
   "id": "16a6bf59-f5ec-4d0b-9067-d432aabd1710",
   "metadata": {},
   "source": [
    "# 3. MERT - All the covariates + random intercept and slope"
   ]
  },
  {
   "cell_type": "code",
   "execution_count": null,
   "id": "b1627b70-5b8f-4424-9a31-32a76eab2557",
   "metadata": {},
   "outputs": [],
   "source": [
    "X_train3 <- model.matrix(vl_despesa_std ~ id + ano_exercicio + RCL_std + pib_nominal + populacao + quantidade_total_vagas + vereadores + area, data = df_model_train) %>% as.data.frame\n",
    "X_test3 <- model.matrix(vl_despesa_std ~ id + ano_exercicio + RCL_std + pib_nominal + populacao + quantidade_total_vagas + vereadores + area, data = df_model_test) %>% as.data.frame\n",
    "\n",
    "X_train3 <- cbind(X_train3, df_model_train$tp_orgao, df_model_train$ds_municipio, df_model_train$cod_despesa)\n",
    "colnames(X_train3)[(ncol(X_train3) - 2):ncol(X_train3)] <- c(\"tp_orgao\", \"ds_municipio\", \"cod_despesa\")\n",
    "X_test3 <- cbind(X_test3, df_model_test$tp_orgao, df_model_test$ds_municipio, df_model_test$cod_despesa)\n",
    "colnames(X_test3)[(ncol(X_test3) - 2):ncol(X_test3)] <- c(\"tp_orgao\", \"ds_municipio\", \"cod_despesa\")\n",
    "\n",
    "# Use the id to split the tables and discard it\n",
    "Xis_train3 <- X_train3 %>% split(f = X_train3$id)\n",
    "Xis_train3 <- lapply(Xis_train3, function(x){\n",
    "    x[,colnames(x) != \"id\"]\n",
    "})\n",
    "\n",
    "# Use the id to split the tables and discard it\n",
    "Xis_test3 <- X_test3 %>% split(f = X_test3$id)\n",
    "Xis_test3 <- lapply(Xis_test3, function(x){\n",
    "    x[,colnames(x) != \"id\"]\n",
    "})\n",
    "\n",
    "Zis_train3 <- Zis_train2\n",
    "Zis_test3 <- Zis_test2"
   ]
  },
  {
   "cell_type": "code",
   "execution_count": null,
   "id": "fc5ae39e-117e-42cc-9560-9cc7e3f6e666",
   "metadata": {},
   "outputs": [],
   "source": [
    "start <- Sys.time()\n",
    "    fit_MERT3 <- train_MERT(df_model_train,\n",
    "                            Y ~ ano_exercicio + RCL_std + pib_nominal + populacao + quantidade_total_vagas + vereadores + area + tp_orgao + ds_municipio + cod_despesa,\n",
    "                            Ys_train, Xis_train3, Zis_train3, 0.1, max_iter = 10000)\n",
    "time3 <- Sys.time() - start"
   ]
  },
  {
   "cell_type": "code",
   "execution_count": null,
   "id": "b01992a6-6220-426e-b30a-f87891783820",
   "metadata": {},
   "outputs": [],
   "source": [
    "fit_MERT3$D\n",
    "cov2cor(fit_MERT3$D)"
   ]
  },
  {
   "cell_type": "code",
   "execution_count": null,
   "id": "543d5984-e65f-4450-8a23-ef6127d7212d",
   "metadata": {},
   "outputs": [],
   "source": [
    "y_pred_grouped_train3 <- predict_MERT(fit_MERT3, Xis_train3, Zis_train3, df_grouped_train$id)\n",
    "y_pred_grouped_test3 <- predict_MERT(fit_MERT3, Xis_test3, Zis_test3, df_grouped_test$id)\n",
    "\n",
    "y_pred_train3 <- unlist(y_pred_grouped_train3)\n",
    "y_pred_test3 <- unlist(y_pred_grouped_test3)\n",
    "\n",
    "df_model_train$pred3 <- y_pred_train3\n",
    "df_model_test$pred3 <- y_pred_test3\n",
    "df_model_train_test_bond <- rbind(\n",
    "    df_model_train %>% filter(ano_exercicio == 6),\n",
    "    df_model_test %>% filter(ano_exercicio == 7)\n",
    ")\n",
    "\n",
    "g1 <- ggplot(df_model_train)+\n",
    "    geom_line(data = df_model_train, aes(x = ano_exercicio, y = vl_despesa_std, group = id))+\n",
    "    geom_line(data = df_model_train, aes(x = ano_exercicio, y = pred3, group = id), color = \"red\")+\n",
    "    geom_line(data = df_model_test, aes(x = ano_exercicio, y = vl_despesa_std, group = id))+\n",
    "    geom_line(data = df_model_test, aes(x = ano_exercicio, y = pred3, group = id), color = \"red\")+\n",
    "    geom_line(data = df_model_train_test_bond, aes(x = ano_exercicio, y = vl_despesa_std, group = id), linetype = \"dashed\")+\n",
    "    geom_line(data = df_model_train_test_bond, aes(x = ano_exercicio, y = pred3, group = id), color = \"red\", linetype = \"dashed\")\n",
    "    \n",
    "\n",
    "options(repr.plot.width = 16, repr.plot.height = 8)\n",
    "plot_grid(g1)"
   ]
  },
  {
   "cell_type": "code",
   "execution_count": null,
   "id": "1803c661-465d-4bb0-be8b-afcae46ab87b",
   "metadata": {},
   "outputs": [],
   "source": [
    "df_model_train$pred3_og <- df_model_train$pred3*df_model_train$vl_despesa_sd + df_model_train$vl_despesa_mean\n",
    "df_model_test$pred3_og <- df_model_test$pred3*df_model_test$vl_despesa_sd + df_model_test$vl_despesa_mean\n",
    "df_model_train_test_bond <- rbind(\n",
    "    df_model_train %>% filter(ano_exercicio == 6),\n",
    "    df_model_test %>% filter(ano_exercicio == 7)\n",
    ")\n",
    "\n",
    "g1 <- ggplot(df_model_train)+\n",
    "    geom_line(data = df_model_train, aes(x = ano_exercicio, y = vl_despesa_defl, group = id))+\n",
    "    geom_line(data = df_model_train, aes(x = ano_exercicio, y = pred3_og, group = id), color = \"red\")+\n",
    "    geom_line(data = df_model_test, aes(x = ano_exercicio, y = vl_despesa_defl, group = id))+\n",
    "    geom_line(data = df_model_test, aes(x = ano_exercicio, y = pred3_og, group = id), color = \"red\")+\n",
    "    geom_line(data = df_model_train_test_bond, aes(x = ano_exercicio, y = vl_despesa_defl, group = id), linetype = \"dashed\")+\n",
    "    geom_line(data = df_model_train_test_bond, aes(x = ano_exercicio, y = pred3_og, group = id), color = \"red\", linetype = \"dashed\")\n",
    "\n",
    "options(repr.plot.width = 16, repr.plot.height = 8)\n",
    "# plot_grid(g1, g2)\n",
    "plot_grid(g1)"
   ]
  },
  {
   "cell_type": "markdown",
   "id": "50c842f7-a74f-4e54-bec7-a2cbb07111c2",
   "metadata": {},
   "source": [
    "# 4. MERT - All the covariates + all numerical random effects"
   ]
  },
  {
   "cell_type": "code",
   "execution_count": null,
   "id": "2aa28a30-c681-4027-b6c2-26ae806795bc",
   "metadata": {},
   "outputs": [],
   "source": [
    "X_train4 <- model.matrix(vl_despesa_std ~ id + ano_exercicio + RCL_std + pib_nominal + populacao + quantidade_total_vagas + vereadores + area, data = df_model_train) %>% as.data.frame\n",
    "X_test4 <- model.matrix(vl_despesa_std ~ id + ano_exercicio + RCL_std + pib_nominal + populacao + quantidade_total_vagas + vereadores + area, data = df_model_test) %>% as.data.frame\n",
    "\n",
    "X_train4 <- cbind(X_train4, df_model_train$tp_orgao, df_model_train$ds_municipio, df_model_train$cod_despesa)\n",
    "colnames(X_train4)[(ncol(X_train4) - 2):ncol(X_train4)] <- c(\"tp_orgao\", \"ds_municipio\", \"cod_despesa\")\n",
    "X_test4 <- cbind(X_test4, df_model_test$tp_orgao, df_model_test$ds_municipio, df_model_test$cod_despesa)\n",
    "colnames(X_test4)[(ncol(X_test4) - 2):ncol(X_test4)] <- c(\"tp_orgao\", \"ds_municipio\", \"cod_despesa\")\n",
    "\n",
    "# Use the id to split the tables and discard it\n",
    "Xis_train4 <- X_train4 %>% split(f = X_train4$id)\n",
    "Xis_train4 <- lapply(Xis_train4, function(x){\n",
    "    x[,colnames(x) != \"id\"]\n",
    "})\n",
    "\n",
    "# Use the id to split the tables and discard it\n",
    "Xis_test4 <- X_test4 %>% split(f = X_test4$id)\n",
    "Xis_test4 <- lapply(Xis_test4, function(x){\n",
    "    x[,colnames(x) != \"id\"]\n",
    "})\n",
    "\n",
    "Z_train4 <- X_train4 %>% select(\"(Intercept)\", id, ano_exercicio, RCL_std, pib_nominal, populacao, quantidade_total_vagas, vereadores, area)\n",
    "# Use the id to split the tables and discard it\n",
    "Zis_train4 <- Z_train4 %>% split(f = Z_train4$id)\n",
    "Zis_train4 <- lapply(Zis_train4, function(x){\n",
    "    x[,colnames(x) != \"id\"] %>% as.matrix\n",
    "})\n",
    "\n",
    "\n",
    "Z_test4 <- X_test4 %>% select(\"(Intercept)\", id, ano_exercicio, RCL_std, pib_nominal, populacao, quantidade_total_vagas, vereadores, area)\n",
    "\n",
    "# Use the id to split the tables and discard it\n",
    "Zis_test4 <- Z_test4 %>% split(f = Z_test4$id)\n",
    "Zis_test4 <- lapply(Zis_test4, function(x){\n",
    "    x[,colnames(x) != \"id\"] %>% as.matrix\n",
    "})"
   ]
  },
  {
   "cell_type": "code",
   "execution_count": null,
   "id": "059a0da0-aa91-4538-b84e-0f32f616a301",
   "metadata": {},
   "outputs": [],
   "source": [
    "start <- Sys.time()\n",
    "    fit_MERT4 <- train_MERT(df_model_train,\n",
    "                            Y ~ ano_exercicio + RCL_std + pib_nominal + populacao + quantidade_total_vagas + vereadores + area + tp_orgao + ds_municipio + cod_despesa,\n",
    "                            Ys_train, Xis_train4, Zis_train4, 0.1, max_iter = 10000)\n",
    "time4 <- Sys.time() - start"
   ]
  },
  {
   "cell_type": "code",
   "execution_count": null,
   "id": "7ea07adf-d80d-4878-83d3-d395f5782a72",
   "metadata": {},
   "outputs": [],
   "source": [
    "fit_MERT4$D\n",
    "cov2cor(fit_MERT4$D)"
   ]
  },
  {
   "cell_type": "code",
   "execution_count": null,
   "id": "a122c188-1044-4d0b-9d2b-1479a9f315e1",
   "metadata": {},
   "outputs": [],
   "source": [
    "y_pred_grouped_train4 <- predict_MERT(fit_MERT4, Xis_train4, Zis_train4, df_grouped_train$id)\n",
    "y_pred_grouped_test4 <- predict_MERT(fit_MERT4, Xis_test4, Zis_test4, df_grouped_test$id)\n",
    "\n",
    "y_pred_train4 <- unlist(y_pred_grouped_train4)\n",
    "y_pred_test4 <- unlist(y_pred_grouped_test4)\n",
    "\n",
    "df_model_train$pred4 <- y_pred_train4\n",
    "df_model_test$pred4 <- y_pred_test4\n",
    "df_model_train_test_bond <- rbind(\n",
    "    df_model_train %>% filter(ano_exercicio == 6),\n",
    "    df_model_test %>% filter(ano_exercicio == 7)\n",
    ")\n",
    "\n",
    "g1 <- ggplot(df_model_train)+\n",
    "    geom_line(data = df_model_train, aes(x = ano_exercicio, y = vl_despesa_std, group = id))+\n",
    "    geom_line(data = df_model_train, aes(x = ano_exercicio, y = pred4, group = id), color = \"red\")+\n",
    "    geom_line(data = df_model_test, aes(x = ano_exercicio, y = vl_despesa_std, group = id))+\n",
    "    geom_line(data = df_model_test, aes(x = ano_exercicio, y = pred4, group = id), color = \"red\")+\n",
    "    geom_line(data = df_model_train_test_bond, aes(x = ano_exercicio, y = vl_despesa_std, group = id), linetype = \"dashed\")+\n",
    "    geom_line(data = df_model_train_test_bond, aes(x = ano_exercicio, y = pred4, group = id), color = \"red\", linetype = \"dashed\")\n",
    "\n",
    "options(repr.plot.width = 16, repr.plot.height = 8)\n",
    "plot_grid(g1)"
   ]
  },
  {
   "cell_type": "code",
   "execution_count": null,
   "id": "689765cf-2def-40e7-a78c-a39fbcc6b76a",
   "metadata": {},
   "outputs": [],
   "source": [
    "df_model_train$pred4_og <- df_model_train$pred4*df_model_train$vl_despesa_sd + df_model_train$vl_despesa_mean\n",
    "df_model_test$pred4_og <- df_model_test$pred4*df_model_test$vl_despesa_sd + df_model_test$vl_despesa_mean\n",
    "df_model_train_test_bond <- rbind(\n",
    "    df_model_train %>% filter(ano_exercicio == 6),\n",
    "    df_model_test %>% filter(ano_exercicio == 7)\n",
    ")\n",
    "\n",
    "g1 <- ggplot(df_model_train)+\n",
    "    geom_line(data = df_model_train, aes(x = ano_exercicio, y = vl_despesa_defl, group = id))+\n",
    "    geom_line(data = df_model_train, aes(x = ano_exercicio, y = pred4_og, group = id), color = \"red\")+\n",
    "    geom_line(data = df_model_test, aes(x = ano_exercicio, y = vl_despesa_defl, group = id))+\n",
    "    geom_line(data = df_model_test, aes(x = ano_exercicio, y = pred4_og, group = id), color = \"red\")+\n",
    "    geom_line(data = df_model_train_test_bond, aes(x = ano_exercicio, y = vl_despesa_defl, group = id), linetype = \"dashed\")+\n",
    "    geom_line(data = df_model_train_test_bond, aes(x = ano_exercicio, y = pred4_og, group = id), color = \"red\", linetype = \"dashed\")\n",
    "\n",
    "options(repr.plot.width = 16, repr.plot.height = 8)\n",
    "# plot_grid(g1, g2)\n",
    "plot_grid(g1)"
   ]
  },
  {
   "cell_type": "markdown",
   "id": "ab961d91-8776-4aec-9f71-c3f1f4479d06",
   "metadata": {},
   "source": [
    "# 5. MERF - Only time as covariate + random intercept"
   ]
  },
  {
   "cell_type": "code",
   "execution_count": null,
   "id": "c789e1b6-7aa1-4cc0-bf63-93105be49587",
   "metadata": {},
   "outputs": [],
   "source": [
    "start <- Sys.time()\n",
    "    fit_MERF5 <- train_MERF(df_model_train, Y ~ ano_exercicio, Ys_train, Xis_train1, Zis_train1, 0.1, max_iter = 10000)\n",
    "time5 <- Sys.time() - start"
   ]
  },
  {
   "cell_type": "code",
   "execution_count": null,
   "id": "33149f3c-7c0f-4338-81aa-a9b03a61aa7e",
   "metadata": {},
   "outputs": [],
   "source": [
    "fit_MERF5$D"
   ]
  },
  {
   "cell_type": "code",
   "execution_count": null,
   "id": "50c61dd8-affe-412c-9f64-29a1140bb7eb",
   "metadata": {},
   "outputs": [],
   "source": [
    "y_pred_grouped_train5 <- predict_MERF(fit_MERF5, Xis_train1, Zis_train1, df_grouped_train$id)\n",
    "y_pred_grouped_test5 <- predict_MERF(fit_MERF5, Xis_test1, Zis_test1, df_grouped_test$id)\n",
    "\n",
    "y_pred_train5 <- unlist(y_pred_grouped_train5)\n",
    "y_pred_test5 <- unlist(y_pred_grouped_test5)\n",
    "\n",
    "df_model_train$pred5 <- y_pred_train5\n",
    "df_model_test$pred5 <- y_pred_test5\n",
    "df_model_train_test_bond <- rbind(\n",
    "    df_model_train %>% filter(ano_exercicio == 6),\n",
    "    df_model_test %>% filter(ano_exercicio == 7)\n",
    ")\n",
    "\n",
    "g1 <- ggplot(df_model_train)+\n",
    "    geom_line(data = df_model_train, aes(x = ano_exercicio, y = vl_despesa_std, group = id))+\n",
    "    geom_line(data = df_model_train, aes(x = ano_exercicio, y = pred5, group = id), color = \"red\")+\n",
    "    geom_line(data = df_model_test, aes(x = ano_exercicio, y = vl_despesa_std, group = id))+\n",
    "    geom_line(data = df_model_test, aes(x = ano_exercicio, y = pred5, group = id), color = \"red\")+\n",
    "    geom_line(data = df_model_train_test_bond, aes(x = ano_exercicio, y = vl_despesa_std, group = id), linetype = \"dashed\")+\n",
    "    geom_line(data = df_model_train_test_bond, aes(x = ano_exercicio, y = pred5, group = id), color = \"red\", linetype = \"dashed\")\n",
    "\n",
    "options(repr.plot.width = 16, repr.plot.height = 8)\n",
    "plot_grid(g1)"
   ]
  },
  {
   "cell_type": "code",
   "execution_count": null,
   "id": "06a862e7-757f-419c-9360-f1be85c89c4c",
   "metadata": {},
   "outputs": [],
   "source": [
    "df_model_train$pred5_og <- df_model_train$pred5*df_model_train$vl_despesa_sd + df_model_train$vl_despesa_mean\n",
    "df_model_test$pred5_og <- df_model_test$pred5*df_model_test$vl_despesa_sd + df_model_test$vl_despesa_mean\n",
    "df_model_train_test_bond <- rbind(\n",
    "    df_model_train %>% filter(ano_exercicio == 6),\n",
    "    df_model_test %>% filter(ano_exercicio == 7)\n",
    ")\n",
    "\n",
    "g1 <- ggplot(df_model_train)+\n",
    "    geom_line(data = df_model_train, aes(x = ano_exercicio, y = vl_despesa_defl, group = id))+\n",
    "    geom_line(data = df_model_train, aes(x = ano_exercicio, y = pred5_og, group = id), color = \"red\")+\n",
    "    geom_line(data = df_model_test, aes(x = ano_exercicio, y = vl_despesa_defl, group = id))+\n",
    "    geom_line(data = df_model_test, aes(x = ano_exercicio, y = pred5_og, group = id), color = \"red\")+\n",
    "    geom_line(data = df_model_train_test_bond, aes(x = ano_exercicio, y = vl_despesa_defl, group = id), linetype = \"dashed\")+\n",
    "    geom_line(data = df_model_train_test_bond, aes(x = ano_exercicio, y = pred5_og, group = id), color = \"red\", linetype = \"dashed\")\n",
    "\n",
    "options(repr.plot.width = 16, repr.plot.height = 8)\n",
    "# plot_grid(g1, g2)\n",
    "plot_grid(g1)"
   ]
  },
  {
   "cell_type": "markdown",
   "id": "ea4973fb-3dc8-4446-be20-5229e3535e8e",
   "metadata": {},
   "source": [
    "As we can observe, the fixed effects component seems not to be able to capture any time tendency, while the random intercepts seem to converge to the mean of each expense time series. This result seems to be equivalent to a mean model, in which for each subject we simply choose the mean along time as the predicted value."
   ]
  },
  {
   "cell_type": "markdown",
   "id": "8ac25f3d-d76d-49c5-afa1-a7a6e0907c54",
   "metadata": {},
   "source": [
    "# 6. MERF - Only time as covariate + random intercept and slope"
   ]
  },
  {
   "cell_type": "code",
   "execution_count": null,
   "id": "4fc59791-f778-4d2d-81ee-01d460c6e1b5",
   "metadata": {},
   "outputs": [],
   "source": [
    "start <- Sys.time()\n",
    "    fit_MERF6 <- train_MERF(df_model_train, Y ~ ano_exercicio, Ys_train, Xis_train2, Zis_train2, 0.1, max_iter = 10000)\n",
    "time6 <- Sys.time() - start"
   ]
  },
  {
   "cell_type": "code",
   "execution_count": null,
   "id": "d2c05740-c0fb-4623-be30-c033c5929605",
   "metadata": {},
   "outputs": [],
   "source": [
    "fit_MERF6$D\n",
    "cov2cor(fit_MERF6$D)"
   ]
  },
  {
   "cell_type": "code",
   "execution_count": null,
   "id": "6068c4f4-e0dc-4e54-830b-3136e6ea3c61",
   "metadata": {},
   "outputs": [],
   "source": [
    "y_pred_grouped_train6 <- predict_MERF(fit_MERF6, Xis_train2, Zis_train2, df_grouped_train$id)\n",
    "y_pred_grouped_test6 <- predict_MERF(fit_MERF6, Xis_test2, Zis_test2, df_grouped_test$id)\n",
    "\n",
    "y_pred_train6 <- unlist(y_pred_grouped_train6)\n",
    "y_pred_test6 <- unlist(y_pred_grouped_test6)\n",
    "\n",
    "df_model_train$pred6 <- y_pred_train6\n",
    "df_model_test$pred6 <- y_pred_test6\n",
    "df_model_train_test_bond <- rbind(\n",
    "    df_model_train %>% filter(ano_exercicio == 6),\n",
    "    df_model_test %>% filter(ano_exercicio == 7)\n",
    ")\n",
    "\n",
    "g1 <- ggplot(df_model_train)+\n",
    "    geom_line(data = df_model_train, aes(x = ano_exercicio, y = vl_despesa_std, group = id))+\n",
    "    geom_line(data = df_model_train, aes(x = ano_exercicio, y = pred6, group = id), color = \"red\")+\n",
    "    geom_line(data = df_model_test, aes(x = ano_exercicio, y = vl_despesa_std, group = id))+\n",
    "    geom_line(data = df_model_test, aes(x = ano_exercicio, y = pred6, group = id), color = \"red\")+\n",
    "    geom_line(data = df_model_train_test_bond, aes(x = ano_exercicio, y = vl_despesa_std, group = id), linetype = \"dashed\")+\n",
    "    geom_line(data = df_model_train_test_bond, aes(x = ano_exercicio, y = pred6, group = id), color = \"red\", linetype = \"dashed\")\n",
    "\n",
    "options(repr.plot.width = 16, repr.plot.height = 8)\n",
    "plot_grid(g1)"
   ]
  },
  {
   "cell_type": "code",
   "execution_count": null,
   "id": "cc8caed2-faf4-47c8-9e0a-d46523b3fcd6",
   "metadata": {},
   "outputs": [],
   "source": [
    "df_model_train$pred6_og <- df_model_train$pred6*df_model_train$vl_despesa_sd + df_model_train$vl_despesa_mean\n",
    "df_model_test$pred6_og <- df_model_test$pred6*df_model_test$vl_despesa_sd + df_model_test$vl_despesa_mean\n",
    "df_model_train_test_bond <- rbind(\n",
    "    df_model_train %>% filter(ano_exercicio == 6),\n",
    "    df_model_test %>% filter(ano_exercicio == 7)\n",
    ")\n",
    "\n",
    "g1 <- ggplot(df_model_train)+\n",
    "    geom_line(data = df_model_train, aes(x = ano_exercicio, y = vl_despesa_defl, group = id))+\n",
    "    geom_line(data = df_model_train, aes(x = ano_exercicio, y = pred6_og, group = id), color = \"red\")+\n",
    "    geom_line(data = df_model_test, aes(x = ano_exercicio, y = vl_despesa_defl, group = id))+\n",
    "    geom_line(data = df_model_test, aes(x = ano_exercicio, y = pred6_og, group = id), color = \"red\")+\n",
    "    geom_line(data = df_model_train_test_bond, aes(x = ano_exercicio, y = vl_despesa_defl, group = id), linetype = \"dashed\")+\n",
    "    geom_line(data = df_model_train_test_bond, aes(x = ano_exercicio, y = pred6_og, group = id), color = \"red\", linetype = \"dashed\")\n",
    "\n",
    "options(repr.plot.width = 16, repr.plot.height = 8)\n",
    "# plot_grid(g1, g2)\n",
    "plot_grid(g1)"
   ]
  },
  {
   "cell_type": "markdown",
   "id": "7a9254b5-7e9a-40ed-b23b-bb46c2569917",
   "metadata": {},
   "source": [
    "# 7. MERF - All the covariates + random intercept and slope"
   ]
  },
  {
   "cell_type": "code",
   "execution_count": null,
   "id": "0c4aaaa4-40e5-4cd5-a0ca-2f6742f65260",
   "metadata": {},
   "outputs": [],
   "source": [
    "start <- Sys.time()\n",
    "    fit_MERF7 <- train_MERF(df_model_train,\n",
    "                            Y ~ ano_exercicio + RCL_std + pib_nominal + populacao + quantidade_total_vagas + vereadores + area + tp_orgao + ds_municipio + cod_despesa,\n",
    "                            Ys_train, Xis_train3, Zis_train3, 0.1, max_iter = 10000)\n",
    "time7 <- Sys.time() - start"
   ]
  },
  {
   "cell_type": "code",
   "execution_count": null,
   "id": "3e177d7b-51aa-4560-8ef1-25cb395e0917",
   "metadata": {},
   "outputs": [],
   "source": [
    "fit_MERF7$D\n",
    "cov2cor(fit_MERF7$D)"
   ]
  },
  {
   "cell_type": "code",
   "execution_count": null,
   "id": "c374023c-e049-4c6f-890c-0d85e7b79690",
   "metadata": {},
   "outputs": [],
   "source": [
    "y_pred_grouped_train7 <- predict_MERF(fit_MERF7, Xis_train3, Zis_train3, df_grouped_train$id)\n",
    "y_pred_grouped_test7 <- predict_MERF(fit_MERF7, Xis_test3, Zis_test3, df_grouped_test$id)\n",
    "\n",
    "y_pred_train7 <- unlist(y_pred_grouped_train7)\n",
    "y_pred_test7 <- unlist(y_pred_grouped_test7)\n",
    "\n",
    "df_model_train$pred7 <- y_pred_train7\n",
    "df_model_test$pred7 <- y_pred_test7\n",
    "df_model_train_test_bond <- rbind(\n",
    "    df_model_train %>% filter(ano_exercicio == 6),\n",
    "    df_model_test %>% filter(ano_exercicio == 7)\n",
    ")\n",
    "\n",
    "g1 <- ggplot(df_model_train)+\n",
    "    geom_line(data = df_model_train, aes(x = ano_exercicio, y = vl_despesa_std, group = id))+\n",
    "    geom_line(data = df_model_train, aes(x = ano_exercicio, y = pred7, group = id), color = \"red\")+\n",
    "    geom_line(data = df_model_test, aes(x = ano_exercicio, y = vl_despesa_std, group = id))+\n",
    "    geom_line(data = df_model_test, aes(x = ano_exercicio, y = pred7, group = id), color = \"red\")+\n",
    "    geom_line(data = df_model_train_test_bond, aes(x = ano_exercicio, y = vl_despesa_std, group = id), linetype = \"dashed\")+\n",
    "    geom_line(data = df_model_train_test_bond, aes(x = ano_exercicio, y = pred7, group = id), color = \"red\", linetype = \"dashed\")\n",
    "\n",
    "options(repr.plot.width = 16, repr.plot.height = 8)\n",
    "plot_grid(g1)"
   ]
  },
  {
   "cell_type": "code",
   "execution_count": null,
   "id": "da56ddf8-eece-4e27-8acc-10143d1130dd",
   "metadata": {},
   "outputs": [],
   "source": [
    "df_model_train$pred7_og <- df_model_train$pred7*df_model_train$vl_despesa_sd + df_model_train$vl_despesa_mean\n",
    "df_model_test$pred7_og <- df_model_test$pred7*df_model_test$vl_despesa_sd + df_model_test$vl_despesa_mean\n",
    "df_model_train_test_bond <- rbind(\n",
    "    df_model_train %>% filter(ano_exercicio == 6),\n",
    "    df_model_test %>% filter(ano_exercicio == 7)\n",
    ")\n",
    "\n",
    "g1 <- ggplot(df_model_train)+\n",
    "    geom_line(data = df_model_train, aes(x = ano_exercicio, y = vl_despesa_defl, group = id))+\n",
    "    geom_line(data = df_model_train, aes(x = ano_exercicio, y = pred7_og, group = id), color = \"red\")+\n",
    "    geom_line(data = df_model_test, aes(x = ano_exercicio, y = vl_despesa_defl, group = id))+\n",
    "    geom_line(data = df_model_test, aes(x = ano_exercicio, y = pred7_og, group = id), color = \"red\")+\n",
    "    geom_line(data = df_model_train_test_bond, aes(x = ano_exercicio, y = vl_despesa_defl, group = id), linetype = \"dashed\")+\n",
    "    geom_line(data = df_model_train_test_bond, aes(x = ano_exercicio, y = pred7_og, group = id), color = \"red\", linetype = \"dashed\")\n",
    "\n",
    "options(repr.plot.width = 16, repr.plot.height = 8)\n",
    "# plot_grid(g1, g2)\n",
    "plot_grid(g1)"
   ]
  },
  {
   "cell_type": "markdown",
   "id": "3463e949-2714-43f8-9317-bb10bdfd20f6",
   "metadata": {},
   "source": [
    "# 8. MERF - All the covariates + all numerical random effects"
   ]
  },
  {
   "cell_type": "code",
   "execution_count": null,
   "id": "9b98a175-9b97-4aef-a29b-f26a85e229fa",
   "metadata": {},
   "outputs": [],
   "source": [
    "start <- Sys.time()\n",
    "    fit_MERF8 <- train_MERF(df_model_train,\n",
    "                            Y ~ ano_exercicio + RCL_std + pib_nominal + populacao + quantidade_total_vagas + vereadores + area + tp_orgao + ds_municipio + cod_despesa,\n",
    "                            Ys_train, Xis_train4, Zis_train4, 0.1, max_iter = 10000)\n",
    "time8 <- Sys.time() - start"
   ]
  },
  {
   "cell_type": "code",
   "execution_count": null,
   "id": "7f29960f-abe7-4cd6-becc-05218701e54a",
   "metadata": {},
   "outputs": [],
   "source": [
    "fit_MERF8$D\n",
    "cov2cor(fit_MERF8$D)"
   ]
  },
  {
   "cell_type": "code",
   "execution_count": null,
   "id": "d4e2eac4-55db-436e-a312-bc35d3ce9ef0",
   "metadata": {},
   "outputs": [],
   "source": [
    "y_pred_grouped_train8 <- predict_MERF(fit_MERF8, Xis_train4, Zis_train4, df_grouped_train$id)\n",
    "y_pred_grouped_test8 <- predict_MERF(fit_MERF8, Xis_test4, Zis_test4, df_grouped_test$id)\n",
    "\n",
    "y_pred_train8 <- unlist(y_pred_grouped_train8)\n",
    "y_pred_test8 <- unlist(y_pred_grouped_test8)\n",
    "\n",
    "df_model_train$pred8 <- y_pred_train8\n",
    "df_model_test$pred8 <- y_pred_test8\n",
    "df_model_train_test_bond <- rbind(\n",
    "    df_model_train %>% filter(ano_exercicio == 6),\n",
    "    df_model_test %>% filter(ano_exercicio == 7)\n",
    ")\n",
    "\n",
    "g1 <- ggplot(df_model_train)+\n",
    "    geom_line(data = df_model_train, aes(x = ano_exercicio, y = vl_despesa_std, group = id))+\n",
    "    geom_line(data = df_model_train, aes(x = ano_exercicio, y = pred8, group = id), color = \"red\")+\n",
    "    geom_line(data = df_model_test, aes(x = ano_exercicio, y = vl_despesa_std, group = id))+\n",
    "    geom_line(data = df_model_test, aes(x = ano_exercicio, y = pred8, group = id), color = \"red\")+\n",
    "    geom_line(data = df_model_train_test_bond, aes(x = ano_exercicio, y = vl_despesa_std, group = id), linetype = \"dashed\")+\n",
    "    geom_line(data = df_model_train_test_bond, aes(x = ano_exercicio, y = pred8, group = id), color = \"red\", linetype = \"dashed\")\n",
    "\n",
    "options(repr.plot.width = 16, repr.plot.height = 8)\n",
    "plot_grid(g1)"
   ]
  },
  {
   "cell_type": "code",
   "execution_count": null,
   "id": "dadf2645-f08c-497e-9c65-4566abedfc3d",
   "metadata": {},
   "outputs": [],
   "source": [
    "df_model_train$pred8_og <- df_model_train$pred8*df_model_train$vl_despesa_sd + df_model_train$vl_despesa_mean\n",
    "df_model_test$pred8_og <- df_model_test$pred8*df_model_test$vl_despesa_sd + df_model_test$vl_despesa_mean\n",
    "df_model_train_test_bond <- rbind(\n",
    "    df_model_train %>% filter(ano_exercicio == 6),\n",
    "    df_model_test %>% filter(ano_exercicio == 7)\n",
    ")\n",
    "\n",
    "g1 <- ggplot(df_model_train)+\n",
    "    geom_line(data = df_model_train, aes(x = ano_exercicio, y = vl_despesa_defl, group = id))+\n",
    "    geom_line(data = df_model_train, aes(x = ano_exercicio, y = pred8_og, group = id), color = \"red\")+\n",
    "    geom_line(data = df_model_test, aes(x = ano_exercicio, y = vl_despesa_defl, group = id))+\n",
    "    geom_line(data = df_model_test, aes(x = ano_exercicio, y = pred8_og, group = id), color = \"red\")+\n",
    "    geom_line(data = df_model_train_test_bond, aes(x = ano_exercicio, y = vl_despesa_defl, group = id), linetype = \"dashed\")+\n",
    "    geom_line(data = df_model_train_test_bond, aes(x = ano_exercicio, y = pred8_og, group = id), color = \"red\", linetype = \"dashed\")\n",
    "\n",
    "options(repr.plot.width = 16, repr.plot.height = 8)\n",
    "# plot_grid(g1, g2)\n",
    "plot_grid(g1)"
   ]
  },
  {
   "cell_type": "markdown",
   "id": "d22db586-325a-4f9a-8801-d12cd076b5d3",
   "metadata": {},
   "source": [
    "# 9. Regression Tree only with all covaritates"
   ]
  },
  {
   "cell_type": "code",
   "execution_count": null,
   "id": "977d6656-202b-489d-a222-ef0bb07ddbd1",
   "metadata": {},
   "outputs": [],
   "source": [
    "rt_formula <- vl_despesa_std ~ ano_exercicio + RCL_std + pib_nominal + populacao + quantidade_total_vagas + vereadores + area + tp_orgao + ds_municipio + cod_despesa\n",
    "\n",
    "start <- Sys.time()    \n",
    "    fit_rpart9 <- rpart(rt_formula, data = df_model_train)\n",
    "time9 <- Sys.time() - start"
   ]
  },
  {
   "cell_type": "code",
   "execution_count": null,
   "id": "a3dced5c-81d0-4b69-b4e9-2d74f8e65c12",
   "metadata": {},
   "outputs": [],
   "source": [
    "y_pred_grouped_train9 <- predict(fit_rpart9, newdata = df_model_train)\n",
    "y_pred_grouped_test9 <- predict(fit_rpart9, newdata = df_model_test)\n",
    "\n",
    "y_pred_train9 <- unlist(y_pred_grouped_train9)\n",
    "y_pred_test9 <- unlist(y_pred_grouped_test9)\n",
    "\n",
    "df_model_train$pred9 <- y_pred_train9\n",
    "df_model_test$pred9 <- y_pred_test9\n",
    "df_model_train_test_bond <- rbind(\n",
    "    df_model_train %>% filter(ano_exercicio == 6),\n",
    "    df_model_test %>% filter(ano_exercicio == 7)\n",
    ")\n",
    "\n",
    "g1 <- ggplot(df_model_train)+\n",
    "    geom_line(data = df_model_train, aes(x = ano_exercicio, y = vl_despesa_std, group = id))+\n",
    "    geom_line(data = df_model_train, aes(x = ano_exercicio, y = pred9, group = id), color = \"red\")+\n",
    "    geom_line(data = df_model_test, aes(x = ano_exercicio, y = vl_despesa_std, group = id))+\n",
    "    geom_line(data = df_model_test, aes(x = ano_exercicio, y = pred9, group = id), color = \"red\")+\n",
    "    geom_line(data = df_model_train_test_bond, aes(x = ano_exercicio, y = vl_despesa_std, group = id), linetype = \"dashed\")+\n",
    "    geom_line(data = df_model_train_test_bond, aes(x = ano_exercicio, y = pred9, group = id), color = \"red\", linetype = \"dashed\")\n",
    "\n",
    "options(repr.plot.width = 16, repr.plot.height = 8)\n",
    "# plot_grid(g1, g2)\n",
    "plot_grid(g1)"
   ]
  },
  {
   "cell_type": "code",
   "execution_count": null,
   "id": "d71e4581-4716-4132-9dfa-3229a97cbbe7",
   "metadata": {},
   "outputs": [],
   "source": [
    "df_model_train$pred9_og <- df_model_train$pred9*df_model_train$vl_despesa_sd + df_model_train$vl_despesa_mean\n",
    "df_model_test$pred9_og <- df_model_test$pred9*df_model_test$vl_despesa_sd + df_model_test$vl_despesa_mean\n",
    "df_model_train_test_bond <- rbind(\n",
    "    df_model_train %>% filter(ano_exercicio == 6),\n",
    "    df_model_test %>% filter(ano_exercicio == 7)\n",
    ")\n",
    "\n",
    "g1 <- ggplot(df_model_train)+\n",
    "    geom_line(data = df_model_train, aes(x = ano_exercicio, y = vl_despesa_defl, group = id))+\n",
    "    geom_line(data = df_model_train, aes(x = ano_exercicio, y = pred9_og, group = id), color = \"red\")+\n",
    "    geom_line(data = df_model_test, aes(x = ano_exercicio, y = vl_despesa_defl, group = id))+\n",
    "    geom_line(data = df_model_test, aes(x = ano_exercicio, y = pred9_og, group = id), color = \"red\")+\n",
    "    geom_line(data = df_model_train_test_bond, aes(x = ano_exercicio, y = vl_despesa_defl, group = id), linetype = \"dashed\")+\n",
    "    geom_line(data = df_model_train_test_bond, aes(x = ano_exercicio, y = pred9_og, group = id), color = \"red\", linetype = \"dashed\")\n",
    "\n",
    "options(repr.plot.width = 16, repr.plot.height = 8)\n",
    "# plot_grid(g1, g2)\n",
    "plot_grid(g1)"
   ]
  },
  {
   "cell_type": "markdown",
   "id": "ce9598a8-028f-4137-b5c9-022928e96527",
   "metadata": {},
   "source": [
    "# 10. Random forests only with all covariates"
   ]
  },
  {
   "cell_type": "code",
   "execution_count": null,
   "id": "af04ea2c-18ff-4b98-acd4-899cd5fba11b",
   "metadata": {},
   "outputs": [],
   "source": [
    "rf_formula <- rt_formula\n",
    "\n",
    "start <- Sys.time()    \n",
    "    fit_ranger10 <- ranger(rf_formula, data = df_model_train, num.trees = 500, importance = \"impurity\")\n",
    "time10 <- Sys.time() - start"
   ]
  },
  {
   "cell_type": "code",
   "execution_count": null,
   "id": "837f6110-c315-45c7-855d-03a479545dca",
   "metadata": {},
   "outputs": [],
   "source": [
    "y_pred_grouped_train10 <- predict(fit_ranger10, df_model_train)$predictions\n",
    "y_pred_grouped_test10 <- predict(fit_ranger10, df_model_test)$predictions\n",
    "\n",
    "y_pred_train10 <- unlist(y_pred_grouped_train10)\n",
    "y_pred_test10 <- unlist(y_pred_grouped_test10)\n",
    "\n",
    "df_model_train$pred10 <- y_pred_train10\n",
    "df_model_test$pred10 <- y_pred_test10\n",
    "df_model_train_test_bond <- rbind(\n",
    "    df_model_train %>% filter(ano_exercicio == 6),\n",
    "    df_model_test %>% filter(ano_exercicio == 7)\n",
    ")\n",
    "\n",
    "g1 <- ggplot(df_model_train)+\n",
    "    geom_line(data = df_model_train, aes(x = ano_exercicio, y = vl_despesa_std, group = id))+\n",
    "    geom_line(data = df_model_train, aes(x = ano_exercicio, y = pred10, group = id), color = \"red\")+\n",
    "    geom_line(data = df_model_test, aes(x = ano_exercicio, y = vl_despesa_std, group = id))+\n",
    "    geom_line(data = df_model_test, aes(x = ano_exercicio, y = pred10, group = id), color = \"red\")+\n",
    "    geom_line(data = df_model_train_test_bond, aes(x = ano_exercicio, y = vl_despesa_std, group = id), linetype = \"dashed\")+\n",
    "    geom_line(data = df_model_train_test_bond, aes(x = ano_exercicio, y = pred10, group = id), color = \"red\", linetype = \"dashed\")\n",
    "\n",
    "options(repr.plot.width = 16, repr.plot.height = 8)\n",
    "# plot_grid(g1, g2)\n",
    "plot_grid(g1)"
   ]
  },
  {
   "cell_type": "code",
   "execution_count": null,
   "id": "6fe319de-a611-499e-905e-09935b906b03",
   "metadata": {},
   "outputs": [],
   "source": [
    "df_model_train$pred10_og <- df_model_train$pred10*df_model_train$vl_despesa_sd + df_model_train$vl_despesa_mean\n",
    "df_model_test$pred10_og <- df_model_test$pred10*df_model_test$vl_despesa_sd + df_model_test$vl_despesa_mean\n",
    "df_model_train_test_bond <- rbind(\n",
    "    df_model_train %>% filter(ano_exercicio == 6),\n",
    "    df_model_test %>% filter(ano_exercicio == 7)\n",
    ")\n",
    "\n",
    "g1 <- ggplot(df_model_train)+\n",
    "    geom_line(data = df_model_train, aes(x = ano_exercicio, y = vl_despesa_defl, group = id))+\n",
    "    geom_line(data = df_model_train, aes(x = ano_exercicio, y = pred10_og, group = id), color = \"red\")+\n",
    "    geom_line(data = df_model_test, aes(x = ano_exercicio, y = vl_despesa_defl, group = id))+\n",
    "    geom_line(data = df_model_test, aes(x = ano_exercicio, y = pred10_og, group = id), color = \"red\")+\n",
    "    geom_line(data = df_model_train_test_bond, aes(x = ano_exercicio, y = vl_despesa_defl, group = id), linetype = \"dashed\")+\n",
    "    geom_line(data = df_model_train_test_bond, aes(x = ano_exercicio, y = pred10_og, group = id), color = \"red\", linetype = \"dashed\")\n",
    "\n",
    "options(repr.plot.width = 16, repr.plot.height = 8)\n",
    "# plot_grid(g1, g2)\n",
    "plot_grid(g1)"
   ]
  },
  {
   "cell_type": "markdown",
   "id": "1ee97077-a343-4e28-8765-98235a6020a0",
   "metadata": {},
   "source": [
    "# 11. MERT - All the covariates + random intercept, slope and quadratic on time"
   ]
  },
  {
   "cell_type": "code",
   "execution_count": null,
   "id": "167a8a08-ca05-4c78-a88c-28fab0aecffe",
   "metadata": {},
   "outputs": [],
   "source": [
    "Xis_train11 <- Xis_train3\n",
    "Xis_test11 <- Xis_test3\n",
    "\n",
    "cl <- makeCluster(getOption(\"cl.cores\", njobs))\n",
    "clusterExport(cl, c(\"df_grouped\", \"unnest\"), envir = environment())\n",
    "\n",
    "# Recover all the matrices Zi from every subject according to the desired model (random intercept in this case)\n",
    "Zis_train11 <- parApply(cl, df_grouped_train, 1, function(row){\n",
    "    dfi <- unnest(as.data.frame(row), cols = c(\"vl_despesa_defl\", \"ano_exercicio\"))\n",
    "    Zi <- model.matrix(vl_despesa_defl ~ 1 + ano_exercicio + I(ano_exercicio^2), data = dfi)\n",
    "    list(Zi)\n",
    "}) %>% unlist(recursive = FALSE)\n",
    "Zis_test11 <- parApply(cl, df_grouped_test, 1, function(row){\n",
    "    dfi <- unnest(as.data.frame(row), cols = c(\"vl_despesa_defl\", \"ano_exercicio\"))\n",
    "    Zi <- model.matrix(vl_despesa_defl ~ 1 + ano_exercicio + I(ano_exercicio^2), data = dfi)\n",
    "    list(Zi)\n",
    "}) %>% unlist(recursive = FALSE)\n",
    "\n",
    "stopCluster(cl)"
   ]
  },
  {
   "cell_type": "code",
   "execution_count": null,
   "id": "df2f84c6-69fa-40ca-9322-98b17483993a",
   "metadata": {},
   "outputs": [],
   "source": [
    "start <- Sys.time()\n",
    "    fit_MERT11 <- train_MERT(df_model_train,\n",
    "                            Y ~ ano_exercicio + RCL_std + pib_nominal + populacao + quantidade_total_vagas + vereadores + area + tp_orgao + ds_municipio + cod_despesa,\n",
    "                            Ys_train, Xis_train11, Zis_train11, 0.1, max_iter = 10000)\n",
    "time11 <- Sys.time() - start"
   ]
  },
  {
   "cell_type": "code",
   "execution_count": null,
   "id": "570cd403-7b18-4d10-8a3f-262d07185db8",
   "metadata": {},
   "outputs": [],
   "source": [
    "y_pred_grouped_train11 <- predict_MERT(fit_MERT11, Xis_train11, Zis_train11, df_grouped_train$id)\n",
    "y_pred_grouped_test11 <- predict_MERT(fit_MERT11, Xis_test11, Zis_test11, df_grouped_test$id)\n",
    "\n",
    "y_pred_train11 <- unlist(y_pred_grouped_train11)\n",
    "y_pred_test11 <- unlist(y_pred_grouped_test11)\n",
    "\n",
    "df_model_train$pred11 <- y_pred_train11\n",
    "df_model_test$pred11 <- y_pred_test11\n",
    "df_model_train_test_bond <- rbind(\n",
    "    df_model_train %>% filter(ano_exercicio == 6),\n",
    "    df_model_test %>% filter(ano_exercicio == 7)\n",
    ")\n",
    "\n",
    "g1 <- ggplot(df_model_train)+\n",
    "    geom_line(data = df_model_train, aes(x = ano_exercicio, y = vl_despesa_std, group = id))+\n",
    "    geom_line(data = df_model_train, aes(x = ano_exercicio, y = pred11, group = id), color = \"red\")+\n",
    "    geom_line(data = df_model_test, aes(x = ano_exercicio, y = vl_despesa_std, group = id))+\n",
    "    geom_line(data = df_model_test, aes(x = ano_exercicio, y = pred11, group = id), color = \"red\")+\n",
    "    geom_line(data = df_model_train_test_bond, aes(x = ano_exercicio, y = vl_despesa_std, group = id), linetype = \"dashed\")+\n",
    "    geom_line(data = df_model_train_test_bond, aes(x = ano_exercicio, y = pred11, group = id), color = \"red\", linetype = \"dashed\")\n",
    "    \n",
    "\n",
    "options(repr.plot.width = 16, repr.plot.height = 8)\n",
    "plot_grid(g1)"
   ]
  },
  {
   "cell_type": "code",
   "execution_count": null,
   "id": "d313f13a-5ceb-4e66-8fd7-208783e02c0c",
   "metadata": {},
   "outputs": [],
   "source": [
    "df_model_train$pred11_og <- df_model_train$pred11*df_model_train$vl_despesa_sd + df_model_train$vl_despesa_mean\n",
    "df_model_test$pred11_og <- df_model_test$pred11*df_model_test$vl_despesa_sd + df_model_test$vl_despesa_mean\n",
    "df_model_train_test_bond <- rbind(\n",
    "    df_model_train %>% filter(ano_exercicio == 6),\n",
    "    df_model_test %>% filter(ano_exercicio == 7)\n",
    ")\n",
    "\n",
    "g1 <- ggplot(df_model_train)+\n",
    "    geom_line(data = df_model_train, aes(x = ano_exercicio, y = vl_despesa_defl, group = id))+\n",
    "    geom_line(data = df_model_train, aes(x = ano_exercicio, y = pred11_og, group = id), color = \"red\")+\n",
    "    geom_line(data = df_model_test, aes(x = ano_exercicio, y = vl_despesa_defl, group = id))+\n",
    "    geom_line(data = df_model_test, aes(x = ano_exercicio, y = pred11_og, group = id), color = \"red\")+\n",
    "    geom_line(data = df_model_train_test_bond, aes(x = ano_exercicio, y = vl_despesa_defl, group = id), linetype = \"dashed\")+\n",
    "    geom_line(data = df_model_train_test_bond, aes(x = ano_exercicio, y = pred11_og, group = id), color = \"red\", linetype = \"dashed\")\n",
    "\n",
    "options(repr.plot.width = 16, repr.plot.height = 8)\n",
    "# plot_grid(g1, g2)\n",
    "plot_grid(g1)"
   ]
  },
  {
   "cell_type": "markdown",
   "id": "4f110210-5b69-429d-a396-598f3c0b2d92",
   "metadata": {},
   "source": [
    "# 12. MERF - All the covariates + random intercept, slope and quadratic on time"
   ]
  },
  {
   "cell_type": "code",
   "execution_count": null,
   "id": "696a3ae4-3108-4430-b423-4ba9708f0de9",
   "metadata": {},
   "outputs": [],
   "source": [
    "start <- Sys.time()\n",
    "    fit_MERF12 <- train_MERF(df_model_train,\n",
    "                            Y ~ ano_exercicio + RCL_std + pib_nominal + populacao + quantidade_total_vagas + vereadores + area + tp_orgao + ds_municipio + cod_despesa,\n",
    "                            Ys_train, Xis_train11, Zis_train11, 0.1, max_iter = 10000)\n",
    "time12 <- Sys.time() - start"
   ]
  },
  {
   "cell_type": "code",
   "execution_count": null,
   "id": "27a258bc-ea37-4f57-a9c4-2f7d2bfca585",
   "metadata": {},
   "outputs": [],
   "source": [
    "y_pred_grouped_train12 <- predict_MERF(fit_MERF12, Xis_train11, Zis_train11, df_grouped_train$id)\n",
    "y_pred_grouped_test12 <- predict_MERF(fit_MERF12, Xis_test11, Zis_test11, df_grouped_test$id)\n",
    "\n",
    "y_pred_train12 <- unlist(y_pred_grouped_train12)\n",
    "y_pred_test12 <- unlist(y_pred_grouped_test12)\n",
    "\n",
    "df_model_train$pred12 <- y_pred_train12\n",
    "df_model_test$pred12 <- y_pred_test12\n",
    "df_model_train_test_bond <- rbind(\n",
    "    df_model_train %>% filter(ano_exercicio == 6),\n",
    "    df_model_test %>% filter(ano_exercicio == 7)\n",
    ")\n",
    "\n",
    "g1 <- ggplot(df_model_train)+\n",
    "    geom_line(data = df_model_train, aes(x = ano_exercicio, y = vl_despesa_std, group = id))+\n",
    "    geom_line(data = df_model_train, aes(x = ano_exercicio, y = pred12, group = id), color = \"red\")+\n",
    "    geom_line(data = df_model_test, aes(x = ano_exercicio, y = vl_despesa_std, group = id))+\n",
    "    geom_line(data = df_model_test, aes(x = ano_exercicio, y = pred12, group = id), color = \"red\")+\n",
    "    geom_line(data = df_model_train_test_bond, aes(x = ano_exercicio, y = vl_despesa_std, group = id), linetype = \"dashed\")+\n",
    "    geom_line(data = df_model_train_test_bond, aes(x = ano_exercicio, y = pred12, group = id), color = \"red\", linetype = \"dashed\")\n",
    "    \n",
    "options(repr.plot.width = 16, repr.plot.height = 8)\n",
    "plot_grid(g1)"
   ]
  },
  {
   "cell_type": "code",
   "execution_count": null,
   "id": "2496f1df-504f-4030-9f70-90a89cd1a314",
   "metadata": {},
   "outputs": [],
   "source": [
    "df_model_train$pred12_og <- df_model_train$pred12*df_model_train$vl_despesa_sd + df_model_train$vl_despesa_mean\n",
    "df_model_test$pred12_og <- df_model_test$pred12*df_model_test$vl_despesa_sd + df_model_test$vl_despesa_mean\n",
    "df_model_train_test_bond <- rbind(\n",
    "    df_model_train %>% filter(ano_exercicio == 6),\n",
    "    df_model_test %>% filter(ano_exercicio == 7)\n",
    ")\n",
    "\n",
    "g1 <- ggplot(df_model_train)+\n",
    "    geom_line(data = df_model_train, aes(x = ano_exercicio, y = vl_despesa_defl, group = id))+\n",
    "    geom_line(data = df_model_train, aes(x = ano_exercicio, y = pred12_og, group = id), color = \"red\")+\n",
    "    geom_line(data = df_model_test, aes(x = ano_exercicio, y = vl_despesa_defl, group = id))+\n",
    "    geom_line(data = df_model_test, aes(x = ano_exercicio, y = pred12_og, group = id), color = \"red\")+\n",
    "    geom_line(data = df_model_train_test_bond, aes(x = ano_exercicio, y = vl_despesa_defl, group = id), linetype = \"dashed\")+\n",
    "    geom_line(data = df_model_train_test_bond, aes(x = ano_exercicio, y = pred12_og, group = id), color = \"red\", linetype = \"dashed\")\n",
    "\n",
    "options(repr.plot.width = 16, repr.plot.height = 8)\n",
    "# plot_grid(g1, g2)\n",
    "plot_grid(g1)"
   ]
  },
  {
   "cell_type": "markdown",
   "id": "2a933d69-4e99-4c68-9b65-f01374a3a1b6",
   "metadata": {},
   "source": [
    "# 13. MERT - Only time as covariate + random intercept + slope + quadratic on time"
   ]
  },
  {
   "cell_type": "code",
   "execution_count": null,
   "id": "9ebbfda3-0fd7-4285-b3d8-d76a8c3f09e4",
   "metadata": {},
   "outputs": [],
   "source": [
    "start <- Sys.time()\n",
    "    fit_MERT13 <- train_MERT(df_model_train,\n",
    "                            Y ~ ano_exercicio,\n",
    "                            Ys_train, Xis_train11, Zis_train11, 0.1, max_iter = 10000)\n",
    "time13 <- Sys.time() - start"
   ]
  },
  {
   "cell_type": "code",
   "execution_count": null,
   "id": "3d4d6dd4-8af5-496a-9b19-86c84cae7a55",
   "metadata": {},
   "outputs": [],
   "source": [
    "y_pred_grouped_train13 <- predict_MERT(fit_MERT13, Xis_train11, Zis_train11, df_grouped_train$id)\n",
    "y_pred_grouped_test13 <- predict_MERT(fit_MERT13, Xis_test11, Zis_test11, df_grouped_test$id)\n",
    "\n",
    "y_pred_train13 <- unlist(y_pred_grouped_train13)\n",
    "y_pred_test13 <- unlist(y_pred_grouped_test13)\n",
    "\n",
    "df_model_train$pred13 <- y_pred_train13\n",
    "df_model_test$pred13 <- y_pred_test13\n",
    "df_model_train_test_bond <- rbind(\n",
    "    df_model_train %>% filter(ano_exercicio == 6),\n",
    "    df_model_test %>% filter(ano_exercicio == 7)\n",
    ")\n",
    "\n",
    "g1 <- ggplot(df_model_train)+\n",
    "    geom_line(data = df_model_train, aes(x = ano_exercicio, y = vl_despesa_std, group = id))+\n",
    "    geom_line(data = df_model_train, aes(x = ano_exercicio, y = pred13, group = id), color = \"red\")+\n",
    "    geom_line(data = df_model_test, aes(x = ano_exercicio, y = vl_despesa_std, group = id))+\n",
    "    geom_line(data = df_model_test, aes(x = ano_exercicio, y = pred13, group = id), color = \"red\")+\n",
    "    geom_line(data = df_model_train_test_bond, aes(x = ano_exercicio, y = vl_despesa_std, group = id), linetype = \"dashed\")+\n",
    "    geom_line(data = df_model_train_test_bond, aes(x = ano_exercicio, y = pred13, group = id), color = \"red\", linetype = \"dashed\")\n",
    "    \n",
    "\n",
    "options(repr.plot.width = 16, repr.plot.height = 8)\n",
    "plot_grid(g1)"
   ]
  },
  {
   "cell_type": "code",
   "execution_count": null,
   "id": "99e5d4ad-e929-40c8-8c7b-bbb13b9349f6",
   "metadata": {},
   "outputs": [],
   "source": [
    "df_model_train$pred13_og <- df_model_train$pred13*df_model_train$vl_despesa_sd + df_model_train$vl_despesa_mean\n",
    "df_model_test$pred13_og <- df_model_test$pred13*df_model_test$vl_despesa_sd + df_model_test$vl_despesa_mean\n",
    "df_model_train_test_bond <- rbind(\n",
    "    df_model_train %>% filter(ano_exercicio == 6),\n",
    "    df_model_test %>% filter(ano_exercicio == 7)\n",
    ")\n",
    "\n",
    "g1 <- ggplot(df_model_train)+\n",
    "    geom_line(data = df_model_train, aes(x = ano_exercicio, y = vl_despesa_defl, group = id))+\n",
    "    geom_line(data = df_model_train, aes(x = ano_exercicio, y = pred13_og, group = id), color = \"red\")+\n",
    "    geom_line(data = df_model_test, aes(x = ano_exercicio, y = vl_despesa_defl, group = id))+\n",
    "    geom_line(data = df_model_test, aes(x = ano_exercicio, y = pred13_og, group = id), color = \"red\")+\n",
    "    geom_line(data = df_model_train_test_bond, aes(x = ano_exercicio, y = vl_despesa_defl, group = id), linetype = \"dashed\")+\n",
    "    geom_line(data = df_model_train_test_bond, aes(x = ano_exercicio, y = pred13_og, group = id), color = \"red\", linetype = \"dashed\")\n",
    "\n",
    "options(repr.plot.width = 16, repr.plot.height = 8)\n",
    "# plot_grid(g1, g2)\n",
    "plot_grid(g1)"
   ]
  },
  {
   "cell_type": "markdown",
   "id": "f16d0412-1984-4d41-95c0-22619f8ecb44",
   "metadata": {},
   "source": [
    "# 14. MERF - Only time as covariate + random intercept + slope + quadratic on time"
   ]
  },
  {
   "cell_type": "code",
   "execution_count": null,
   "id": "95b16655-3137-41b3-b8c1-cb09ba789a82",
   "metadata": {},
   "outputs": [],
   "source": [
    "start <- Sys.time()\n",
    "    fit_MERF14 <- train_MERF(df_model_train,\n",
    "                            Y ~ ano_exercicio,\n",
    "                            Ys_train, Xis_train11, Zis_train11, 0.1, max_iter = 10000)\n",
    "time14 <- Sys.time() - start"
   ]
  },
  {
   "cell_type": "code",
   "execution_count": null,
   "id": "257ddae2-455d-452d-9d6d-0ff016b34528",
   "metadata": {},
   "outputs": [],
   "source": [
    "y_pred_grouped_train14 <- predict_MERF(fit_MERF14, Xis_train11, Zis_train11, df_grouped_train$id)\n",
    "y_pred_grouped_test14 <- predict_MERF(fit_MERF14, Xis_test11, Zis_test11, df_grouped_test$id)\n",
    "\n",
    "y_pred_train14 <- unlist(y_pred_grouped_train14)\n",
    "y_pred_test14 <- unlist(y_pred_grouped_test14)\n",
    "\n",
    "df_model_train$pred14 <- y_pred_train14\n",
    "df_model_test$pred14 <- y_pred_test14\n",
    "df_model_train_test_bond <- rbind(\n",
    "    df_model_train %>% filter(ano_exercicio == 6),\n",
    "    df_model_test %>% filter(ano_exercicio == 7)\n",
    ")\n",
    "\n",
    "g1 <- ggplot(df_model_train)+\n",
    "    geom_line(data = df_model_train, aes(x = ano_exercicio, y = vl_despesa_std, group = id))+\n",
    "    geom_line(data = df_model_train, aes(x = ano_exercicio, y = pred14, group = id), color = \"red\")+\n",
    "    geom_line(data = df_model_test, aes(x = ano_exercicio, y = vl_despesa_std, group = id))+\n",
    "    geom_line(data = df_model_test, aes(x = ano_exercicio, y = pred14, group = id), color = \"red\")+\n",
    "    geom_line(data = df_model_train_test_bond, aes(x = ano_exercicio, y = vl_despesa_std, group = id), linetype = \"dashed\")+\n",
    "    geom_line(data = df_model_train_test_bond, aes(x = ano_exercicio, y = pred14, group = id), color = \"red\", linetype = \"dashed\")\n",
    "    \n",
    "\n",
    "options(repr.plot.width = 16, repr.plot.height = 8)\n",
    "plot_grid(g1)"
   ]
  },
  {
   "cell_type": "code",
   "execution_count": null,
   "id": "7881ac53-9ed0-47b2-9677-8d6f98ba44c3",
   "metadata": {},
   "outputs": [],
   "source": [
    "df_model_train$pred14_og <- df_model_train$pred14*df_model_train$vl_despesa_sd + df_model_train$vl_despesa_mean\n",
    "df_model_test$pred14_og <- df_model_test$pred14*df_model_test$vl_despesa_sd + df_model_test$vl_despesa_mean\n",
    "df_model_train_test_bond <- rbind(\n",
    "    df_model_train %>% filter(ano_exercicio == 6),\n",
    "    df_model_test %>% filter(ano_exercicio == 7)\n",
    ")\n",
    "\n",
    "g1 <- ggplot(df_model_train)+\n",
    "    geom_line(data = df_model_train, aes(x = ano_exercicio, y = vl_despesa_defl, group = id))+\n",
    "    geom_line(data = df_model_train, aes(x = ano_exercicio, y = pred14_og, group = id), color = \"red\")+\n",
    "    geom_line(data = df_model_test, aes(x = ano_exercicio, y = vl_despesa_defl, group = id))+\n",
    "    geom_line(data = df_model_test, aes(x = ano_exercicio, y = pred14_og, group = id), color = \"red\")+\n",
    "    geom_line(data = df_model_train_test_bond, aes(x = ano_exercicio, y = vl_despesa_defl, group = id), linetype = \"dashed\")+\n",
    "    geom_line(data = df_model_train_test_bond, aes(x = ano_exercicio, y = pred14_og, group = id), color = \"red\", linetype = \"dashed\")\n",
    "\n",
    "options(repr.plot.width = 16, repr.plot.height = 8)\n",
    "# plot_grid(g1, g2)\n",
    "plot_grid(g1)"
   ]
  },
  {
   "cell_type": "markdown",
   "id": "bb980f1e-3e09-44a6-a358-84094bd00eff",
   "metadata": {},
   "source": [
    "# 15. Regression Tree only with all covaritates"
   ]
  },
  {
   "cell_type": "code",
   "execution_count": null,
   "id": "67f7916a-ad25-4f24-8c7b-19499fef0ce0",
   "metadata": {},
   "outputs": [],
   "source": [
    "start <- Sys.time()    \n",
    "    fit_rpart15 <- rpart(vl_despesa_std ~ ano_exercicio, data = df_model_train)\n",
    "time15 <- Sys.time() - start"
   ]
  },
  {
   "cell_type": "code",
   "execution_count": null,
   "id": "60b5a330-e195-4144-9fad-480e656e77bf",
   "metadata": {},
   "outputs": [],
   "source": [
    "y_pred_grouped_train15 <- predict(fit_rpart15, newdata = df_model_train)\n",
    "y_pred_grouped_test15 <- predict(fit_rpart15, newdata = df_model_test)\n",
    "\n",
    "y_pred_train15 <- unlist(y_pred_grouped_train15)\n",
    "y_pred_test15 <- unlist(y_pred_grouped_test15)\n",
    "\n",
    "df_model_train$pred15 <- y_pred_train15\n",
    "df_model_test$pred15 <- y_pred_test15\n",
    "df_model_train_test_bond <- rbind(\n",
    "    df_model_train %>% filter(ano_exercicio == 6),\n",
    "    df_model_test %>% filter(ano_exercicio == 7)\n",
    ")\n",
    "\n",
    "g1 <- ggplot(df_model_train)+\n",
    "    geom_line(data = df_model_train, aes(x = ano_exercicio, y = vl_despesa_std, group = id))+\n",
    "    geom_line(data = df_model_train, aes(x = ano_exercicio, y = pred15, group = id), color = \"red\")+\n",
    "    geom_line(data = df_model_test, aes(x = ano_exercicio, y = vl_despesa_std, group = id))+\n",
    "    geom_line(data = df_model_test, aes(x = ano_exercicio, y = pred15, group = id), color = \"red\")+\n",
    "    geom_line(data = df_model_train_test_bond, aes(x = ano_exercicio, y = vl_despesa_std, group = id), linetype = \"dashed\")+\n",
    "    geom_line(data = df_model_train_test_bond, aes(x = ano_exercicio, y = pred15, group = id), color = \"red\", linetype = \"dashed\")\n",
    "\n",
    "options(repr.plot.width = 16, repr.plot.height = 8)\n",
    "# plot_grid(g1, g2)\n",
    "plot_grid(g1)"
   ]
  },
  {
   "cell_type": "code",
   "execution_count": null,
   "id": "0c2c4f46-fbe4-4e70-9149-1ff75fc82e6f",
   "metadata": {},
   "outputs": [],
   "source": [
    "df_model_train$pred15_og <- df_model_train$pred15*df_model_train$vl_despesa_sd + df_model_train$vl_despesa_mean\n",
    "df_model_test$pred15_og <- df_model_test$pred15*df_model_test$vl_despesa_sd + df_model_test$vl_despesa_mean\n",
    "df_model_train_test_bond <- rbind(\n",
    "    df_model_train %>% filter(ano_exercicio == 6),\n",
    "    df_model_test %>% filter(ano_exercicio == 7)\n",
    ")\n",
    "\n",
    "g1 <- ggplot(df_model_train)+\n",
    "    geom_line(data = df_model_train, aes(x = ano_exercicio, y = vl_despesa_defl, group = id))+\n",
    "    geom_line(data = df_model_train, aes(x = ano_exercicio, y = pred15_og, group = id), color = \"red\")+\n",
    "    geom_line(data = df_model_test, aes(x = ano_exercicio, y = vl_despesa_defl, group = id))+\n",
    "    geom_line(data = df_model_test, aes(x = ano_exercicio, y = pred15_og, group = id), color = \"red\")+\n",
    "    geom_line(data = df_model_train_test_bond, aes(x = ano_exercicio, y = vl_despesa_defl, group = id), linetype = \"dashed\")+\n",
    "    geom_line(data = df_model_train_test_bond, aes(x = ano_exercicio, y = pred15_og, group = id), color = \"red\", linetype = \"dashed\")\n",
    "\n",
    "options(repr.plot.width = 16, repr.plot.height = 8)\n",
    "# plot_grid(g1, g2)\n",
    "plot_grid(g1)"
   ]
  },
  {
   "cell_type": "markdown",
   "id": "cf73b90d-34ef-4ae1-9162-5697d470b195",
   "metadata": {},
   "source": [
    "# 16. Random forests only with all covariates"
   ]
  },
  {
   "cell_type": "code",
   "execution_count": null,
   "id": "c63dbe00-814c-4431-87b0-e331ff8b2434",
   "metadata": {},
   "outputs": [],
   "source": [
    "start <- Sys.time()    \n",
    "    fit_ranger16 <- ranger(vl_despesa_std ~ ano_exercicio, data = df_model_train, num.trees = 500, importance = \"impurity\")\n",
    "time16 <- Sys.time() - start"
   ]
  },
  {
   "cell_type": "code",
   "execution_count": null,
   "id": "beedf092-c580-4764-8185-bd59682112df",
   "metadata": {},
   "outputs": [],
   "source": [
    "y_pred_grouped_train16 <- predict(fit_ranger16, df_model_train)$predictions\n",
    "y_pred_grouped_test16 <- predict(fit_ranger16, df_model_test)$predictions\n",
    "\n",
    "y_pred_train16 <- unlist(y_pred_grouped_train16)\n",
    "y_pred_test16 <- unlist(y_pred_grouped_test16)\n",
    "\n",
    "df_model_train$pred16 <- y_pred_train16\n",
    "df_model_test$pred16 <- y_pred_test16\n",
    "df_model_train_test_bond <- rbind(\n",
    "    df_model_train %>% filter(ano_exercicio == 6),\n",
    "    df_model_test %>% filter(ano_exercicio == 7)\n",
    ")\n",
    "\n",
    "g1 <- ggplot(df_model_train)+\n",
    "    geom_line(data = df_model_train, aes(x = ano_exercicio, y = vl_despesa_std, group = id))+\n",
    "    geom_line(data = df_model_train, aes(x = ano_exercicio, y = pred16, group = id), color = \"red\")+\n",
    "    geom_line(data = df_model_test, aes(x = ano_exercicio, y = vl_despesa_std, group = id))+\n",
    "    geom_line(data = df_model_test, aes(x = ano_exercicio, y = pred16, group = id), color = \"red\")+\n",
    "    geom_line(data = df_model_train_test_bond, aes(x = ano_exercicio, y = vl_despesa_std, group = id), linetype = \"dashed\")+\n",
    "    geom_line(data = df_model_train_test_bond, aes(x = ano_exercicio, y = pred16, group = id), color = \"red\", linetype = \"dashed\")\n",
    "\n",
    "options(repr.plot.width = 16, repr.plot.height = 8)\n",
    "# plot_grid(g1, g2)\n",
    "plot_grid(g1)"
   ]
  },
  {
   "cell_type": "code",
   "execution_count": null,
   "id": "f19cd5d3-0da3-4ec0-ad2a-b9228841a0e8",
   "metadata": {},
   "outputs": [],
   "source": [
    "df_model_train$pred16_og <- df_model_train$pred16*df_model_train$vl_despesa_sd + df_model_train$vl_despesa_mean\n",
    "df_model_test$pred16_og <- df_model_test$pred16*df_model_test$vl_despesa_sd + df_model_test$vl_despesa_mean\n",
    "df_model_train_test_bond <- rbind(\n",
    "    df_model_train %>% filter(ano_exercicio == 6),\n",
    "    df_model_test %>% filter(ano_exercicio == 7)\n",
    ")\n",
    "\n",
    "g1 <- ggplot(df_model_train)+\n",
    "    geom_line(data = df_model_train, aes(x = ano_exercicio, y = vl_despesa_defl, group = id))+\n",
    "    geom_line(data = df_model_train, aes(x = ano_exercicio, y = pred16_og, group = id), color = \"red\")+\n",
    "    geom_line(data = df_model_test, aes(x = ano_exercicio, y = vl_despesa_defl, group = id))+\n",
    "    geom_line(data = df_model_test, aes(x = ano_exercicio, y = pred16_og, group = id), color = \"red\")+\n",
    "    geom_line(data = df_model_train_test_bond, aes(x = ano_exercicio, y = vl_despesa_defl, group = id), linetype = \"dashed\")+\n",
    "    geom_line(data = df_model_train_test_bond, aes(x = ano_exercicio, y = pred16_og, group = id), color = \"red\", linetype = \"dashed\")\n",
    "\n",
    "options(repr.plot.width = 16, repr.plot.height = 8)\n",
    "# plot_grid(g1, g2)\n",
    "plot_grid(g1)"
   ]
  },
  {
   "cell_type": "markdown",
   "id": "1dc31e17-97ca-44fe-8b68-9df086829600",
   "metadata": {},
   "source": [
    "# Final Results"
   ]
  },
  {
   "cell_type": "code",
   "execution_count": null,
   "id": "319049b7-10fe-4849-b348-a195b5e56518",
   "metadata": {},
   "outputs": [],
   "source": [
    "cat(\"Tempo de execução do notebook:\\n\")\n",
    "Sys.time() - overall_time"
   ]
  },
  {
   "cell_type": "markdown",
   "id": "190596ea-f5ac-481f-a1a9-f2801f7afbf1",
   "metadata": {},
   "source": [
    "# Estimated Variable Importances"
   ]
  },
  {
   "cell_type": "code",
   "execution_count": null,
   "id": "7156a00b-7ef7-4e2d-81f2-9160a6a0967a",
   "metadata": {},
   "outputs": [],
   "source": [
    "variables <- names(fit_rpart9$variable.importance)\n",
    "importances_rpart <- fit_rpart9$variable.importance\n",
    "importances_ranger <- importance(fit_ranger10)[variables]\n",
    "\n",
    "importances <- data.frame(\"rpart\" = importances_rpart, \"ranger\" = importances_ranger)"
   ]
  },
  {
   "cell_type": "code",
   "execution_count": null,
   "id": "5b3ac0bf-60df-4a4d-b8b4-2bc1474f59bd",
   "metadata": {},
   "outputs": [],
   "source": [
    "importances %>% arrange(importances_rpart)"
   ]
  },
  {
   "cell_type": "code",
   "execution_count": null,
   "id": "061b9988-71b6-4c8d-8056-f4586d9a35ee",
   "metadata": {},
   "outputs": [],
   "source": [
    "g1 <- ggplot()+\n",
    "    geom_col(aes(x = fct_rev(fct_reorder(variables, importances$rpart)), y = importances$rpart))+\n",
    "    labs(x = \"Variável\", y = \"Importancia\", title = \"Regression Tree\")+\n",
    "    theme(axis.text.x = element_text(angle = 90, vjust = 0.5, hjust=1))\n",
    "g2 <- ggplot(importances)+\n",
    "    geom_col(aes(x = fct_rev(fct_reorder(variables, importances$ranger)), y = importances$ranger))+\n",
    "    labs(x = \"Variável\", y = \"Importancia\", title = \"Random Forests\")+\n",
    "    theme(axis.text.x = element_text(angle = 90, vjust = 0.5, hjust=1))\n",
    "\n",
    "plot_grid(g1, g2)"
   ]
  },
  {
   "cell_type": "markdown",
   "id": "cb8d8c36-61c1-429a-af78-01f1568bd7bf",
   "metadata": {},
   "source": [
    "# Evaluating the metrics"
   ]
  },
  {
   "cell_type": "code",
   "execution_count": null,
   "id": "3b175dbc-d8c2-4b84-8bb0-c1c021a6ff64",
   "metadata": {},
   "outputs": [],
   "source": [
    "mse <- function(y, y_pred){\n",
    "    return(\n",
    "        mean( (y - y_pred)^2 )\n",
    "    )   \n",
    "}\n",
    "\n",
    "rmse <- function(y, y_pred){\n",
    "    return(\n",
    "        sqrt( mse(y, y_pred) )\n",
    "    )   \n",
    "}\n",
    "\n",
    "mae <- function(y, y_pred){\n",
    "    return(\n",
    "        mean( abs(y - y_pred) )\n",
    "    )\n",
    "}"
   ]
  },
  {
   "cell_type": "code",
   "execution_count": null,
   "id": "e3969872-9683-4802-aed2-6a6e8153a406",
   "metadata": {},
   "outputs": [],
   "source": [
    "# Real response values\n",
    "y_train <- df_model_train$vl_despesa_std\n",
    "y_test <- df_model_test$vl_despesa_std\n",
    "\n",
    "y_train_og <- df_model_train$vl_despesa_defl\n",
    "y_test_og <- df_model_test$vl_despesa_defl\n",
    "\n",
    "y_train_pred <- list(df_model_train$pred1, df_model_train$pred2, df_model_train$pred3, df_model_train$pred4,\n",
    "                     df_model_train$pred5, df_model_train$pred6, df_model_train$pred7, df_model_train$pred8,\n",
    "                     df_model_train$pred9, df_model_train$pred10, df_model_train$pred11, df_model_train$pred12,\n",
    "                     df_model_train$pred13, df_model_train$pred14, df_model_train$pred15, df_model_train$pred16)\n",
    "y_train_pred_og <- list(df_model_train$pred1_og, df_model_train$pred2_og, df_model_train$pred3_og, df_model_train$pred4_og,\n",
    "                     df_model_train$pred5_og, df_model_train$pred6_og, df_model_train$pred7_og, df_model_train$pred8_og,\n",
    "                     df_model_train$pred9_og, df_model_train$pred10_og, df_model_train$pred11_og, df_model_train$pred12_og,\n",
    "                       df_model_train$pred13_og, df_model_train$pred14_og, df_model_train$pred15_og, df_model_train$pred16_og)\n",
    "y_test_pred <- list(df_model_test$pred1, df_model_test$pred2, df_model_test$pred3, df_model_test$pred4,\n",
    "                    df_model_test$pred5, df_model_test$pred6, df_model_test$pred7, df_model_test$pred8,\n",
    "                    df_model_test$pred9, df_model_test$pred10, df_model_test$pred11, df_model_test$pred12,\n",
    "                    df_model_test$pred13, df_model_test$pred14, df_model_test$pred15, df_model_test$pred16)\n",
    "y_test_pred_og <- list(df_model_test$pred1_og, df_model_test$pred2_og, df_model_test$pred3_og, df_model_test$pred4_og,\n",
    "                       df_model_test$pred5_og, df_model_test$pred6_og, df_model_test$pred7_og, df_model_test$pred8_og,\n",
    "                       df_model_test$pred9_og, df_model_test$pred10_og, df_model_test$pred11_og, df_model_test$pred12_og,\n",
    "                       df_model_test$pred13_og, df_model_test$pred14_og, df_model_test$pred15_og, df_model_test$pred16_og)\n",
    "\n",
    "models <- c(\"MERT time only + intercept\", \"MERT time only + intercept + slope\", \"MERT all + intercept + slope\", \"MERT all + all\",\n",
    "            \"MERF time only + intercept\", \"MERF time only + intercept + slope\", \"MERF all + intercept + slope\", \"MERF all + all\",\n",
    "            \"Regression Tree all\", \"Random Forests all\", \"MERT all + intercept + slope + quadratic\", \"MERF all + intercept + slope + quadratic\",\n",
    "            \"MERT time + intercept + slope + quadratic\", \"MERF time + intercept + slope + quadratic\", \"Regression Tree time only\", \"Random Forests time only\")\n",
    "times <- c(time1, time2, time3, time4, time5, time6, time7, time8, time9, time10, time11, time12, time13, time14, time15, time16)\n",
    "rmses_train <- c(rmse(y_train, y_train_pred[[1]]), rmse(y_train, y_train_pred[[2]]), rmse(y_train, y_train_pred[[3]]), rmse(y_train, y_train_pred[[4]]), rmse(y_train, y_train_pred[[5]]), rmse(y_train, y_train_pred[[6]]), rmse(y_train, y_train_pred[[7]]), rmse(y_train, y_train_pred[[8]]), rmse(y_train, y_train_pred[[9]]), rmse(y_train, y_train_pred[[10]]), rmse(y_train, y_train_pred[[11]]), rmse(y_train, y_train_pred[[12]]), rmse(y_train, y_train_pred[[13]]), rmse(y_train, y_train_pred[[14]]), rmse(y_train, y_train_pred[[15]]), rmse(y_train, y_train_pred[[16]]))\n",
    "maes_train <- c(mae(y_train, y_train_pred[[1]]), mae(y_train, y_train_pred[[2]]), mae(y_train, y_train_pred[[3]]), mae(y_train, y_train_pred[[4]]), mae(y_train, y_train_pred[[5]]), mae(y_train, y_train_pred[[6]]), mae(y_train, y_train_pred[[7]]), mae(y_train, y_train_pred[[8]]), mae(y_train, y_train_pred[[9]]), mae(y_train, y_train_pred[[10]]), mae(y_train, y_train_pred[[11]]), mae(y_train, y_train_pred[[12]]), mae(y_train, y_train_pred[[13]]), mae(y_train, y_train_pred[[14]]), mae(y_train, y_train_pred[[15]]), mae(y_train, y_train_pred[[16]]))\n",
    "rmses_test <- c(rmse(y_test, y_test_pred[[1]]), rmse(y_test, y_test_pred[[2]]), rmse(y_test, y_test_pred[[3]]), rmse(y_test, y_test_pred[[4]]), rmse(y_test, y_test_pred[[5]]), rmse(y_test, y_test_pred[[6]]), rmse(y_test, y_test_pred[[7]]), rmse(y_test, y_test_pred[[8]]), rmse(y_test, y_test_pred[[9]]), rmse(y_test, y_test_pred[[10]]), rmse(y_test, y_test_pred[[11]]), rmse(y_test, y_test_pred[[12]]), rmse(y_test, y_test_pred[[13]]), rmse(y_test, y_test_pred[[14]]), rmse(y_test, y_test_pred[[15]]), rmse(y_test, y_test_pred[[16]]))\n",
    "maes_test <- c(mae(y_test, y_test_pred[[1]]), mae(y_test, y_test_pred[[2]]), mae(y_test, y_test_pred[[3]]), mae(y_test, y_test_pred[[4]]), mae(y_test, y_test_pred[[5]]), mae(y_test, y_test_pred[[6]]), mae(y_test, y_test_pred[[7]]), mae(y_test, y_test_pred[[8]]), mae(y_test, y_test_pred[[9]]), mae(y_test, y_test_pred[[10]]), mae(y_test, y_test_pred[[11]]), mae(y_test, y_test_pred[[12]]), mae(y_test, y_test_pred[[13]]), mae(y_test, y_test_pred[[14]]), mae(y_test, y_test_pred[[15]]), mae(y_test, y_test_pred[[16]]))\n",
    "\n",
    "rmses_train_og <- c(rmse(y_train_og, y_train_pred_og[[1]]), rmse(y_train_og, y_train_pred_og[[2]]), rmse(y_train_og, y_train_pred_og[[3]]), rmse(y_train_og, y_train_pred_og[[4]]), rmse(y_train_og, y_train_pred_og[[5]]), rmse(y_train_og, y_train_pred_og[[6]]), rmse(y_train_og, y_train_pred_og[[7]]), rmse(y_train_og, y_train_pred_og[[8]]), rmse(y_train_og, y_train_pred_og[[9]]), rmse(y_train_og, y_train_pred_og[[10]]), rmse(y_train_og, y_train_pred_og[[11]]), rmse(y_train_og, y_train_pred_og[[12]]), rmse(y_train_og, y_train_pred_og[[13]]), rmse(y_train_og, y_train_pred_og[[14]]), rmse(y_train_og, y_train_pred_og[[15]]), rmse(y_train_og, y_train_pred_og[[16]]))\n",
    "maes_train_og <- c(mae(y_train_og, y_train_pred_og[[1]]), mae(y_train_og, y_train_pred_og[[2]]), mae(y_train_og, y_train_pred_og[[3]]), mae(y_train_og, y_train_pred_og[[4]]), mae(y_train_og, y_train_pred_og[[5]]), mae(y_train_og, y_train_pred_og[[6]]), mae(y_train_og, y_train_pred_og[[7]]), mae(y_train_og, y_train_pred_og[[8]]), mae(y_train_og, y_train_pred_og[[9]]), mae(y_train_og, y_train_pred_og[[10]]), mae(y_train_og, y_train_pred_og[[11]]), mae(y_train_og, y_train_pred_og[[12]]), mae(y_train_og, y_train_pred_og[[13]]), mae(y_train_og, y_train_pred_og[[14]]), mae(y_train_og, y_train_pred_og[[15]]), mae(y_train_og, y_train_pred_og[[16]]))\n",
    "rmses_test_og <- c(rmse(y_test_og, y_test_pred_og[[1]]), rmse(y_test_og, y_test_pred_og[[2]]), rmse(y_test_og, y_test_pred_og[[3]]), rmse(y_test_og, y_test_pred_og[[4]]), rmse(y_test_og, y_test_pred_og[[5]]), rmse(y_test_og, y_test_pred_og[[6]]), rmse(y_test_og, y_test_pred_og[[7]]), rmse(y_test_og, y_test_pred_og[[8]]), rmse(y_test_og, y_test_pred_og[[9]]), rmse(y_test_og, y_test_pred_og[[10]]), rmse(y_test_og, y_test_pred_og[[11]]), rmse(y_test_og, y_test_pred_og[[12]]), rmse(y_test_og, y_test_pred_og[[13]]), rmse(y_test_og, y_test_pred_og[[14]]), rmse(y_test_og, y_test_pred_og[[15]]), rmse(y_test_og, y_test_pred_og[[16]]))\n",
    "maes_test_og <- c(mae(y_test_og, y_test_pred_og[[1]]), mae(y_test_og, y_test_pred_og[[2]]), mae(y_test_og, y_test_pred_og[[3]]), mae(y_test_og, y_test_pred_og[[4]]), mae(y_test_og, y_test_pred_og[[5]]), mae(y_test_og, y_test_pred_og[[6]]), mae(y_test_og, y_test_pred_og[[7]]), mae(y_test_og, y_test_pred_og[[8]]), mae(y_test_og, y_test_pred_og[[9]]), mae(y_test_og, y_test_pred_og[[10]]), mae(y_test_og, y_test_pred_og[[11]]), mae(y_test_og, y_test_pred_og[[12]]), mae(y_test_og, y_test_pred_og[[13]]), mae(y_test_og, y_test_pred_og[[14]]), mae(y_test_og, y_test_pred_og[[15]]), mae(y_test_og, y_test_pred_og[[16]]))\n",
    "\n",
    "final_results <- data.frame(\"model_id\" = 1:16,\n",
    "           \"models\" = models,\n",
    "           \"RMSE_train\" = rmses_train,\n",
    "           \"MAE_train\" = maes_train,\n",
    "           \"RMSE_test\" = rmses_test,\n",
    "           \"MAE_test\" = maes_test,\n",
    "           \"RMSE_train_escala_original\" = rmses_train_og,\n",
    "           \"MAE_train_escala_original\" = maes_train_og,\n",
    "           \"RMSE_test_escala_original\" = rmses_test_og,\n",
    "           \"MAE_test_escala_original\" = maes_test_og,\n",
    "           \"times\" = times) %>% arrange(RMSE_test_escala_original)\n",
    "final_results"
   ]
  },
  {
   "cell_type": "code",
   "execution_count": null,
   "id": "cb08f441-d344-42be-a86f-1bf38a9c2316",
   "metadata": {},
   "outputs": [],
   "source": [
    "write.csv(final_results, \"Final Results - Big Expenses2.csv\", row.names = FALSE)\n",
    "# write.csv(final_results, \"Final Results - Lower Expenses2.csv\", row.names = FALSE)"
   ]
  },
  {
   "cell_type": "code",
   "execution_count": null,
   "id": "ae9bc27e-e3c4-4e57-8356-3dfa1c5a4196",
   "metadata": {},
   "outputs": [],
   "source": [
    "# final_results_all <- read.csv(\"Final Results - Big Expenses2.csv\")\n",
    "# final_results_lower <- read.csv(\"Final Results - Lower Expenses2.csv\")"
   ]
  }
 ],
 "metadata": {
  "kernelspec": {
   "display_name": "R",
   "language": "R",
   "name": "ir"
  },
  "language_info": {
   "codemirror_mode": "r",
   "file_extension": ".r",
   "mimetype": "text/x-r-source",
   "name": "R",
   "pygments_lexer": "r",
   "version": "4.3.2"
  }
 },
 "nbformat": 4,
 "nbformat_minor": 5
}
