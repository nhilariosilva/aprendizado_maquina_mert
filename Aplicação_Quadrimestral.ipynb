{
 "cells": [
  {
   "cell_type": "code",
   "execution_count": 1,
   "id": "17a364ed-34cd-49f8-83b7-19b4333a9b24",
   "metadata": {},
   "outputs": [],
   "source": [
    "suppressMessages( library(dplyr) ) # Manipulações de funções\n",
    "suppressMessages( library(mvtnorm) ) # Manipulações de funções\n",
    "suppressMessages( library(tidyr) ) # Manipulações de funções\n",
    "\n",
    "suppressMessages( library(arrow) ) # parquet\n",
    "suppressMessages( library(snow) ) # parallel apply, sapply, lapply\n",
    "suppressMessages( library(readxl) ) # parallel apply, sapply, lapply\n",
    "\n",
    "source(\"MERT_functions.R\")\n",
    "\n",
    "# Regression trees\n",
    "suppressMessages( library(rpart) )\n",
    "\n",
    "# Pacotes para a construção de gráficos\n",
    "suppressMessages( library(ggplot2) )\n",
    "suppressMessages( library(cowplot) )\n",
    "suppressMessages( library(latex2exp) )\n",
    "suppressMessages( library(GGally) )\n",
    "\n",
    "# Configurações padrão para os gráficos do ggplot2 no notebook\n",
    "t = theme(plot.title = element_text(size=26, hjust=0.5),\n",
    "          axis.title = element_text(size=20),\n",
    "          axis.text = element_text(size=16),\n",
    "          legend.title = element_text(size = 20),\n",
    "          legend.text = element_text(size = 16),\n",
    "          plot.subtitle = element_text(size = 18, face=\"bold\"))\n",
    "theme_set(theme_minimal()+t)"
   ]
  },
  {
   "cell_type": "code",
   "execution_count": 2,
   "id": "4ed1216a-19fe-4dab-bcbb-c0c69b9e1f7f",
   "metadata": {},
   "outputs": [
    {
     "data": {
      "text/html": [
       "<table class=\"dataframe\">\n",
       "<caption>A tibble: 3 × 13</caption>\n",
       "<thead>\n",
       "\t<tr><th scope=col>ds_municipio</th><th scope=col>ds_orgao</th><th scope=col>cod_despesa</th><th scope=col>ano_exercicio</th><th scope=col>quad</th><th scope=col>ds_despesa</th><th scope=col>tp_orgao</th><th scope=col>ds_funcao_governo</th><th scope=col>ds_subfuncao_governo</th><th scope=col>ds_fonte_recurso</th><th scope=col>ds_modalidade_lic</th><th scope=col>vl_despesa</th><th scope=col>vl_despesa_defl</th></tr>\n",
       "\t<tr><th scope=col>&lt;chr&gt;</th><th scope=col>&lt;chr&gt;</th><th scope=col>&lt;chr&gt;</th><th scope=col>&lt;dbl&gt;</th><th scope=col>&lt;int&gt;</th><th scope=col>&lt;chr&gt;</th><th scope=col>&lt;chr&gt;</th><th scope=col>&lt;chr&gt;</th><th scope=col>&lt;chr&gt;</th><th scope=col>&lt;chr&gt;</th><th scope=col>&lt;chr&gt;</th><th scope=col>&lt;dbl&gt;</th><th scope=col>&lt;dbl&gt;</th></tr>\n",
       "</thead>\n",
       "<tbody>\n",
       "\t<tr><td>adamantina</td><td>camara municipal de adamantina</td><td>0101</td><td>2011</td><td>1</td><td>proventos - pessoal civil</td><td>camara municipal</td><td>legislativa</td><td>acao legislativa</td><td>tesouro</td><td>dispensa de licitacao</td><td>19768.56</td><td> 38793.79</td></tr>\n",
       "\t<tr><td>adamantina</td><td>camara municipal de adamantina</td><td>0301</td><td>2011</td><td>1</td><td>pessoal civil            </td><td>camara municipal</td><td>legislativa</td><td>acao legislativa</td><td>tesouro</td><td>dispensa de licitacao</td><td>22734.90</td><td> 44614.93</td></tr>\n",
       "\t<tr><td>adamantina</td><td>camara municipal de adamantina</td><td>1101</td><td>2011</td><td>1</td><td>vencimentos e salarios   </td><td>camara municipal</td><td>legislativa</td><td>acao legislativa</td><td>tesouro</td><td>dispensa de licitacao</td><td>72753.62</td><td>142771.59</td></tr>\n",
       "</tbody>\n",
       "</table>\n"
      ],
      "text/latex": [
       "A tibble: 3 × 13\n",
       "\\begin{tabular}{lllllllllllll}\n",
       " ds\\_municipio & ds\\_orgao & cod\\_despesa & ano\\_exercicio & quad & ds\\_despesa & tp\\_orgao & ds\\_funcao\\_governo & ds\\_subfuncao\\_governo & ds\\_fonte\\_recurso & ds\\_modalidade\\_lic & vl\\_despesa & vl\\_despesa\\_defl\\\\\n",
       " <chr> & <chr> & <chr> & <dbl> & <int> & <chr> & <chr> & <chr> & <chr> & <chr> & <chr> & <dbl> & <dbl>\\\\\n",
       "\\hline\n",
       "\t adamantina & camara municipal de adamantina & 0101 & 2011 & 1 & proventos - pessoal civil & camara municipal & legislativa & acao legislativa & tesouro & dispensa de licitacao & 19768.56 &  38793.79\\\\\n",
       "\t adamantina & camara municipal de adamantina & 0301 & 2011 & 1 & pessoal civil             & camara municipal & legislativa & acao legislativa & tesouro & dispensa de licitacao & 22734.90 &  44614.93\\\\\n",
       "\t adamantina & camara municipal de adamantina & 1101 & 2011 & 1 & vencimentos e salarios    & camara municipal & legislativa & acao legislativa & tesouro & dispensa de licitacao & 72753.62 & 142771.59\\\\\n",
       "\\end{tabular}\n"
      ],
      "text/markdown": [
       "\n",
       "A tibble: 3 × 13\n",
       "\n",
       "| ds_municipio &lt;chr&gt; | ds_orgao &lt;chr&gt; | cod_despesa &lt;chr&gt; | ano_exercicio &lt;dbl&gt; | quad &lt;int&gt; | ds_despesa &lt;chr&gt; | tp_orgao &lt;chr&gt; | ds_funcao_governo &lt;chr&gt; | ds_subfuncao_governo &lt;chr&gt; | ds_fonte_recurso &lt;chr&gt; | ds_modalidade_lic &lt;chr&gt; | vl_despesa &lt;dbl&gt; | vl_despesa_defl &lt;dbl&gt; |\n",
       "|---|---|---|---|---|---|---|---|---|---|---|---|---|\n",
       "| adamantina | camara municipal de adamantina | 0101 | 2011 | 1 | proventos - pessoal civil | camara municipal | legislativa | acao legislativa | tesouro | dispensa de licitacao | 19768.56 |  38793.79 |\n",
       "| adamantina | camara municipal de adamantina | 0301 | 2011 | 1 | pessoal civil             | camara municipal | legislativa | acao legislativa | tesouro | dispensa de licitacao | 22734.90 |  44614.93 |\n",
       "| adamantina | camara municipal de adamantina | 1101 | 2011 | 1 | vencimentos e salarios    | camara municipal | legislativa | acao legislativa | tesouro | dispensa de licitacao | 72753.62 | 142771.59 |\n",
       "\n"
      ],
      "text/plain": [
       "  ds_municipio ds_orgao                       cod_despesa ano_exercicio quad\n",
       "1 adamantina   camara municipal de adamantina 0101        2011          1   \n",
       "2 adamantina   camara municipal de adamantina 0301        2011          1   \n",
       "3 adamantina   camara municipal de adamantina 1101        2011          1   \n",
       "  ds_despesa                tp_orgao         ds_funcao_governo\n",
       "1 proventos - pessoal civil camara municipal legislativa      \n",
       "2 pessoal civil             camara municipal legislativa      \n",
       "3 vencimentos e salarios    camara municipal legislativa      \n",
       "  ds_subfuncao_governo ds_fonte_recurso ds_modalidade_lic     vl_despesa\n",
       "1 acao legislativa     tesouro          dispensa de licitacao 19768.56  \n",
       "2 acao legislativa     tesouro          dispensa de licitacao 22734.90  \n",
       "3 acao legislativa     tesouro          dispensa de licitacao 72753.62  \n",
       "  vl_despesa_defl\n",
       "1  38793.79      \n",
       "2  44614.93      \n",
       "3 142771.59      "
      ]
     },
     "metadata": {},
     "output_type": "display_data"
    },
    {
     "data": {
      "text/html": [
       "<table class=\"dataframe\">\n",
       "<caption>A tibble: 3 × 3</caption>\n",
       "<thead>\n",
       "\t<tr><th scope=col>ds_municipio</th><th scope=col>ano_exercicio</th><th scope=col>RCL_defl</th></tr>\n",
       "\t<tr><th scope=col>&lt;chr&gt;</th><th scope=col>&lt;dbl&gt;</th><th scope=col>&lt;dbl&gt;</th></tr>\n",
       "</thead>\n",
       "<tbody>\n",
       "\t<tr><td>adamantina</td><td>2010</td><td>143485107</td></tr>\n",
       "\t<tr><td>adolfo    </td><td>2010</td><td> 24941031</td></tr>\n",
       "\t<tr><td>aguai     </td><td>2010</td><td> 95722129</td></tr>\n",
       "</tbody>\n",
       "</table>\n"
      ],
      "text/latex": [
       "A tibble: 3 × 3\n",
       "\\begin{tabular}{lll}\n",
       " ds\\_municipio & ano\\_exercicio & RCL\\_defl\\\\\n",
       " <chr> & <dbl> & <dbl>\\\\\n",
       "\\hline\n",
       "\t adamantina & 2010 & 143485107\\\\\n",
       "\t adolfo     & 2010 &  24941031\\\\\n",
       "\t aguai      & 2010 &  95722129\\\\\n",
       "\\end{tabular}\n"
      ],
      "text/markdown": [
       "\n",
       "A tibble: 3 × 3\n",
       "\n",
       "| ds_municipio &lt;chr&gt; | ano_exercicio &lt;dbl&gt; | RCL_defl &lt;dbl&gt; |\n",
       "|---|---|---|\n",
       "| adamantina | 2010 | 143485107 |\n",
       "| adolfo     | 2010 |  24941031 |\n",
       "| aguai      | 2010 |  95722129 |\n",
       "\n"
      ],
      "text/plain": [
       "  ds_municipio ano_exercicio RCL_defl \n",
       "1 adamantina   2010          143485107\n",
       "2 adolfo       2010           24941031\n",
       "3 aguai        2010           95722129"
      ]
     },
     "metadata": {},
     "output_type": "display_data"
    },
    {
     "data": {
      "text/html": [
       "<table class=\"dataframe\">\n",
       "<caption>A tibble: 3 × 8</caption>\n",
       "<thead>\n",
       "\t<tr><th scope=col>ds_municipio</th><th scope=col>atividade_principal</th><th scope=col>pib_nominal</th><th scope=col>populacao</th><th scope=col>quantidade_total_vagas</th><th scope=col>vereadores</th><th scope=col>area</th><th scope=col>alunos_escola</th></tr>\n",
       "\t<tr><th scope=col>&lt;chr&gt;</th><th scope=col>&lt;chr&gt;</th><th scope=col>&lt;dbl&gt;</th><th scope=col>&lt;dbl&gt;</th><th scope=col>&lt;dbl&gt;</th><th scope=col>&lt;dbl&gt;</th><th scope=col>&lt;dbl&gt;</th><th scope=col>&lt;dbl&gt;</th></tr>\n",
       "</thead>\n",
       "<tbody>\n",
       "\t<tr><td>adamantina</td><td>demais servicos                                            </td><td>1054541</td><td>35023</td><td>2002</td><td> 9</td><td>411</td><td>2359</td></tr>\n",
       "\t<tr><td>adolfo    </td><td>agricultura, inclusive apoio a agricultura e a pos colheita</td><td>  99734</td><td> 3571</td><td> 458</td><td> 9</td><td>211</td><td> 478</td></tr>\n",
       "\t<tr><td>aguai     </td><td>demais servicos                                            </td><td> 942708</td><td>35954</td><td>1471</td><td>13</td><td>474</td><td>3489</td></tr>\n",
       "</tbody>\n",
       "</table>\n"
      ],
      "text/latex": [
       "A tibble: 3 × 8\n",
       "\\begin{tabular}{llllllll}\n",
       " ds\\_municipio & atividade\\_principal & pib\\_nominal & populacao & quantidade\\_total\\_vagas & vereadores & area & alunos\\_escola\\\\\n",
       " <chr> & <chr> & <dbl> & <dbl> & <dbl> & <dbl> & <dbl> & <dbl>\\\\\n",
       "\\hline\n",
       "\t adamantina & demais servicos                                             & 1054541 & 35023 & 2002 &  9 & 411 & 2359\\\\\n",
       "\t adolfo     & agricultura, inclusive apoio a agricultura e a pos colheita &   99734 &  3571 &  458 &  9 & 211 &  478\\\\\n",
       "\t aguai      & demais servicos                                             &  942708 & 35954 & 1471 & 13 & 474 & 3489\\\\\n",
       "\\end{tabular}\n"
      ],
      "text/markdown": [
       "\n",
       "A tibble: 3 × 8\n",
       "\n",
       "| ds_municipio &lt;chr&gt; | atividade_principal &lt;chr&gt; | pib_nominal &lt;dbl&gt; | populacao &lt;dbl&gt; | quantidade_total_vagas &lt;dbl&gt; | vereadores &lt;dbl&gt; | area &lt;dbl&gt; | alunos_escola &lt;dbl&gt; |\n",
       "|---|---|---|---|---|---|---|---|\n",
       "| adamantina | demais servicos                                             | 1054541 | 35023 | 2002 |  9 | 411 | 2359 |\n",
       "| adolfo     | agricultura, inclusive apoio a agricultura e a pos colheita |   99734 |  3571 |  458 |  9 | 211 |  478 |\n",
       "| aguai      | demais servicos                                             |  942708 | 35954 | 1471 | 13 | 474 | 3489 |\n",
       "\n"
      ],
      "text/plain": [
       "  ds_municipio atividade_principal                                        \n",
       "1 adamantina   demais servicos                                            \n",
       "2 adolfo       agricultura, inclusive apoio a agricultura e a pos colheita\n",
       "3 aguai        demais servicos                                            \n",
       "  pib_nominal populacao quantidade_total_vagas vereadores area alunos_escola\n",
       "1 1054541     35023     2002                    9         411  2359         \n",
       "2   99734      3571      458                    9         211   478         \n",
       "3  942708     35954     1471                   13         474  3489         "
      ]
     },
     "metadata": {},
     "output_type": "display_data"
    }
   ],
   "source": [
    "df <- read_parquet(\"Data/quadrimestral_data.parquet\")\n",
    "df_rcl <- read_excel(\"Data/rcl_municipios_deflated.xlsx\")\n",
    "info_municipios <- read_excel(\"Data/info_municipios.xlsx\")\n",
    "\n",
    "df_rcl <- df_rcl %>% select(ds_municipio, ano_exercicio, RCL_defl)\n",
    "info_municipios <- info_municipios %>% select(ds_municipio, atividade_principal, pib_nominal, populacao,\n",
    "                                              quantidade_total_vagas, vereadores, area, alunos_escola)\n",
    "\n",
    "head(df, 3)\n",
    "head(df_rcl,3)\n",
    "head(info_municipios,3)"
   ]
  },
  {
   "cell_type": "code",
   "execution_count": 3,
   "id": "f836498b-b915-4ed2-abc7-7256a851c3f6",
   "metadata": {},
   "outputs": [
    {
     "data": {
      "text/html": [
       "<table class=\"dataframe\">\n",
       "<caption>A data.frame: 6 × 21</caption>\n",
       "<thead>\n",
       "\t<tr><th></th><th scope=col>ds_municipio</th><th scope=col>ano_exercicio</th><th scope=col>ds_orgao</th><th scope=col>cod_despesa</th><th scope=col>quad</th><th scope=col>ds_despesa</th><th scope=col>tp_orgao</th><th scope=col>ds_funcao_governo</th><th scope=col>ds_subfuncao_governo</th><th scope=col>ds_fonte_recurso</th><th scope=col>⋯</th><th scope=col>vl_despesa</th><th scope=col>vl_despesa_defl</th><th scope=col>atividade_principal</th><th scope=col>pib_nominal</th><th scope=col>populacao</th><th scope=col>quantidade_total_vagas</th><th scope=col>vereadores</th><th scope=col>area</th><th scope=col>alunos_escola</th><th scope=col>RCL_defl</th></tr>\n",
       "\t<tr><th></th><th scope=col>&lt;chr&gt;</th><th scope=col>&lt;dbl&gt;</th><th scope=col>&lt;chr&gt;</th><th scope=col>&lt;chr&gt;</th><th scope=col>&lt;int&gt;</th><th scope=col>&lt;chr&gt;</th><th scope=col>&lt;chr&gt;</th><th scope=col>&lt;chr&gt;</th><th scope=col>&lt;chr&gt;</th><th scope=col>&lt;chr&gt;</th><th scope=col>⋯</th><th scope=col>&lt;dbl&gt;</th><th scope=col>&lt;dbl&gt;</th><th scope=col>&lt;chr&gt;</th><th scope=col>&lt;dbl&gt;</th><th scope=col>&lt;dbl&gt;</th><th scope=col>&lt;dbl&gt;</th><th scope=col>&lt;dbl&gt;</th><th scope=col>&lt;dbl&gt;</th><th scope=col>&lt;dbl&gt;</th><th scope=col>&lt;dbl&gt;</th></tr>\n",
       "</thead>\n",
       "<tbody>\n",
       "\t<tr><th scope=row>1</th><td>adamantina</td><td>2011</td><td>camara municipal de adamantina    </td><td>3940</td><td>2</td><td>programa de alimentacao do trabalhador</td><td>camara municipal    </td><td>legislativa       </td><td>acao legislativa        </td><td>tesouro                                    </td><td>⋯</td><td> 7290.00</td><td> 14142.599</td><td>demais servicos</td><td>1054541</td><td>35023</td><td>2002</td><td>9</td><td>411</td><td>2359</td><td>154390907</td></tr>\n",
       "\t<tr><th scope=row>2</th><td>adamantina</td><td>2011</td><td>centro universitario de adamantina</td><td>0101</td><td>3</td><td>proventos - pessoal civil             </td><td>centro universitario</td><td>previdencia social</td><td>previdencia complementar</td><td>recursos proprios da administracao indireta</td><td>⋯</td><td>64618.43</td><td>122907.966</td><td>demais servicos</td><td>1054541</td><td>35023</td><td>2002</td><td>9</td><td>411</td><td>2359</td><td>154390907</td></tr>\n",
       "\t<tr><th scope=row>3</th><td>adamantina</td><td>2011</td><td>camara municipal de adamantina    </td><td>3940</td><td>1</td><td>programa de alimentacao do trabalhador</td><td>camara municipal    </td><td>legislativa       </td><td>acao legislativa        </td><td>tesouro                                    </td><td>⋯</td><td> 6210.00</td><td> 12186.495</td><td>demais servicos</td><td>1054541</td><td>35023</td><td>2002</td><td>9</td><td>411</td><td>2359</td><td>154390907</td></tr>\n",
       "\t<tr><th scope=row>4</th><td>adamantina</td><td>2011</td><td>centro universitario de adamantina</td><td>3980</td><td>2</td><td>hospedagens                           </td><td>centro universitario</td><td>educacao          </td><td>ensino superior         </td><td>recursos proprios da administracao indireta</td><td>⋯</td><td> 1291.87</td><td>  2506.228</td><td>demais servicos</td><td>1054541</td><td>35023</td><td>2002</td><td>9</td><td>411</td><td>2359</td><td>154390907</td></tr>\n",
       "\t<tr><th scope=row>5</th><td>adamantina</td><td>2011</td><td>camara municipal de adamantina    </td><td>3911</td><td>2</td><td>locacao de softwares                  </td><td>camara municipal    </td><td>legislativa       </td><td>acao legislativa        </td><td>tesouro                                    </td><td>⋯</td><td> 6600.00</td><td> 12803.999</td><td>demais servicos</td><td>1054541</td><td>35023</td><td>2002</td><td>9</td><td>411</td><td>2359</td><td>154390907</td></tr>\n",
       "\t<tr><th scope=row>6</th><td>adamantina</td><td>2011</td><td>centro universitario de adamantina</td><td>3941</td><td>2</td><td>fornecimento de alimentacao           </td><td>centro universitario</td><td>educacao          </td><td>ensino superior         </td><td>recursos proprios da administracao indireta</td><td>⋯</td><td> 1750.00</td><td>  3395.000</td><td>demais servicos</td><td>1054541</td><td>35023</td><td>2002</td><td>9</td><td>411</td><td>2359</td><td>154390907</td></tr>\n",
       "</tbody>\n",
       "</table>\n"
      ],
      "text/latex": [
       "A data.frame: 6 × 21\n",
       "\\begin{tabular}{r|lllllllllllllllllllll}\n",
       "  & ds\\_municipio & ano\\_exercicio & ds\\_orgao & cod\\_despesa & quad & ds\\_despesa & tp\\_orgao & ds\\_funcao\\_governo & ds\\_subfuncao\\_governo & ds\\_fonte\\_recurso & ⋯ & vl\\_despesa & vl\\_despesa\\_defl & atividade\\_principal & pib\\_nominal & populacao & quantidade\\_total\\_vagas & vereadores & area & alunos\\_escola & RCL\\_defl\\\\\n",
       "  & <chr> & <dbl> & <chr> & <chr> & <int> & <chr> & <chr> & <chr> & <chr> & <chr> & ⋯ & <dbl> & <dbl> & <chr> & <dbl> & <dbl> & <dbl> & <dbl> & <dbl> & <dbl> & <dbl>\\\\\n",
       "\\hline\n",
       "\t1 & adamantina & 2011 & camara municipal de adamantina     & 3940 & 2 & programa de alimentacao do trabalhador & camara municipal     & legislativa        & acao legislativa         & tesouro                                     & ⋯ &  7290.00 &  14142.599 & demais servicos & 1054541 & 35023 & 2002 & 9 & 411 & 2359 & 154390907\\\\\n",
       "\t2 & adamantina & 2011 & centro universitario de adamantina & 0101 & 3 & proventos - pessoal civil              & centro universitario & previdencia social & previdencia complementar & recursos proprios da administracao indireta & ⋯ & 64618.43 & 122907.966 & demais servicos & 1054541 & 35023 & 2002 & 9 & 411 & 2359 & 154390907\\\\\n",
       "\t3 & adamantina & 2011 & camara municipal de adamantina     & 3940 & 1 & programa de alimentacao do trabalhador & camara municipal     & legislativa        & acao legislativa         & tesouro                                     & ⋯ &  6210.00 &  12186.495 & demais servicos & 1054541 & 35023 & 2002 & 9 & 411 & 2359 & 154390907\\\\\n",
       "\t4 & adamantina & 2011 & centro universitario de adamantina & 3980 & 2 & hospedagens                            & centro universitario & educacao           & ensino superior          & recursos proprios da administracao indireta & ⋯ &  1291.87 &   2506.228 & demais servicos & 1054541 & 35023 & 2002 & 9 & 411 & 2359 & 154390907\\\\\n",
       "\t5 & adamantina & 2011 & camara municipal de adamantina     & 3911 & 2 & locacao de softwares                   & camara municipal     & legislativa        & acao legislativa         & tesouro                                     & ⋯ &  6600.00 &  12803.999 & demais servicos & 1054541 & 35023 & 2002 & 9 & 411 & 2359 & 154390907\\\\\n",
       "\t6 & adamantina & 2011 & centro universitario de adamantina & 3941 & 2 & fornecimento de alimentacao            & centro universitario & educacao           & ensino superior          & recursos proprios da administracao indireta & ⋯ &  1750.00 &   3395.000 & demais servicos & 1054541 & 35023 & 2002 & 9 & 411 & 2359 & 154390907\\\\\n",
       "\\end{tabular}\n"
      ],
      "text/markdown": [
       "\n",
       "A data.frame: 6 × 21\n",
       "\n",
       "| <!--/--> | ds_municipio &lt;chr&gt; | ano_exercicio &lt;dbl&gt; | ds_orgao &lt;chr&gt; | cod_despesa &lt;chr&gt; | quad &lt;int&gt; | ds_despesa &lt;chr&gt; | tp_orgao &lt;chr&gt; | ds_funcao_governo &lt;chr&gt; | ds_subfuncao_governo &lt;chr&gt; | ds_fonte_recurso &lt;chr&gt; | ⋯ ⋯ | vl_despesa &lt;dbl&gt; | vl_despesa_defl &lt;dbl&gt; | atividade_principal &lt;chr&gt; | pib_nominal &lt;dbl&gt; | populacao &lt;dbl&gt; | quantidade_total_vagas &lt;dbl&gt; | vereadores &lt;dbl&gt; | area &lt;dbl&gt; | alunos_escola &lt;dbl&gt; | RCL_defl &lt;dbl&gt; |\n",
       "|---|---|---|---|---|---|---|---|---|---|---|---|---|---|---|---|---|---|---|---|---|---|\n",
       "| 1 | adamantina | 2011 | camara municipal de adamantina     | 3940 | 2 | programa de alimentacao do trabalhador | camara municipal     | legislativa        | acao legislativa         | tesouro                                     | ⋯ |  7290.00 |  14142.599 | demais servicos | 1054541 | 35023 | 2002 | 9 | 411 | 2359 | 154390907 |\n",
       "| 2 | adamantina | 2011 | centro universitario de adamantina | 0101 | 3 | proventos - pessoal civil              | centro universitario | previdencia social | previdencia complementar | recursos proprios da administracao indireta | ⋯ | 64618.43 | 122907.966 | demais servicos | 1054541 | 35023 | 2002 | 9 | 411 | 2359 | 154390907 |\n",
       "| 3 | adamantina | 2011 | camara municipal de adamantina     | 3940 | 1 | programa de alimentacao do trabalhador | camara municipal     | legislativa        | acao legislativa         | tesouro                                     | ⋯ |  6210.00 |  12186.495 | demais servicos | 1054541 | 35023 | 2002 | 9 | 411 | 2359 | 154390907 |\n",
       "| 4 | adamantina | 2011 | centro universitario de adamantina | 3980 | 2 | hospedagens                            | centro universitario | educacao           | ensino superior          | recursos proprios da administracao indireta | ⋯ |  1291.87 |   2506.228 | demais servicos | 1054541 | 35023 | 2002 | 9 | 411 | 2359 | 154390907 |\n",
       "| 5 | adamantina | 2011 | camara municipal de adamantina     | 3911 | 2 | locacao de softwares                   | camara municipal     | legislativa        | acao legislativa         | tesouro                                     | ⋯ |  6600.00 |  12803.999 | demais servicos | 1054541 | 35023 | 2002 | 9 | 411 | 2359 | 154390907 |\n",
       "| 6 | adamantina | 2011 | centro universitario de adamantina | 3941 | 2 | fornecimento de alimentacao            | centro universitario | educacao           | ensino superior          | recursos proprios da administracao indireta | ⋯ |  1750.00 |   3395.000 | demais servicos | 1054541 | 35023 | 2002 | 9 | 411 | 2359 | 154390907 |\n",
       "\n"
      ],
      "text/plain": [
       "  ds_municipio ano_exercicio ds_orgao                           cod_despesa\n",
       "1 adamantina   2011          camara municipal de adamantina     3940       \n",
       "2 adamantina   2011          centro universitario de adamantina 0101       \n",
       "3 adamantina   2011          camara municipal de adamantina     3940       \n",
       "4 adamantina   2011          centro universitario de adamantina 3980       \n",
       "5 adamantina   2011          camara municipal de adamantina     3911       \n",
       "6 adamantina   2011          centro universitario de adamantina 3941       \n",
       "  quad ds_despesa                             tp_orgao            \n",
       "1 2    programa de alimentacao do trabalhador camara municipal    \n",
       "2 3    proventos - pessoal civil              centro universitario\n",
       "3 1    programa de alimentacao do trabalhador camara municipal    \n",
       "4 2    hospedagens                            centro universitario\n",
       "5 2    locacao de softwares                   camara municipal    \n",
       "6 2    fornecimento de alimentacao            centro universitario\n",
       "  ds_funcao_governo  ds_subfuncao_governo    \n",
       "1 legislativa        acao legislativa        \n",
       "2 previdencia social previdencia complementar\n",
       "3 legislativa        acao legislativa        \n",
       "4 educacao           ensino superior         \n",
       "5 legislativa        acao legislativa        \n",
       "6 educacao           ensino superior         \n",
       "  ds_fonte_recurso                            ⋯ vl_despesa vl_despesa_defl\n",
       "1 tesouro                                     ⋯  7290.00    14142.599     \n",
       "2 recursos proprios da administracao indireta ⋯ 64618.43   122907.966     \n",
       "3 tesouro                                     ⋯  6210.00    12186.495     \n",
       "4 recursos proprios da administracao indireta ⋯  1291.87     2506.228     \n",
       "5 tesouro                                     ⋯  6600.00    12803.999     \n",
       "6 recursos proprios da administracao indireta ⋯  1750.00     3395.000     \n",
       "  atividade_principal pib_nominal populacao quantidade_total_vagas vereadores\n",
       "1 demais servicos     1054541     35023     2002                   9         \n",
       "2 demais servicos     1054541     35023     2002                   9         \n",
       "3 demais servicos     1054541     35023     2002                   9         \n",
       "4 demais servicos     1054541     35023     2002                   9         \n",
       "5 demais servicos     1054541     35023     2002                   9         \n",
       "6 demais servicos     1054541     35023     2002                   9         \n",
       "  area alunos_escola RCL_defl \n",
       "1 411  2359          154390907\n",
       "2 411  2359          154390907\n",
       "3 411  2359          154390907\n",
       "4 411  2359          154390907\n",
       "5 411  2359          154390907\n",
       "6 411  2359          154390907"
      ]
     },
     "metadata": {},
     "output_type": "display_data"
    }
   ],
   "source": [
    "df <- merge(df, info_municipios, by = \"ds_municipio\")\n",
    "df <- merge(df, df_rcl, by = c(\"ds_municipio\", \"ano_exercicio\"))\n",
    "\n",
    "head(df)"
   ]
  },
  {
   "cell_type": "markdown",
   "id": "1d0a89ba-e837-41ae-aa8f-55ed4f34d7b4",
   "metadata": {},
   "source": [
    "## Modeling"
   ]
  },
  {
   "cell_type": "markdown",
   "id": "9f30d561-ceac-4340-b675-535e4a9f1a92",
   "metadata": {},
   "source": [
    "For the modeling step, let's consider a subset of all the variables above. Also, we shall split the dataset into train and test components. For this to fit the predictive nature of this problem in time, the training set will be formed by observations up to 2017 and the test from 2018 up to 2021."
   ]
  },
  {
   "cell_type": "code",
   "execution_count": 4,
   "id": "e6a1324f-20d9-4c69-8873-913bc451e0ef",
   "metadata": {},
   "outputs": [
    {
     "data": {
      "text/html": [
       "<table class=\"dataframe\">\n",
       "<caption>A data.frame: 4 × 15</caption>\n",
       "<thead>\n",
       "\t<tr><th></th><th scope=col>ds_municipio</th><th scope=col>ds_orgao</th><th scope=col>cod_despesa</th><th scope=col>ano_exercicio</th><th scope=col>quad</th><th scope=col>tp_orgao</th><th scope=col>ds_funcao_governo</th><th scope=col>ds_fonte_recurso</th><th scope=col>RCL_defl</th><th scope=col>pib_nominal</th><th scope=col>populacao</th><th scope=col>quantidade_total_vagas</th><th scope=col>vereadores</th><th scope=col>area</th><th scope=col>vl_despesa_defl</th></tr>\n",
       "\t<tr><th></th><th scope=col>&lt;chr&gt;</th><th scope=col>&lt;chr&gt;</th><th scope=col>&lt;chr&gt;</th><th scope=col>&lt;dbl&gt;</th><th scope=col>&lt;int&gt;</th><th scope=col>&lt;chr&gt;</th><th scope=col>&lt;chr&gt;</th><th scope=col>&lt;chr&gt;</th><th scope=col>&lt;dbl&gt;</th><th scope=col>&lt;dbl&gt;</th><th scope=col>&lt;dbl&gt;</th><th scope=col>&lt;dbl&gt;</th><th scope=col>&lt;dbl&gt;</th><th scope=col>&lt;dbl&gt;</th><th scope=col>&lt;dbl&gt;</th></tr>\n",
       "</thead>\n",
       "<tbody>\n",
       "\t<tr><th scope=row>1</th><td>adamantina</td><td>camara municipal de adamantina    </td><td>3940</td><td>2011</td><td>2</td><td>camara municipal    </td><td>legislativa       </td><td>tesouro                                    </td><td>154390907</td><td>1054541</td><td>35023</td><td>2002</td><td>9</td><td>411</td><td> 14142.599</td></tr>\n",
       "\t<tr><th scope=row>2</th><td>adamantina</td><td>centro universitario de adamantina</td><td>0101</td><td>2011</td><td>3</td><td>centro universitario</td><td>previdencia social</td><td>recursos proprios da administracao indireta</td><td>154390907</td><td>1054541</td><td>35023</td><td>2002</td><td>9</td><td>411</td><td>122907.966</td></tr>\n",
       "\t<tr><th scope=row>3</th><td>adamantina</td><td>camara municipal de adamantina    </td><td>3940</td><td>2011</td><td>1</td><td>camara municipal    </td><td>legislativa       </td><td>tesouro                                    </td><td>154390907</td><td>1054541</td><td>35023</td><td>2002</td><td>9</td><td>411</td><td> 12186.495</td></tr>\n",
       "\t<tr><th scope=row>4</th><td>adamantina</td><td>centro universitario de adamantina</td><td>3980</td><td>2011</td><td>2</td><td>centro universitario</td><td>educacao          </td><td>recursos proprios da administracao indireta</td><td>154390907</td><td>1054541</td><td>35023</td><td>2002</td><td>9</td><td>411</td><td>  2506.228</td></tr>\n",
       "</tbody>\n",
       "</table>\n"
      ],
      "text/latex": [
       "A data.frame: 4 × 15\n",
       "\\begin{tabular}{r|lllllllllllllll}\n",
       "  & ds\\_municipio & ds\\_orgao & cod\\_despesa & ano\\_exercicio & quad & tp\\_orgao & ds\\_funcao\\_governo & ds\\_fonte\\_recurso & RCL\\_defl & pib\\_nominal & populacao & quantidade\\_total\\_vagas & vereadores & area & vl\\_despesa\\_defl\\\\\n",
       "  & <chr> & <chr> & <chr> & <dbl> & <int> & <chr> & <chr> & <chr> & <dbl> & <dbl> & <dbl> & <dbl> & <dbl> & <dbl> & <dbl>\\\\\n",
       "\\hline\n",
       "\t1 & adamantina & camara municipal de adamantina     & 3940 & 2011 & 2 & camara municipal     & legislativa        & tesouro                                     & 154390907 & 1054541 & 35023 & 2002 & 9 & 411 &  14142.599\\\\\n",
       "\t2 & adamantina & centro universitario de adamantina & 0101 & 2011 & 3 & centro universitario & previdencia social & recursos proprios da administracao indireta & 154390907 & 1054541 & 35023 & 2002 & 9 & 411 & 122907.966\\\\\n",
       "\t3 & adamantina & camara municipal de adamantina     & 3940 & 2011 & 1 & camara municipal     & legislativa        & tesouro                                     & 154390907 & 1054541 & 35023 & 2002 & 9 & 411 &  12186.495\\\\\n",
       "\t4 & adamantina & centro universitario de adamantina & 3980 & 2011 & 2 & centro universitario & educacao           & recursos proprios da administracao indireta & 154390907 & 1054541 & 35023 & 2002 & 9 & 411 &   2506.228\\\\\n",
       "\\end{tabular}\n"
      ],
      "text/markdown": [
       "\n",
       "A data.frame: 4 × 15\n",
       "\n",
       "| <!--/--> | ds_municipio &lt;chr&gt; | ds_orgao &lt;chr&gt; | cod_despesa &lt;chr&gt; | ano_exercicio &lt;dbl&gt; | quad &lt;int&gt; | tp_orgao &lt;chr&gt; | ds_funcao_governo &lt;chr&gt; | ds_fonte_recurso &lt;chr&gt; | RCL_defl &lt;dbl&gt; | pib_nominal &lt;dbl&gt; | populacao &lt;dbl&gt; | quantidade_total_vagas &lt;dbl&gt; | vereadores &lt;dbl&gt; | area &lt;dbl&gt; | vl_despesa_defl &lt;dbl&gt; |\n",
       "|---|---|---|---|---|---|---|---|---|---|---|---|---|---|---|---|\n",
       "| 1 | adamantina | camara municipal de adamantina     | 3940 | 2011 | 2 | camara municipal     | legislativa        | tesouro                                     | 154390907 | 1054541 | 35023 | 2002 | 9 | 411 |  14142.599 |\n",
       "| 2 | adamantina | centro universitario de adamantina | 0101 | 2011 | 3 | centro universitario | previdencia social | recursos proprios da administracao indireta | 154390907 | 1054541 | 35023 | 2002 | 9 | 411 | 122907.966 |\n",
       "| 3 | adamantina | camara municipal de adamantina     | 3940 | 2011 | 1 | camara municipal     | legislativa        | tesouro                                     | 154390907 | 1054541 | 35023 | 2002 | 9 | 411 |  12186.495 |\n",
       "| 4 | adamantina | centro universitario de adamantina | 3980 | 2011 | 2 | centro universitario | educacao           | recursos proprios da administracao indireta | 154390907 | 1054541 | 35023 | 2002 | 9 | 411 |   2506.228 |\n",
       "\n"
      ],
      "text/plain": [
       "  ds_municipio ds_orgao                           cod_despesa ano_exercicio\n",
       "1 adamantina   camara municipal de adamantina     3940        2011         \n",
       "2 adamantina   centro universitario de adamantina 0101        2011         \n",
       "3 adamantina   camara municipal de adamantina     3940        2011         \n",
       "4 adamantina   centro universitario de adamantina 3980        2011         \n",
       "  quad tp_orgao             ds_funcao_governo \n",
       "1 2    camara municipal     legislativa       \n",
       "2 3    centro universitario previdencia social\n",
       "3 1    camara municipal     legislativa       \n",
       "4 2    centro universitario educacao          \n",
       "  ds_fonte_recurso                            RCL_defl  pib_nominal populacao\n",
       "1 tesouro                                     154390907 1054541     35023    \n",
       "2 recursos proprios da administracao indireta 154390907 1054541     35023    \n",
       "3 tesouro                                     154390907 1054541     35023    \n",
       "4 recursos proprios da administracao indireta 154390907 1054541     35023    \n",
       "  quantidade_total_vagas vereadores area vl_despesa_defl\n",
       "1 2002                   9          411   14142.599     \n",
       "2 2002                   9          411  122907.966     \n",
       "3 2002                   9          411   12186.495     \n",
       "4 2002                   9          411    2506.228     "
      ]
     },
     "metadata": {},
     "output_type": "display_data"
    }
   ],
   "source": [
    "df_model <- df %>% select(ds_municipio, ds_orgao, cod_despesa, ano_exercicio, quad, tp_orgao, ds_funcao_governo, ds_fonte_recurso,\n",
    "                          RCL_defl, pib_nominal, populacao, quantidade_total_vagas, vereadores, area,\n",
    "                          vl_despesa_defl)\n",
    "head(df_model, 4)"
   ]
  },
  {
   "cell_type": "markdown",
   "id": "5eebf5e5-40db-4946-bc50-9302b98f3a01",
   "metadata": {},
   "source": [
    "As it can be seen, the triple (ds_municipio, ds_orgao, cod_despesa) forms a new individual (associated to each triple there is a time series of expenses). Even though it would be possible to group all the triples into a single index variable, it seems more reasonable to consider at least one of them as covariates for the model, as they are nested covariates. The ideal approach to this would be something similar to the structure given by Galecki (2013) (page 248), in which there are N first-level groups (indexed by $i = 1, \\dots, N$), each with $n_i$ second-level sub-groups (indexed by $j = 1, \\dots, n_i$), which contain $n_{ij}$ observations each. A linear model for this example could be given by\n",
    "\n",
    "\\begin{equation*}\n",
    "    Y_{ij} = X_{ij} \\beta + Z_{1,ij} b_i + Z_{2,ij} b_{ij} + \\varepsilon_{ij},\n",
    "\\end{equation*}\n",
    "\n",
    "given that $b_i \\sim N_{q_1}(0, D_1)$, $b_{ij} \\sim N_{q_2}(0, D_2)$ and $\\varepsilon \\sim N_{n_{ij}}(0, R_{ij})$.\n",
    "\n",
    "Note that in this case, since we have triples, it would be necessary another layer to this complex structure! For now this is not the most viable option. So in order to simplify this problem, let's at first consider that each individual is given by a triple but that the city is also a covariate for all of them. That way, even though essentially we suppose that different triples are independent from each other (clearly not the case), we insert a new covariate to account for part of the information loss associated with that hypothesis (at first I don't see a reason for it to be worse from the modelling perspective, as the information would not be lost wif we considered the variables in this way).\n"
   ]
  },
  {
   "cell_type": "code",
   "execution_count": null,
   "id": "98fe02d9-fe30-44e0-ac3e-5c834464bc13",
   "metadata": {},
   "outputs": [],
   "source": [
    "dates <- as.Date(paste(\n",
    "    df_model$ano_exercicio,\n",
    "    ifelse(df_model$quad == 1, 4, ifelse(df_model$quad == 2, 8, 12)),\n",
    "    15, sep = \"-\"), \"%Y-%m-%d\")\n",
    "\n",
    "df_model$aprox_date <- dates\n",
    "head(df_model, 2)"
   ]
  },
  {
   "cell_type": "code",
   "execution_count": 6,
   "id": "d286ddb5-c636-47b5-ba6e-9610a1287b9d",
   "metadata": {},
   "outputs": [
    {
     "data": {
      "text/html": [
       "<table class=\"dataframe\">\n",
       "<caption>A grouped_df: 4 × 17</caption>\n",
       "<thead>\n",
       "\t<tr><th scope=col>id</th><th scope=col>ds_municipio</th><th scope=col>ds_orgao</th><th scope=col>cod_despesa</th><th scope=col>ano_exercicio</th><th scope=col>quad</th><th scope=col>tp_orgao</th><th scope=col>ds_funcao_governo</th><th scope=col>ds_fonte_recurso</th><th scope=col>RCL_defl</th><th scope=col>pib_nominal</th><th scope=col>populacao</th><th scope=col>quantidade_total_vagas</th><th scope=col>vereadores</th><th scope=col>area</th><th scope=col>vl_despesa_defl</th><th scope=col>aprox_date</th></tr>\n",
       "\t<tr><th scope=col>&lt;int&gt;</th><th scope=col>&lt;chr&gt;</th><th scope=col>&lt;chr&gt;</th><th scope=col>&lt;chr&gt;</th><th scope=col>&lt;dbl&gt;</th><th scope=col>&lt;int&gt;</th><th scope=col>&lt;chr&gt;</th><th scope=col>&lt;chr&gt;</th><th scope=col>&lt;chr&gt;</th><th scope=col>&lt;dbl&gt;</th><th scope=col>&lt;dbl&gt;</th><th scope=col>&lt;dbl&gt;</th><th scope=col>&lt;dbl&gt;</th><th scope=col>&lt;dbl&gt;</th><th scope=col>&lt;dbl&gt;</th><th scope=col>&lt;dbl&gt;</th><th scope=col>&lt;date&gt;</th></tr>\n",
       "</thead>\n",
       "<tbody>\n",
       "\t<tr><td>1</td><td>adamantina</td><td>camara municipal de adamantina</td><td>0101</td><td>2011</td><td>3</td><td>camara municipal</td><td>legislativa</td><td>tesouro</td><td>154390907</td><td>1054541</td><td>35023</td><td>2002</td><td>9</td><td>411</td><td>39612.48</td><td>2011-12-15</td></tr>\n",
       "\t<tr><td>1</td><td>adamantina</td><td>camara municipal de adamantina</td><td>0101</td><td>2011</td><td>1</td><td>camara municipal</td><td>legislativa</td><td>tesouro</td><td>154390907</td><td>1054541</td><td>35023</td><td>2002</td><td>9</td><td>411</td><td>38793.79</td><td>2011-04-15</td></tr>\n",
       "\t<tr><td>1</td><td>adamantina</td><td>camara municipal de adamantina</td><td>0101</td><td>2011</td><td>2</td><td>camara municipal</td><td>legislativa</td><td>tesouro</td><td>154390907</td><td>1054541</td><td>35023</td><td>2002</td><td>9</td><td>411</td><td>35685.52</td><td>2011-08-15</td></tr>\n",
       "\t<tr><td>1</td><td>adamantina</td><td>camara municipal de adamantina</td><td>0101</td><td>2012</td><td>3</td><td>camara municipal</td><td>legislativa</td><td>tesouro</td><td>152762472</td><td>1054541</td><td>35023</td><td>2002</td><td>9</td><td>411</td><td>43139.99</td><td>2012-12-15</td></tr>\n",
       "</tbody>\n",
       "</table>\n"
      ],
      "text/latex": [
       "A grouped\\_df: 4 × 17\n",
       "\\begin{tabular}{lllllllllllllllll}\n",
       " id & ds\\_municipio & ds\\_orgao & cod\\_despesa & ano\\_exercicio & quad & tp\\_orgao & ds\\_funcao\\_governo & ds\\_fonte\\_recurso & RCL\\_defl & pib\\_nominal & populacao & quantidade\\_total\\_vagas & vereadores & area & vl\\_despesa\\_defl & aprox\\_date\\\\\n",
       " <int> & <chr> & <chr> & <chr> & <dbl> & <int> & <chr> & <chr> & <chr> & <dbl> & <dbl> & <dbl> & <dbl> & <dbl> & <dbl> & <dbl> & <date>\\\\\n",
       "\\hline\n",
       "\t 1 & adamantina & camara municipal de adamantina & 0101 & 2011 & 3 & camara municipal & legislativa & tesouro & 154390907 & 1054541 & 35023 & 2002 & 9 & 411 & 39612.48 & 2011-12-15\\\\\n",
       "\t 1 & adamantina & camara municipal de adamantina & 0101 & 2011 & 1 & camara municipal & legislativa & tesouro & 154390907 & 1054541 & 35023 & 2002 & 9 & 411 & 38793.79 & 2011-04-15\\\\\n",
       "\t 1 & adamantina & camara municipal de adamantina & 0101 & 2011 & 2 & camara municipal & legislativa & tesouro & 154390907 & 1054541 & 35023 & 2002 & 9 & 411 & 35685.52 & 2011-08-15\\\\\n",
       "\t 1 & adamantina & camara municipal de adamantina & 0101 & 2012 & 3 & camara municipal & legislativa & tesouro & 152762472 & 1054541 & 35023 & 2002 & 9 & 411 & 43139.99 & 2012-12-15\\\\\n",
       "\\end{tabular}\n"
      ],
      "text/markdown": [
       "\n",
       "A grouped_df: 4 × 17\n",
       "\n",
       "| id &lt;int&gt; | ds_municipio &lt;chr&gt; | ds_orgao &lt;chr&gt; | cod_despesa &lt;chr&gt; | ano_exercicio &lt;dbl&gt; | quad &lt;int&gt; | tp_orgao &lt;chr&gt; | ds_funcao_governo &lt;chr&gt; | ds_fonte_recurso &lt;chr&gt; | RCL_defl &lt;dbl&gt; | pib_nominal &lt;dbl&gt; | populacao &lt;dbl&gt; | quantidade_total_vagas &lt;dbl&gt; | vereadores &lt;dbl&gt; | area &lt;dbl&gt; | vl_despesa_defl &lt;dbl&gt; | aprox_date &lt;date&gt; |\n",
       "|---|---|---|---|---|---|---|---|---|---|---|---|---|---|---|---|---|\n",
       "| 1 | adamantina | camara municipal de adamantina | 0101 | 2011 | 3 | camara municipal | legislativa | tesouro | 154390907 | 1054541 | 35023 | 2002 | 9 | 411 | 39612.48 | 2011-12-15 |\n",
       "| 1 | adamantina | camara municipal de adamantina | 0101 | 2011 | 1 | camara municipal | legislativa | tesouro | 154390907 | 1054541 | 35023 | 2002 | 9 | 411 | 38793.79 | 2011-04-15 |\n",
       "| 1 | adamantina | camara municipal de adamantina | 0101 | 2011 | 2 | camara municipal | legislativa | tesouro | 154390907 | 1054541 | 35023 | 2002 | 9 | 411 | 35685.52 | 2011-08-15 |\n",
       "| 1 | adamantina | camara municipal de adamantina | 0101 | 2012 | 3 | camara municipal | legislativa | tesouro | 152762472 | 1054541 | 35023 | 2002 | 9 | 411 | 43139.99 | 2012-12-15 |\n",
       "\n"
      ],
      "text/plain": [
       "  id ds_municipio ds_orgao                       cod_despesa ano_exercicio quad\n",
       "1 1  adamantina   camara municipal de adamantina 0101        2011          3   \n",
       "2 1  adamantina   camara municipal de adamantina 0101        2011          1   \n",
       "3 1  adamantina   camara municipal de adamantina 0101        2011          2   \n",
       "4 1  adamantina   camara municipal de adamantina 0101        2012          3   \n",
       "  tp_orgao         ds_funcao_governo ds_fonte_recurso RCL_defl  pib_nominal\n",
       "1 camara municipal legislativa       tesouro          154390907 1054541    \n",
       "2 camara municipal legislativa       tesouro          154390907 1054541    \n",
       "3 camara municipal legislativa       tesouro          154390907 1054541    \n",
       "4 camara municipal legislativa       tesouro          152762472 1054541    \n",
       "  populacao quantidade_total_vagas vereadores area vl_despesa_defl aprox_date\n",
       "1 35023     2002                   9          411  39612.48        2011-12-15\n",
       "2 35023     2002                   9          411  38793.79        2011-04-15\n",
       "3 35023     2002                   9          411  35685.52        2011-08-15\n",
       "4 35023     2002                   9          411  43139.99        2012-12-15"
      ]
     },
     "metadata": {},
     "output_type": "display_data"
    }
   ],
   "source": [
    "df_model <- df_model %>% group_by(ds_municipio, ds_orgao, cod_despesa) %>% mutate(id = cur_group_id()) %>% select(\n",
    "    id, ds_municipio, ds_orgao, cod_despesa, ano_exercicio, quad, tp_orgao, ds_funcao_governo, ds_fonte_recurso,\n",
    "    RCL_defl, pib_nominal, populacao, quantidade_total_vagas, vereadores, area, vl_despesa_defl, aprox_date\n",
    ") %>% arrange(id)\n",
    "head(df_model, 4)"
   ]
  }
 ],
 "metadata": {
  "kernelspec": {
   "display_name": "R",
   "language": "R",
   "name": "ir"
  },
  "language_info": {
   "codemirror_mode": "r",
   "file_extension": ".r",
   "mimetype": "text/x-r-source",
   "name": "R",
   "pygments_lexer": "r",
   "version": "4.3.2"
  }
 },
 "nbformat": 4,
 "nbformat_minor": 5
}
